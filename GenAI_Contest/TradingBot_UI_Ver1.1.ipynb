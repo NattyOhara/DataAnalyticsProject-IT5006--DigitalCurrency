{
  "cells": [
    {
      "cell_type": "markdown",
      "metadata": {
        "id": "2jYUUn1XDf18"
      },
      "source": [
        "## Preparation and set-up"
      ]
    },
    {
      "cell_type": "code",
      "execution_count": 1,
      "metadata": {
        "colab": {
          "base_uri": "https://localhost:8080/"
        },
        "id": "cm5rwFSEtObp",
        "outputId": "9a0f74f6-4141-44a6-d1dd-06ce1b44fe31"
      },
      "outputs": [
        {
          "output_type": "stream",
          "name": "stdout",
          "text": [
            "Mounted at /content/drive\n",
            "['/content', '/env/python', '/usr/lib/python310.zip', '/usr/lib/python3.10', '/usr/lib/python3.10/lib-dynload', '', '/usr/local/lib/python3.10/dist-packages', '/usr/lib/python3/dist-packages', '/usr/local/lib/python3.10/dist-packages/IPython/extensions', '/root/.ipython', '/content/drive/My Drive/Aegean_Investment']\n"
          ]
        }
      ],
      "source": [
        "#It's for google colab usage on google drive.\n",
        "#Ignore or change folder path that corresponds to your environment.\n",
        "from google.colab import drive\n",
        "drive.mount('/content/drive', force_remount=True)\n",
        "\n",
        "COLAB_PATH = '/content/drive/My Drive/Aegean_Investment'\n",
        "\n",
        "import sys, os\n",
        "sys.path.append(COLAB_PATH)\n",
        "print(sys.path)\n",
        "## change directory to the path above\n",
        "os.chdir(COLAB_PATH)"
      ]
    },
    {
      "cell_type": "code",
      "execution_count": 2,
      "metadata": {
        "id": "OvmDe0CSETxE",
        "colab": {
          "base_uri": "https://localhost:8080/"
        },
        "outputId": "4b44d44a-f071-4825-c7d5-2b90edeba9f4"
      },
      "outputs": [
        {
          "output_type": "stream",
          "name": "stdout",
          "text": [
            "Requirement already satisfied: streamlit in /usr/local/lib/python3.10/dist-packages (1.36.0)\n",
            "Requirement already satisfied: altair<6,>=4.0 in /usr/local/lib/python3.10/dist-packages (from streamlit) (4.2.2)\n",
            "Requirement already satisfied: blinker<2,>=1.0.0 in /usr/lib/python3/dist-packages (from streamlit) (1.4)\n",
            "Requirement already satisfied: cachetools<6,>=4.0 in /usr/local/lib/python3.10/dist-packages (from streamlit) (5.3.3)\n",
            "Requirement already satisfied: click<9,>=7.0 in /usr/local/lib/python3.10/dist-packages (from streamlit) (8.1.7)\n",
            "Requirement already satisfied: numpy<3,>=1.20 in /usr/local/lib/python3.10/dist-packages (from streamlit) (1.25.2)\n",
            "Requirement already satisfied: packaging<25,>=20 in /usr/local/lib/python3.10/dist-packages (from streamlit) (24.1)\n",
            "Requirement already satisfied: pandas<3,>=1.3.0 in /usr/local/lib/python3.10/dist-packages (from streamlit) (2.0.3)\n",
            "Requirement already satisfied: pillow<11,>=7.1.0 in /usr/local/lib/python3.10/dist-packages (from streamlit) (9.4.0)\n",
            "Requirement already satisfied: protobuf<6,>=3.20 in /usr/local/lib/python3.10/dist-packages (from streamlit) (5.27.2)\n",
            "Requirement already satisfied: pyarrow>=7.0 in /usr/local/lib/python3.10/dist-packages (from streamlit) (14.0.2)\n",
            "Requirement already satisfied: requests<3,>=2.27 in /usr/local/lib/python3.10/dist-packages (from streamlit) (2.31.0)\n",
            "Requirement already satisfied: rich<14,>=10.14.0 in /usr/local/lib/python3.10/dist-packages (from streamlit) (13.7.1)\n",
            "Requirement already satisfied: tenacity<9,>=8.1.0 in /usr/local/lib/python3.10/dist-packages (from streamlit) (8.4.2)\n",
            "Requirement already satisfied: toml<2,>=0.10.1 in /usr/local/lib/python3.10/dist-packages (from streamlit) (0.10.2)\n",
            "Requirement already satisfied: typing-extensions<5,>=4.3.0 in /usr/local/lib/python3.10/dist-packages (from streamlit) (4.12.2)\n",
            "Requirement already satisfied: gitpython!=3.1.19,<4,>=3.0.7 in /usr/local/lib/python3.10/dist-packages (from streamlit) (3.1.43)\n",
            "Requirement already satisfied: pydeck<1,>=0.8.0b4 in /usr/local/lib/python3.10/dist-packages (from streamlit) (0.9.1)\n",
            "Requirement already satisfied: tornado<7,>=6.0.3 in /usr/local/lib/python3.10/dist-packages (from streamlit) (6.3.3)\n",
            "Requirement already satisfied: watchdog<5,>=2.1.5 in /usr/local/lib/python3.10/dist-packages (from streamlit) (4.0.1)\n",
            "Requirement already satisfied: entrypoints in /usr/local/lib/python3.10/dist-packages (from altair<6,>=4.0->streamlit) (0.4)\n",
            "Requirement already satisfied: jinja2 in /usr/local/lib/python3.10/dist-packages (from altair<6,>=4.0->streamlit) (3.1.4)\n",
            "Requirement already satisfied: jsonschema>=3.0 in /usr/local/lib/python3.10/dist-packages (from altair<6,>=4.0->streamlit) (4.19.2)\n",
            "Requirement already satisfied: toolz in /usr/local/lib/python3.10/dist-packages (from altair<6,>=4.0->streamlit) (0.12.1)\n",
            "Requirement already satisfied: gitdb<5,>=4.0.1 in /usr/local/lib/python3.10/dist-packages (from gitpython!=3.1.19,<4,>=3.0.7->streamlit) (4.0.11)\n",
            "Requirement already satisfied: python-dateutil>=2.8.2 in /usr/local/lib/python3.10/dist-packages (from pandas<3,>=1.3.0->streamlit) (2.8.2)\n",
            "Requirement already satisfied: pytz>=2020.1 in /usr/local/lib/python3.10/dist-packages (from pandas<3,>=1.3.0->streamlit) (2023.4)\n",
            "Requirement already satisfied: tzdata>=2022.1 in /usr/local/lib/python3.10/dist-packages (from pandas<3,>=1.3.0->streamlit) (2024.1)\n",
            "Requirement already satisfied: charset-normalizer<4,>=2 in /usr/local/lib/python3.10/dist-packages (from requests<3,>=2.27->streamlit) (3.3.2)\n",
            "Requirement already satisfied: idna<4,>=2.5 in /usr/local/lib/python3.10/dist-packages (from requests<3,>=2.27->streamlit) (3.7)\n",
            "Requirement already satisfied: urllib3<3,>=1.21.1 in /usr/local/lib/python3.10/dist-packages (from requests<3,>=2.27->streamlit) (2.0.7)\n",
            "Requirement already satisfied: certifi>=2017.4.17 in /usr/local/lib/python3.10/dist-packages (from requests<3,>=2.27->streamlit) (2024.6.2)\n",
            "Requirement already satisfied: markdown-it-py>=2.2.0 in /usr/local/lib/python3.10/dist-packages (from rich<14,>=10.14.0->streamlit) (3.0.0)\n",
            "Requirement already satisfied: pygments<3.0.0,>=2.13.0 in /usr/local/lib/python3.10/dist-packages (from rich<14,>=10.14.0->streamlit) (2.16.1)\n",
            "Requirement already satisfied: smmap<6,>=3.0.1 in /usr/local/lib/python3.10/dist-packages (from gitdb<5,>=4.0.1->gitpython!=3.1.19,<4,>=3.0.7->streamlit) (5.0.1)\n",
            "Requirement already satisfied: MarkupSafe>=2.0 in /usr/local/lib/python3.10/dist-packages (from jinja2->altair<6,>=4.0->streamlit) (2.1.5)\n",
            "Requirement already satisfied: attrs>=22.2.0 in /usr/local/lib/python3.10/dist-packages (from jsonschema>=3.0->altair<6,>=4.0->streamlit) (23.2.0)\n",
            "Requirement already satisfied: jsonschema-specifications>=2023.03.6 in /usr/local/lib/python3.10/dist-packages (from jsonschema>=3.0->altair<6,>=4.0->streamlit) (2023.12.1)\n",
            "Requirement already satisfied: referencing>=0.28.4 in /usr/local/lib/python3.10/dist-packages (from jsonschema>=3.0->altair<6,>=4.0->streamlit) (0.35.1)\n",
            "Requirement already satisfied: rpds-py>=0.7.1 in /usr/local/lib/python3.10/dist-packages (from jsonschema>=3.0->altair<6,>=4.0->streamlit) (0.18.1)\n",
            "Requirement already satisfied: mdurl~=0.1 in /usr/local/lib/python3.10/dist-packages (from markdown-it-py>=2.2.0->rich<14,>=10.14.0->streamlit) (0.1.2)\n",
            "Requirement already satisfied: six>=1.5 in /usr/local/lib/python3.10/dist-packages (from python-dateutil>=2.8.2->pandas<3,>=1.3.0->streamlit) (1.16.0)\n"
          ]
        }
      ],
      "source": [
        "!pip install streamlit"
      ]
    },
    {
      "cell_type": "markdown",
      "metadata": {
        "id": "ez06s5LmQcQ5"
      },
      "source": [
        "## Streamlit code"
      ]
    },
    {
      "cell_type": "code",
      "execution_count": 15,
      "metadata": {
        "colab": {
          "base_uri": "https://localhost:8080/"
        },
        "id": "a5kmcNDgQfBu",
        "outputId": "8e04e56d-c9eb-46cc-a25e-ccc9f62c10a2"
      },
      "outputs": [
        {
          "output_type": "stream",
          "name": "stdout",
          "text": [
            "Overwriting /content/streamlit_sample.py\n"
          ]
        }
      ],
      "source": [
        "%%writefile  /content/streamlit_sample.py\n",
        "\n",
        "def main():\n",
        "  #Import libraries\n",
        "  import streamlit as st\n",
        "  import pandas as pd\n",
        "  from datetime import datetime\n",
        "\n",
        "  # Dummy function to simulate fetching recommendations based on the selected options\n",
        "  def fetch_recommendations(from_date, to_date, asset_class,strategy,\n",
        "                            region, recommendation,conviction):\n",
        "      # Simulated data for demonstration\n",
        "      data = [\n",
        "          {\"Product\": \"JGB 2Y\", \"Buy/Sell\": \"Buy\", \"Recommendation Date\": \"2024-06-05\", \"Summary of buy/sell rationale\": \"Some rationale.\"},\n",
        "          {\"Product\": \"US Treasury\", \"Buy/Sell\": \"Sell\", \"Recommendation Date\": \"2024-06-17\", \"Summary of buy/sell rationale\": \"Some rationale.\"}\n",
        "      ]\n",
        "\n",
        "      # Convert to DataFrame\n",
        "      df = pd.DataFrame(data)\n",
        "\n",
        "      # Filter data (dummy filter as an example, modify based on actual logic)\n",
        "      filtered_df = df[(df[\"Recommendation Date\"] >= from_date.strftime('%Y-%m-%d')) &\n",
        "                      (df[\"Recommendation Date\"] <= to_date.strftime('%Y-%m-%d'))]\n",
        "\n",
        "      return filtered_df\n",
        "\n",
        "  # Streamlit app UI\n",
        "  st.title(\"Trading Bot\")\n",
        "\n",
        "  # Date selection\n",
        "  from_date = st.date_input(\"From date\", value=datetime(2024, 6, 1))\n",
        "  to_date = st.date_input(\"To date\", value=datetime(2024, 6, 30))\n",
        "\n",
        "  # Asset class selection\n",
        "  asset_class = st.selectbox(\"Asset Class\", [\"Rates (FI)\", \"FX\", \"Credit\", \"Equity (Index)\",\"All\"])\n",
        "\n",
        "  # Strategy selection\n",
        "  strategy = st.selectbox(\"Strategy\", [\"Outright\", \"Curve\", \"ASW\",\"All\"])\n",
        "\n",
        "  # Region selection\n",
        "  region = st.selectbox(\"Region\", [\"Japan\", \"US\", \"EMEA\", \"Asia ex-Japan\",\"All\"])\n",
        "\n",
        "  # Recommendation type selection\n",
        "  recommendation = st.selectbox(\"Recommendation\", [\"Buy\", \"Sell\", \"All\"])\n",
        "\n",
        "  # Recommendation conviction selection\n",
        "  conviction = st.selectbox(\"Conviction\", [\"5\", \"4-5\",\"3-5\",\"2-5\",\"1-5\",\"All\"])\n",
        "\n",
        "  # Fetch and display recommendations when the button is clicked\n",
        "  if st.button(\"Fetch Recommendations\"):\n",
        "      if from_date > to_date:\n",
        "          st.error(\"Error: 'From date' must be before 'To date'\")\n",
        "      else:\n",
        "          recommendations = fetch_recommendations(from_date, to_date, asset_class,\n",
        "                                                  strategy, region, recommendation,\n",
        "                                                  conviction)\n",
        "          if not recommendations.empty:\n",
        "              st.write(\"Answer from TradingBot:\")\n",
        "              st.dataframe(recommendations)\n",
        "          else:\n",
        "              st.write(\"No recommendations found for the selected period and criteria.\")\n",
        "\n",
        "if __name__ == '__main__':\n",
        "    main()"
      ]
    },
    {
      "cell_type": "markdown",
      "metadata": {
        "id": "y2c98RxkM4Ae"
      },
      "source": [
        "## Run streamlit on google colab"
      ]
    },
    {
      "cell_type": "code",
      "execution_count": 18,
      "metadata": {
        "id": "aGxKfwGsDFUX",
        "colab": {
          "base_uri": "https://localhost:8080/"
        },
        "outputId": "935eb656-9bb2-41fa-947c-bea229b72240"
      },
      "outputs": [
        {
          "output_type": "stream",
          "name": "stdout",
          "text": [
            "Requirement already satisfied: protobuf in /usr/local/lib/python3.10/dist-packages (5.27.2)\n"
          ]
        }
      ],
      "source": [
        "!pip install --upgrade protobuf"
      ]
    },
    {
      "cell_type": "code",
      "execution_count": 19,
      "metadata": {
        "colab": {
          "base_uri": "https://localhost:8080/",
          "height": 17
        },
        "id": "-pdKYhrnTbzj",
        "outputId": "862a8828-abb4-41a7-92bc-4283b6eeaaee"
      },
      "outputs": [
        {
          "output_type": "display_data",
          "data": {
            "text/plain": [
              "<IPython.core.display.Javascript object>"
            ],
            "application/javascript": [
              "\n",
              "      ((filepath) => {{\n",
              "        if (!google.colab.kernel.accessAllowed) {{\n",
              "          return;\n",
              "        }}\n",
              "        google.colab.files.view(filepath);\n",
              "      }})(\"/content/streamlit_sample.py\")"
            ]
          },
          "metadata": {}
        }
      ],
      "source": [
        "from google.colab import files\n",
        "files.view(\"/content/streamlit_sample.py\")"
      ]
    },
    {
      "cell_type": "code",
      "execution_count": 20,
      "metadata": {
        "colab": {
          "base_uri": "https://localhost:8080/"
        },
        "id": "ECwysiDPCpk9",
        "outputId": "8410ce87-027d-4bb8-ffc2-cf3cc1561e17"
      },
      "outputs": [
        {
          "output_type": "stream",
          "name": "stdout",
          "text": [
            "\n",
            "Collecting usage statistics. To deactivate, set browser.gatherUsageStats to false.\n",
            "\u001b[0m\n",
            "\u001b[0m\n",
            "\u001b[34m\u001b[1m  You can now view your Streamlit app in your browser.\u001b[0m\n",
            "\u001b[0m\n",
            "\u001b[34m  Local URL: \u001b[0m\u001b[1mhttp://localhost:8501\u001b[0m\n",
            "\u001b[34m  Network URL: \u001b[0m\u001b[1mhttp://172.28.0.12:8501\u001b[0m\n",
            "\u001b[34m  External URL: \u001b[0m\u001b[1mhttp://104.155.206.146:8501\u001b[0m\n",
            "\u001b[0m\n",
            "\u001b[K\u001b[?25hnpx: installed 22 in 1.84s\n",
            "your url is: https://plain-cups-teach.loca.lt\n",
            "\u001b[34m  Stopping...\u001b[0m\n",
            "^C\n"
          ]
        }
      ],
      "source": [
        "!streamlit run /content/streamlit_sample.py & sleep 5 && npx localtunnel --port 8501"
      ]
    },
    {
      "cell_type": "code",
      "execution_count": null,
      "metadata": {
        "id": "ilDpimZrOn_K"
      },
      "outputs": [],
      "source": []
    }
  ],
  "metadata": {
    "colab": {
      "provenance": [],
      "toc_visible": true
    },
    "kernelspec": {
      "display_name": "Python 3",
      "language": "python",
      "name": "python3"
    },
    "language_info": {
      "codemirror_mode": {
        "name": "ipython",
        "version": 3
      },
      "file_extension": ".py",
      "mimetype": "text/x-python",
      "name": "python",
      "nbconvert_exporter": "python",
      "pygments_lexer": "ipython3",
      "version": "3.8.4"
    }
  },
  "nbformat": 4,
  "nbformat_minor": 0
}