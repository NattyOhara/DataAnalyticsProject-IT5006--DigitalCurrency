{
  "nbformat": 4,
  "nbformat_minor": 0,
  "metadata": {
    "kernelspec": {
      "display_name": "Python 3",
      "language": "python",
      "name": "python3"
    },
    "language_info": {
      "codemirror_mode": {
        "name": "ipython",
        "version": 3
      },
      "file_extension": ".py",
      "mimetype": "text/x-python",
      "name": "python",
      "nbconvert_exporter": "python",
      "pygments_lexer": "ipython3",
      "version": "3.8.4"
    },
    "colab": {
      "provenance": []
    }
  },
  "cells": [
    {
      "cell_type": "markdown",
      "metadata": {
        "id": "2jYUUn1XDf18"
      },
      "source": [
        "## Preparation and set-up"
      ]
    },
    {
      "cell_type": "code",
      "metadata": {
        "id": "cm5rwFSEtObp",
        "colab": {
          "base_uri": "https://localhost:8080/"
        },
        "outputId": "23ef7555-44f9-46cf-9058-7d5cf5084a71"
      },
      "source": [
        "#It's for google colab usage on google drive.\n",
        "#Ignore or change folder path that corresponds to your environment.\n",
        "from google.colab import drive\n",
        "drive.mount('/content/drive', force_remount=True)\n",
        "\n",
        "COLAB_PATH = '/content/drive/My Drive/Aegean_Investment'\n",
        "\n",
        "import sys, os\n",
        "sys.path.append(COLAB_PATH)\n",
        "print(sys.path)\n",
        "## change directory to the path above\n",
        "os.chdir(COLAB_PATH)"
      ],
      "execution_count": 1,
      "outputs": [
        {
          "output_type": "stream",
          "name": "stdout",
          "text": [
            "Mounted at /content/drive\n",
            "['/content', '/env/python', '/usr/lib/python310.zip', '/usr/lib/python3.10', '/usr/lib/python3.10/lib-dynload', '', '/usr/local/lib/python3.10/dist-packages', '/usr/lib/python3/dist-packages', '/usr/local/lib/python3.10/dist-packages/IPython/extensions', '/root/.ipython', '/content/drive/My Drive/Aegean_Investment']\n"
          ]
        }
      ]
    },
    {
      "cell_type": "code",
      "metadata": {
        "id": "OvmDe0CSETxE"
      },
      "source": [
        "#!pip install streamlit"
      ],
      "execution_count": 2,
      "outputs": []
    },
    {
      "cell_type": "markdown",
      "metadata": {
        "id": "ez06s5LmQcQ5"
      },
      "source": [
        "## Streamlit code"
      ]
    },
    {
      "cell_type": "code",
      "metadata": {
        "id": "a5kmcNDgQfBu",
        "colab": {
          "base_uri": "https://localhost:8080/"
        },
        "outputId": "7064bd68-85b3-40bc-c8de-d1e5b3a0b357"
      },
      "source": [
        "%%writefile  /content/streamlit_sample.py\n",
        "\n",
        "def main():\n",
        "  #Import libraries\n",
        "  import streamlit as st\n",
        "  import pandas as pd\n",
        "  from datetime import datetime\n",
        "\n",
        "  # Dummy function to simulate fetching recommendations based on the selected options\n",
        "  def fetch_recommendations(from_date, to_date, asset_class, region, recommendation):\n",
        "      # Simulated data for demonstration\n",
        "      data = [\n",
        "          {\"Product\": \"JGB 2Y\", \"Buy/Sell\": \"Buy\", \"Recommendation Date\": \"2024-06-05\", \"Summary of buy/sell rationale\": \"Some rationale.\"},\n",
        "          {\"Product\": \"US Treasury\", \"Buy/Sell\": \"Sell\", \"Recommendation Date\": \"2024-06-17\", \"Summary of buy/sell rationale\": \"Some rationale.\"}\n",
        "      ]\n",
        "\n",
        "      # Convert to DataFrame\n",
        "      df = pd.DataFrame(data)\n",
        "\n",
        "      # Filter data (dummy filter as an example, modify based on actual logic)\n",
        "      filtered_df = df[(df[\"Recommendation Date\"] >= from_date.strftime('%Y-%m-%d')) &\n",
        "                      (df[\"Recommendation Date\"] <= to_date.strftime('%Y-%m-%d'))]\n",
        "\n",
        "      return filtered_df\n",
        "\n",
        "  # Streamlit app UI\n",
        "  st.title(\"Trading Bot\")\n",
        "\n",
        "  # Date selection\n",
        "  from_date = st.date_input(\"From date\", value=datetime(2024, 6, 1))\n",
        "  to_date = st.date_input(\"To date\", value=datetime(2024, 6, 30))\n",
        "\n",
        "  # Asset class selection\n",
        "  asset_class = st.selectbox(\"Asset Class\", [\"FI-Investment Grade\", \"FI-High Yield\", \"FX-USDJPY\", \"FX-EURJPY\", \"Commodity-Gold\", \"Commodity-Oil\"])\n",
        "\n",
        "  # Region selection\n",
        "  region = st.selectbox(\"Region\", [\"Japan\", \"US\", \"EMEA\", \"Asia ex-Japan\"])\n",
        "\n",
        "  # Recommendation type selection\n",
        "  recommendation = st.selectbox(\"Recommendation\", [\"Buy\", \"Sell\", \"Buy/Sell\"])\n",
        "\n",
        "  # Fetch and display recommendations when the button is clicked\n",
        "  if st.button(\"Fetch Recommendations\"):\n",
        "      if from_date > to_date:\n",
        "          st.error(\"Error: 'From date' must be before 'To date'\")\n",
        "      else:\n",
        "          recommendations = fetch_recommendations(from_date, to_date, asset_class, region, recommendation)\n",
        "          if not recommendations.empty:\n",
        "              st.write(\"Answer from TradingBot:\")\n",
        "              st.dataframe(recommendations)\n",
        "          else:\n",
        "              st.write(\"No recommendations found for the selected period and criteria.\")\n",
        "\n",
        "if __name__ == '__main__':\n",
        "    main()"
      ],
      "execution_count": 3,
      "outputs": [
        {
          "output_type": "stream",
          "name": "stdout",
          "text": [
            "Overwriting /content/streamlit_sample.py\n"
          ]
        }
      ]
    },
    {
      "cell_type": "code",
      "source": [
        "%%writefile /content/stsample.py\n",
        "\n",
        "def main():\n",
        "  #Import libraries\n",
        "  import streamlit as st\n",
        "  st.title('Google ColabでStreamlitをlocaltunnelで動かす方法')\n",
        "\n",
        "if __name__ == '__main__':\n",
        "    main()"
      ],
      "metadata": {
        "colab": {
          "base_uri": "https://localhost:8080/"
        },
        "id": "Y-wTmKKQFxIK",
        "outputId": "30fede1d-eed1-4a40-9523-b84699778c0c"
      },
      "execution_count": 4,
      "outputs": [
        {
          "output_type": "stream",
          "name": "stdout",
          "text": [
            "Overwriting /content/stsample.py\n"
          ]
        }
      ]
    },
    {
      "cell_type": "markdown",
      "source": [
        "## Run streamlit on google colab"
      ],
      "metadata": {
        "id": "y2c98RxkM4Ae"
      }
    },
    {
      "cell_type": "code",
      "source": [
        "#!pip install --upgrade protobuf"
      ],
      "metadata": {
        "id": "aGxKfwGsDFUX"
      },
      "execution_count": 5,
      "outputs": []
    },
    {
      "cell_type": "code",
      "metadata": {
        "id": "-pdKYhrnTbzj",
        "colab": {
          "base_uri": "https://localhost:8080/",
          "height": 17
        },
        "outputId": "6931ee0d-89da-4ad2-c51b-114873191996"
      },
      "source": [
        "from google.colab import files\n",
        "files.view(\"/content/streamlit_sample.py\")"
      ],
      "execution_count": 6,
      "outputs": [
        {
          "output_type": "display_data",
          "data": {
            "text/plain": [
              "<IPython.core.display.Javascript object>"
            ],
            "application/javascript": [
              "\n",
              "      ((filepath) => {{\n",
              "        if (!google.colab.kernel.accessAllowed) {{\n",
              "          return;\n",
              "        }}\n",
              "        google.colab.files.view(filepath);\n",
              "      }})(\"/content/streamlit_sample.py\")"
            ]
          },
          "metadata": {}
        }
      ]
    },
    {
      "cell_type": "code",
      "source": [
        "!streamlit run streamlit_sample.py & sleep 5 && npx localtunnel --port 8501"
      ],
      "metadata": {
        "colab": {
          "base_uri": "https://localhost:8080/"
        },
        "id": "ECwysiDPCpk9",
        "outputId": "ec31190f-dc88-42b0-a92e-c17e1118f7fc"
      },
      "execution_count": null,
      "outputs": [
        {
          "output_type": "stream",
          "name": "stdout",
          "text": [
            "\n",
            "Collecting usage statistics. To deactivate, set browser.gatherUsageStats to false.\n",
            "\u001b[0m\n",
            "\u001b[0m\n",
            "\u001b[34m\u001b[1m  You can now view your Streamlit app in your browser.\u001b[0m\n",
            "\u001b[0m\n",
            "\u001b[34m  Local URL: \u001b[0m\u001b[1mhttp://localhost:8501\u001b[0m\n",
            "\u001b[34m  Network URL: \u001b[0m\u001b[1mhttp://172.28.0.12:8501\u001b[0m\n",
            "\u001b[34m  External URL: \u001b[0m\u001b[1mhttp://35.247.81.39:8501\u001b[0m\n",
            "\u001b[0m\n",
            "\u001b[K\u001b[?25hnpx: installed 22 in 1.734s\n",
            "your url is: https://ready-eels-watch.loca.lt\n"
          ]
        }
      ]
    },
    {
      "cell_type": "code",
      "source": [],
      "metadata": {
        "id": "ilDpimZrOn_K"
      },
      "execution_count": null,
      "outputs": []
    }
  ]
}