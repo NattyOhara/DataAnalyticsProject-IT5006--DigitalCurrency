{
  "nbformat": 4,
  "nbformat_minor": 0,
  "metadata": {
    "colab": {
      "name": "Tutorial 1.ipynb",
      "provenance": [],
      "collapsed_sections": []
    },
    "kernelspec": {
      "display_name": "Python 3",
      "language": "python",
      "name": "python3"
    },
    "language_info": {
      "codemirror_mode": {
        "name": "ipython",
        "version": 3
      },
      "file_extension": ".py",
      "mimetype": "text/x-python",
      "name": "python",
      "nbconvert_exporter": "python",
      "pygments_lexer": "ipython3",
      "version": "3.9.1"
    }
  },
  "cells": [
    {
      "cell_type": "code",
      "metadata": {
        "colab": {
          "base_uri": "https://localhost:8080/"
        },
        "id": "CY-fQFHTeVwy",
        "outputId": "cf2819b3-bdb8-47d7-8d91-812e71bba7c5"
      },
      "source": [
        "#It's for google colab usage on google drive.\n",
        "from google.colab import drive \n",
        "drive.mount('/content/drive', force_remount=True)"
      ],
      "execution_count": null,
      "outputs": [
        {
          "output_type": "stream",
          "text": [
            "Mounted at /content/drive\n"
          ],
          "name": "stdout"
        }
      ]
    },
    {
      "cell_type": "code",
      "metadata": {
        "id": "ACe803IReg2W"
      },
      "source": [
        "COLAB_PATH = './drive/My Drive/IT5006'\n",
        "import sys\n",
        "sys.path.append(COLAB_PATH)"
      ],
      "execution_count": null,
      "outputs": []
    },
    {
      "cell_type": "markdown",
      "metadata": {
        "id": "Ql00iCVHrhLb"
      },
      "source": [
        "# Introduction to Python\n",
        "\n",
        "## Learning Outcomes\n",
        "\n",
        "\n",
        "1.   Get acquainted with Jupyter \n",
        "2.   Basic Python data structures\n",
        "3.   Writing conditionals\n",
        "3.   Writing functions\n",
        "4.   Iteration and Recursion\n",
        "5.   Classes in Python\n",
        "\n",
        "\n",
        "\n"
      ]
    },
    {
      "cell_type": "markdown",
      "metadata": {
        "id": "bMCXck2yuH75"
      },
      "source": [
        "Contents of this tutorial are based on [Python 3 tutorial ](https://docs.python.org/3/tutorial/index.html). You are highly encouraged to refer to the link for a more comprehensive introduction to Python."
      ]
    },
    {
      "cell_type": "markdown",
      "metadata": {
        "id": "gO7wKZdztizz"
      },
      "source": [
        "# Basic Python Data Structures and Functionality\n",
        "\n",
        "## Calculations, printing and importing\n",
        "\n",
        "### Writing Hello World"
      ]
    },
    {
      "cell_type": "code",
      "metadata": {
        "colab": {
          "base_uri": "https://localhost:8080/"
        },
        "id": "dymGMJdQuQzm",
        "outputId": "61851fa3-73f7-4e47-b854-c2b63e72c05e"
      },
      "source": [
        "print(\"Hello World\")"
      ],
      "execution_count": null,
      "outputs": [
        {
          "output_type": "stream",
          "text": [
            "Hello World\n"
          ],
          "name": "stdout"
        }
      ]
    },
    {
      "cell_type": "markdown",
      "metadata": {
        "id": "4Nejmi9E_jKw"
      },
      "source": [
        "You can also directly store the string, using single or double quotes and use the print statements."
      ]
    },
    {
      "cell_type": "code",
      "metadata": {
        "colab": {
          "base_uri": "https://localhost:8080/"
        },
        "id": "QD2yWWoy_vt4",
        "outputId": "99c7b9fe-5ced-487f-8b4c-81fafb46c06a"
      },
      "source": [
        "s1 = \"Hello World\"\n",
        "s2 = 'Hello World'\n",
        "\n",
        "print(s1)\n",
        "print(s2)"
      ],
      "execution_count": null,
      "outputs": [
        {
          "output_type": "stream",
          "text": [
            "Hello World\n",
            "Hello World\n"
          ],
          "name": "stdout"
        }
      ]
    },
    {
      "cell_type": "markdown",
      "metadata": {
        "id": "m9CxwPAFuTDs"
      },
      "source": [
        "### Calculations\n",
        "\n",
        "Python supports most calculations out of the box. You can do the calculations directly, or define them using variables too."
      ]
    },
    {
      "cell_type": "code",
      "metadata": {
        "colab": {
          "base_uri": "https://localhost:8080/"
        },
        "id": "Qh8hpZjBuhds",
        "outputId": "d4973bac-6ac0-4caf-c110-94546eae9316"
      },
      "source": [
        "(3*3)+2/4"
      ],
      "execution_count": null,
      "outputs": [
        {
          "output_type": "execute_result",
          "data": {
            "text/plain": [
              "9.5"
            ]
          },
          "metadata": {
            "tags": []
          },
          "execution_count": 5
        }
      ]
    },
    {
      "cell_type": "code",
      "metadata": {
        "colab": {
          "base_uri": "https://localhost:8080/"
        },
        "id": "koBmLVBauvlG",
        "outputId": "d271496a-231b-4e52-cac6-0f555991aa03"
      },
      "source": [
        "a = (3*3)\n",
        "b = 2/4\n",
        "print(a+b)"
      ],
      "execution_count": null,
      "outputs": [
        {
          "output_type": "stream",
          "text": [
            "9.5\n"
          ],
          "name": "stdout"
        }
      ]
    },
    {
      "cell_type": "markdown",
      "metadata": {
        "id": "EN85sW86AQ_K"
      },
      "source": [
        "The ```/``` operator always returns float division result. If you want to get the floor value of the operation, ```//``` has to be used. "
      ]
    },
    {
      "cell_type": "code",
      "metadata": {
        "colab": {
          "base_uri": "https://localhost:8080/"
        },
        "id": "gw530gekAa0j",
        "outputId": "106b94c9-206f-4b43-ac8a-5a7ad5d9c36f"
      },
      "source": [
        "print(3/4)\n",
        "print(3//4)"
      ],
      "execution_count": null,
      "outputs": [
        {
          "output_type": "stream",
          "text": [
            "0.75\n",
            "0\n"
          ],
          "name": "stdout"
        }
      ]
    },
    {
      "cell_type": "markdown",
      "metadata": {
        "id": "Y33isN1G_Twp"
      },
      "source": [
        "The operator ```**``` is used to calculate powers."
      ]
    },
    {
      "cell_type": "code",
      "metadata": {
        "colab": {
          "base_uri": "https://localhost:8080/"
        },
        "id": "P1dmxpRc_PEw",
        "outputId": "26fcfb26-290c-402f-ac05-4c94dc9aab1f"
      },
      "source": [
        "c = a+b \n",
        "print(c**3)"
      ],
      "execution_count": null,
      "outputs": [
        {
          "output_type": "stream",
          "text": [
            "857.375\n"
          ],
          "name": "stdout"
        }
      ]
    },
    {
      "cell_type": "markdown",
      "metadata": {
        "id": "dhXcp1a36DYi"
      },
      "source": [
        "## Importing Libraries and Functions\n",
        "\n",
        "You can import the libraries from python in its entirety using the **import** command."
      ]
    },
    {
      "cell_type": "code",
      "metadata": {
        "id": "978w2fdZ6ktb"
      },
      "source": [
        "import math"
      ],
      "execution_count": null,
      "outputs": []
    },
    {
      "cell_type": "markdown",
      "metadata": {
        "id": "jkDNLzrd6nIo"
      },
      "source": [
        "This will import all the functions available in the \"math\" package. These functions can be then used in following way:\n",
        "\n",
        "e.g. to calculate the cosine of a value contained in the variable *a*."
      ]
    },
    {
      "cell_type": "code",
      "metadata": {
        "colab": {
          "base_uri": "https://localhost:8080/"
        },
        "id": "igu87R94fPHF",
        "outputId": "8ad25d73-58cd-47ed-d14b-bcce18eb9eeb"
      },
      "source": [
        "a"
      ],
      "execution_count": null,
      "outputs": [
        {
          "output_type": "execute_result",
          "data": {
            "text/plain": [
              "9"
            ]
          },
          "metadata": {
            "tags": []
          },
          "execution_count": 11
        }
      ]
    },
    {
      "cell_type": "code",
      "metadata": {
        "colab": {
          "base_uri": "https://localhost:8080/"
        },
        "id": "OVg8LUY966Yp",
        "outputId": "3a6fb6ea-2ecc-4253-b15f-2c27dc5d4716"
      },
      "source": [
        "math.cos(a)"
      ],
      "execution_count": null,
      "outputs": [
        {
          "output_type": "execute_result",
          "data": {
            "text/plain": [
              "-0.9111302618846769"
            ]
          },
          "metadata": {
            "tags": []
          },
          "execution_count": 10
        }
      ]
    },
    {
      "cell_type": "markdown",
      "metadata": {
        "id": "nnuVfbNn7Ddo"
      },
      "source": [
        "Alternatively, when we want to import only specific functions from the module, we can use the \"**from ... import ...**\" syntax."
      ]
    },
    {
      "cell_type": "code",
      "metadata": {
        "colab": {
          "base_uri": "https://localhost:8080/"
        },
        "id": "FiEFFrJU7X2k",
        "outputId": "a9dfbd4d-dfa6-4606-f99b-679de26cc0a8"
      },
      "source": [
        "from math import cos\n",
        "\n",
        "print(cos(a))"
      ],
      "execution_count": null,
      "outputs": [
        {
          "output_type": "stream",
          "text": [
            "-0.9111302618846769\n"
          ],
          "name": "stdout"
        }
      ]
    },
    {
      "cell_type": "markdown",
      "metadata": {
        "id": "kPVoKP1T7dMx"
      },
      "source": [
        "## Data Structures\n",
        "\n",
        "Python has some compound data types, such as lists and dictionaries, which are essentially used to group together different values. In this tutorial, we will go over lists, tuples and dictionaries. \n",
        "\n",
        "### Lists\n",
        "Lists is comma-separated data structure which may contain items of different types."
      ]
    },
    {
      "cell_type": "code",
      "metadata": {
        "id": "1_nc89pVTznA"
      },
      "source": [
        "lst1 = [1,2,3]\n",
        "lst2 = ['a', 2, \"sdt\"]"
      ],
      "execution_count": null,
      "outputs": []
    },
    {
      "cell_type": "markdown",
      "metadata": {
        "id": "oCiTakt2T_ns"
      },
      "source": [
        "The items from list can be accesse by using indices starting with 0, such as:\n",
        "\n",
        "\n",
        "\n",
        "```\n",
        "                     | - | - | - |\n",
        " lst1                | 1 | 2 | 3 |\n",
        " indices             | 0 | 1 | 2 |\n",
        " reverse indices     |-3 |-2 |-1 |\n",
        "```\n",
        "\n",
        "In addition to indexing, python also supports slicing. It is generally denoted by start and end index, such that the start index is included and end index is excluded. Slicing can also include stepping size, which can be used for step size, and direction specification. "
      ]
    },
    {
      "cell_type": "code",
      "metadata": {
        "colab": {
          "base_uri": "https://localhost:8080/"
        },
        "id": "ekhTGLgOT-jh",
        "outputId": "59d5dde4-eeff-4cfd-f511-dfa828edab23"
      },
      "source": [
        "print(lst1[:1])\n",
        "print(lst1[-2:])\n",
        "print(lst1[::-1])"
      ],
      "execution_count": null,
      "outputs": [
        {
          "output_type": "stream",
          "text": [
            "[1]\n",
            "[2, 3]\n",
            "[3, 2, 1]\n"
          ],
          "name": "stdout"
        }
      ]
    },
    {
      "cell_type": "markdown",
      "metadata": {
        "id": "s7oJNx-nVa-q"
      },
      "source": [
        "It is interesting to note that this concept of slicing and indexing also applies to strings. You can think of each character in the string like an element in the list."
      ]
    },
    {
      "cell_type": "code",
      "metadata": {
        "colab": {
          "base_uri": "https://localhost:8080/"
        },
        "id": "6pmVHry8Vp1x",
        "outputId": "1fa5c1bb-8c2e-4011-f6ce-f9aba23f5c7e"
      },
      "source": [
        "a = \"Python is an easy language\"\n",
        "print(a[:12])\n",
        "print(a[-3])"
      ],
      "execution_count": null,
      "outputs": [
        {
          "output_type": "stream",
          "text": [
            "Python is an\n",
            "a\n"
          ],
          "name": "stdout"
        }
      ]
    },
    {
      "cell_type": "markdown",
      "metadata": {
        "id": "osvkzvlsWIU-"
      },
      "source": [
        "Functions can be applied to lists directly - such as finding length of the list. The function ```len``` is used to find the number of elements inside a container (which may also be tuple or dictionary)."
      ]
    },
    {
      "cell_type": "code",
      "metadata": {
        "colab": {
          "base_uri": "https://localhost:8080/"
        },
        "id": "6w9RwztaWPW9",
        "outputId": "ad1336bb-6f32-4003-bdc3-7855a43ad17f"
      },
      "source": [
        "len(lst1)"
      ],
      "execution_count": null,
      "outputs": [
        {
          "output_type": "execute_result",
          "data": {
            "text/plain": [
              "3"
            ]
          },
          "metadata": {
            "tags": []
          },
          "execution_count": 16
        }
      ]
    },
    {
      "cell_type": "markdown",
      "metadata": {
        "id": "SOlcSWxYWXi3"
      },
      "source": [
        "You can add two lists to create a new list. Similarly, you can append or extend lists as well. "
      ]
    },
    {
      "cell_type": "code",
      "metadata": {
        "colab": {
          "base_uri": "https://localhost:8080/"
        },
        "id": "y9Jln2dFWdF7",
        "outputId": "2e47f91b-113a-49a5-b8ba-414a8236bf2f"
      },
      "source": [
        "lst3 = lst1 + lst2\n",
        "print(lst3)"
      ],
      "execution_count": null,
      "outputs": [
        {
          "output_type": "stream",
          "text": [
            "[1, 2, 3, 'a', 2, 'sdt']\n"
          ],
          "name": "stdout"
        }
      ]
    },
    {
      "cell_type": "code",
      "metadata": {
        "colab": {
          "base_uri": "https://localhost:8080/"
        },
        "id": "7kAtv_SnWiwP",
        "outputId": "3dbf6fc2-d9fe-4528-c2b4-ff2065c6476d"
      },
      "source": [
        "lst4 = [] #defining empty list\n",
        "lst4.append(lst1)\n",
        "lst4.append(lst2)\n",
        "print(lst4)"
      ],
      "execution_count": null,
      "outputs": [
        {
          "output_type": "stream",
          "text": [
            "[[1, 2, 3], ['a', 2, 'sdt']]\n"
          ],
          "name": "stdout"
        }
      ]
    },
    {
      "cell_type": "code",
      "metadata": {
        "colab": {
          "base_uri": "https://localhost:8080/"
        },
        "id": "_KrfHP3uWsNo",
        "outputId": "2fb9e9d5-b15b-4a3c-f855-72c467a45cbd"
      },
      "source": [
        "lst5 = list() #defining empty list\n",
        "lst5.extend(lst1)\n",
        "lst5.extend(lst2)\n",
        "print(lst5)"
      ],
      "execution_count": null,
      "outputs": [
        {
          "output_type": "stream",
          "text": [
            "[1, 2, 3, 'a', 2, 'sdt']\n"
          ],
          "name": "stdout"
        }
      ]
    },
    {
      "cell_type": "markdown",
      "metadata": {
        "id": "jPcpFucTXDSt"
      },
      "source": [
        "Similarly there are many options like removing elements from list, counting the number of items, reversing list, etc. You can refer to the python tutorial link provided or the documentation to get acquainted to many such functions. "
      ]
    },
    {
      "cell_type": "markdown",
      "metadata": {
        "id": "6Z6mGsWlXh9K"
      },
      "source": [
        "At this point we can note that these methods, such as append, extend, insert, etc. are available for the list object. But, there are other functions such as ```len()``` (introduced earlier), which are not functions of the class list, but operate on the objects. Another such functionality is provided by ```del``` and ```sorted```. "
      ]
    },
    {
      "cell_type": "code",
      "metadata": {
        "colab": {
          "base_uri": "https://localhost:8080/"
        },
        "id": "jSPMfHA9Yhb6",
        "outputId": "ce2eadaa-9881-4340-a2dc-06a854db8970"
      },
      "source": [
        "del lst5[3]\n",
        "print(lst5)\n",
        "print(sorted([3,9,4,2])) #sorting is only possible when all items are of same type"
      ],
      "execution_count": null,
      "outputs": [
        {
          "output_type": "stream",
          "text": [
            "[1, 2, 3, 2, 'sdt']\n",
            "[2, 3, 4, 9]\n"
          ],
          "name": "stdout"
        }
      ]
    },
    {
      "cell_type": "markdown",
      "metadata": {
        "id": "TZB3mtQsZLqt"
      },
      "source": [
        "### Dictionary\n",
        "\n",
        "Dictionary are used for creating mapping structures. While lists store sequences, dictionaries are used to find \"values\" by their set of \"keys\"."
      ]
    },
    {
      "cell_type": "code",
      "metadata": {
        "colab": {
          "base_uri": "https://localhost:8080/"
        },
        "id": "iiWNWqpJaR2W",
        "outputId": "08a8168e-ae74-4fc3-a50c-605f616eff40"
      },
      "source": [
        "dict1 = dict()\n",
        "dict2 = {'apples':2, 'oranges':3}\n",
        "\n",
        "dict1[4] = 'four'\n",
        "dict1[7] = 'seven'\n",
        "\n",
        "print(dict1)\n",
        "print(dict2)"
      ],
      "execution_count": null,
      "outputs": [
        {
          "output_type": "stream",
          "text": [
            "{4: 'four', 7: 'seven'}\n",
            "{'apples': 2, 'oranges': 3}\n"
          ],
          "name": "stdout"
        }
      ]
    },
    {
      "cell_type": "markdown",
      "metadata": {
        "id": "fxeLMHjTaoDt"
      },
      "source": [
        "You can check if a particular item is present in the dictionary by using the statement \"**... in ...**\". Note that this is also applicable to lists."
      ]
    },
    {
      "cell_type": "code",
      "metadata": {
        "colab": {
          "base_uri": "https://localhost:8080/"
        },
        "id": "NHxzC-qcanD-",
        "outputId": "376fbdb4-e351-49dd-cead-669459628435"
      },
      "source": [
        "print(4 in dict1)\n",
        "print(4 in lst1)"
      ],
      "execution_count": null,
      "outputs": [
        {
          "output_type": "stream",
          "text": [
            "True\n",
            "False\n"
          ],
          "name": "stdout"
        }
      ]
    },
    {
      "cell_type": "markdown",
      "metadata": {
        "id": "-ESFJl2Z0WB_"
      },
      "source": [
        "### Tuples\n",
        "List and dictionaries are called *mutable*, while Tuples are not mutable. This means that we cannot change the content of a tuple after it has been created."
      ]
    },
    {
      "cell_type": "code",
      "metadata": {
        "colab": {
          "base_uri": "https://localhost:8080/"
        },
        "id": "_ppUIYPy0q5q",
        "outputId": "f6de5ea0-61af-4273-d96e-a10cde5e7f06"
      },
      "source": [
        "tup1 = (1,2,3)\n",
        "tup2 = ('a','b')\n",
        "tup3 = tup1+tup2\n",
        "\n",
        "print(tup3)"
      ],
      "execution_count": null,
      "outputs": [
        {
          "output_type": "stream",
          "text": [
            "(1, 2, 3, 'a', 'b')\n"
          ],
          "name": "stdout"
        }
      ]
    },
    {
      "cell_type": "markdown",
      "metadata": {
        "id": "vUn8XLIk07Xq"
      },
      "source": [
        "We can see that trying ```del tup1[1]``` throws an error. To catch such errors and not abruptly end a program, we can do exception handling."
      ]
    },
    {
      "cell_type": "code",
      "metadata": {
        "colab": {
          "base_uri": "https://localhost:8080/"
        },
        "id": "veG68gZB02EK",
        "outputId": "a32d6263-2436-4253-f747-276f10c6646e"
      },
      "source": [
        "try:\n",
        "  del tup1[1] #indentation\n",
        "  print(\"Deleted tup1[1]\")\n",
        "except:\n",
        "  print(\"Deletion not possible\")\n",
        "\n",
        "try:\n",
        "  del tup1\n",
        "  print(\"Deleted tup1\")\n",
        "except:\n",
        "  print(\"Deletion not possible\")"
      ],
      "execution_count": null,
      "outputs": [
        {
          "output_type": "stream",
          "text": [
            "Deletion not possible\n",
            "Deleted tup1\n"
          ],
          "name": "stdout"
        }
      ]
    },
    {
      "cell_type": "markdown",
      "metadata": {
        "id": "NabdYGADbBGf"
      },
      "source": [
        "# Writing Conditionals\n",
        "\n",
        "The previous statement of \"**... in ...**\" is a membership check, which can be used to check for presence or absence of condition using if-else."
      ]
    },
    {
      "cell_type": "code",
      "metadata": {
        "colab": {
          "base_uri": "https://localhost:8080/"
        },
        "id": "mI9gzu-0bVZ8",
        "outputId": "c0843184-b96a-41f7-d0c0-c346f24b26cb"
      },
      "source": [
        "if 5 in dict1:  #note the indentation \n",
        "  print(dict1[5]+\" is present in the dictionary\")\n",
        "elif 4 in dict1:\n",
        "  print(\"{0} is present in the dictionary\".format(dict1[4]))\n",
        "else:\n",
        "  print(\":-(\")"
      ],
      "execution_count": null,
      "outputs": [
        {
          "output_type": "stream",
          "text": [
            "four is present in the dictionary\n"
          ],
          "name": "stdout"
        }
      ]
    },
    {
      "cell_type": "markdown",
      "metadata": {
        "id": "3nDVJoxQbtU4"
      },
      "source": [
        "If the ```dict[5]``` had not been a string in this case, the print statement would have given an error. In such cases, we can also use ```str()``` function to convert it to string and print. "
      ]
    },
    {
      "cell_type": "markdown",
      "metadata": {
        "id": "iHqFO9rCcGYt"
      },
      "source": [
        "The if statement can check for many conditions other than the **in** condition check. We have other conditional operators such as **is** which compares that two objects are the same. You can also use logical operators, such as **and**, **or**, etc. Another option is to check for equality condition in numeric operations using ```==``` operator."
      ]
    },
    {
      "cell_type": "code",
      "metadata": {
        "id": "wUmf-i84gSGh"
      },
      "source": [
        ""
      ],
      "execution_count": null,
      "outputs": []
    },
    {
      "cell_type": "code",
      "metadata": {
        "colab": {
          "base_uri": "https://localhost:8080/"
        },
        "id": "OiSEmS4lcAKM",
        "outputId": "204e1054-aec4-4116-981e-81449c6f3f51"
      },
      "source": [
        "s1 = '4'\n",
        "s2 = s1\n",
        "print(s1 is s2)\n",
        "print(s1 is s2 and 4 in dict1)\n",
        "print(b==0.5)"
      ],
      "execution_count": null,
      "outputs": [
        {
          "output_type": "stream",
          "text": [
            "True\n",
            "True\n",
            "True\n"
          ],
          "name": "stdout"
        }
      ]
    },
    {
      "cell_type": "code",
      "metadata": {
        "colab": {
          "base_uri": "https://localhost:8080/",
          "height": 35
        },
        "id": "F2Q_zdJIgWPF",
        "outputId": "e7812fea-9f26-4d46-b8ba-fd8a3f69a237"
      },
      "source": [
        "s1"
      ],
      "execution_count": null,
      "outputs": [
        {
          "output_type": "execute_result",
          "data": {
            "application/vnd.google.colaboratory.intrinsic+json": {
              "type": "string"
            },
            "text/plain": [
              "'4'"
            ]
          },
          "metadata": {
            "tags": []
          },
          "execution_count": 28
        }
      ]
    },
    {
      "cell_type": "code",
      "metadata": {
        "colab": {
          "base_uri": "https://localhost:8080/",
          "height": 35
        },
        "id": "yrNz9GjPgXkN",
        "outputId": "dfa6af22-4535-4a4e-cd07-49ae53d8ba07"
      },
      "source": [
        "s2"
      ],
      "execution_count": null,
      "outputs": [
        {
          "output_type": "execute_result",
          "data": {
            "application/vnd.google.colaboratory.intrinsic+json": {
              "type": "string"
            },
            "text/plain": [
              "'4'"
            ]
          },
          "metadata": {
            "tags": []
          },
          "execution_count": 29
        }
      ]
    },
    {
      "cell_type": "code",
      "metadata": {
        "colab": {
          "base_uri": "https://localhost:8080/"
        },
        "id": "VJPtB0wGgaIK",
        "outputId": "82c85b16-e6ed-484b-98bc-f3fa4113becb"
      },
      "source": [
        "dict1"
      ],
      "execution_count": null,
      "outputs": [
        {
          "output_type": "execute_result",
          "data": {
            "text/plain": [
              "{4: 'four', 7: 'seven'}"
            ]
          },
          "metadata": {
            "tags": []
          },
          "execution_count": 30
        }
      ]
    },
    {
      "cell_type": "code",
      "metadata": {
        "colab": {
          "base_uri": "https://localhost:8080/"
        },
        "id": "7ELPxnf4gdxa",
        "outputId": "8a25db06-e5a1-4776-e0c1-c46fd46ad42e"
      },
      "source": [
        "b"
      ],
      "execution_count": null,
      "outputs": [
        {
          "output_type": "execute_result",
          "data": {
            "text/plain": [
              "0.5"
            ]
          },
          "metadata": {
            "tags": []
          },
          "execution_count": 31
        }
      ]
    },
    {
      "cell_type": "markdown",
      "metadata": {
        "id": "Nijd7dhQd2Sv"
      },
      "source": [
        "# Writing functions\n",
        "\n",
        "Functions are blocks of organized and reusable code, which generally perform a specific functionality. Function can accept parameters and can return values back to the caller. No return statement in the function returns a ```None``` value. "
      ]
    },
    {
      "cell_type": "code",
      "metadata": {
        "colab": {
          "base_uri": "https://localhost:8080/"
        },
        "id": "zxG6HcBiWBJ9",
        "outputId": "423504c1-4bf2-4036-edc1-82448702b151"
      },
      "source": [
        "def power_fx(x,n):\n",
        "  return x**n   #indentation necessary\n",
        "\n",
        "print(power_fx(3,4))"
      ],
      "execution_count": null,
      "outputs": [
        {
          "output_type": "stream",
          "text": [
            "81\n"
          ],
          "name": "stdout"
        }
      ]
    },
    {
      "cell_type": "code",
      "metadata": {
        "colab": {
          "base_uri": "https://localhost:8080/"
        },
        "id": "FzI2xrAgXVhH",
        "outputId": "dc1b1173-0369-4478-a021-ca578c3e1316"
      },
      "source": [
        "def pretty_print(num=3):  #default argument value\n",
        "  print(\"{0} is the number to be printed\".format(num))\n",
        "\n",
        "p = pretty_print(power_fx(3,4))\n",
        "print(p)"
      ],
      "execution_count": null,
      "outputs": [
        {
          "output_type": "stream",
          "text": [
            "81 is the number to be printed\n",
            "None\n"
          ],
          "name": "stdout"
        }
      ]
    },
    {
      "cell_type": "markdown",
      "metadata": {
        "id": "k113UjkoYCUx"
      },
      "source": [
        "# Flow Control - Iteration\n",
        "\n",
        "## For loops\n",
        "\n",
        "*For statements* in python iterate over a sequence of items in the order they appear. You can use the ```range``` function to iterate over sequence of numbers returned by the range function. "
      ]
    },
    {
      "cell_type": "code",
      "metadata": {
        "colab": {
          "base_uri": "https://localhost:8080/"
        },
        "id": "B_eo1YEzg0D8",
        "outputId": "f8d62a17-8fc4-4942-a8cc-6dcf20c0b131"
      },
      "source": [
        "lst1"
      ],
      "execution_count": null,
      "outputs": [
        {
          "output_type": "execute_result",
          "data": {
            "text/plain": [
              "[1, 2, 3]"
            ]
          },
          "metadata": {
            "tags": []
          },
          "execution_count": 35
        }
      ]
    },
    {
      "cell_type": "code",
      "metadata": {
        "id": "ndXC2GFDZyar",
        "colab": {
          "base_uri": "https://localhost:8080/"
        },
        "outputId": "87caa0f5-1e6f-4a3a-c0c1-59475ce40fee"
      },
      "source": [
        "for l in lst1:\n",
        "  print(l)"
      ],
      "execution_count": null,
      "outputs": [
        {
          "output_type": "stream",
          "text": [
            "1\n",
            "2\n",
            "3\n"
          ],
          "name": "stdout"
        }
      ]
    },
    {
      "cell_type": "code",
      "metadata": {
        "id": "gUSc1VCTaP2M",
        "colab": {
          "base_uri": "https://localhost:8080/"
        },
        "outputId": "cb9fe014-573a-4ff8-8b1a-ed60888a5f7a"
      },
      "source": [
        "pow_dict = {}\n",
        "for i in range(1,10):\n",
        "  pow_dict[i] = power_fx(i,2)\n",
        "\n",
        "print(pow_dict)"
      ],
      "execution_count": null,
      "outputs": [
        {
          "output_type": "stream",
          "text": [
            "{1: 1, 2: 4, 3: 9, 4: 16, 5: 25, 6: 36, 7: 49, 8: 64, 9: 81}\n"
          ],
          "name": "stdout"
        }
      ]
    },
    {
      "cell_type": "markdown",
      "metadata": {
        "id": "VSnjGyL5DLzx"
      },
      "source": [
        "You can shorten the process of the dictionary creation using dictionary comprehensions. Similar to dictionary comprehension, list comprehensions can be used to create lists."
      ]
    },
    {
      "cell_type": "code",
      "metadata": {
        "id": "YQe6f95DaTK_",
        "colab": {
          "base_uri": "https://localhost:8080/"
        },
        "outputId": "83a6b9c5-eed1-4fff-dac5-55d6d38e4208"
      },
      "source": [
        "print(range(1,10))\n",
        "print(range(10))\n",
        "\n",
        "pow_dict2 = {x:power_fx(x,2) for x in range(1,10)} #dictionary comprehension\n",
        "print(pow_dict2)"
      ],
      "execution_count": null,
      "outputs": [
        {
          "output_type": "stream",
          "text": [
            "range(1, 10)\n",
            "range(0, 10)\n",
            "{1: 1, 2: 4, 3: 9, 4: 16, 5: 25, 6: 36, 7: 49, 8: 64, 9: 81}\n"
          ],
          "name": "stdout"
        }
      ]
    },
    {
      "cell_type": "markdown",
      "metadata": {
        "id": "cLZdKsxfaeb6"
      },
      "source": [
        "## While loops\n",
        "Another way of iteration is the *while statement*. It is used for repeated execution for as long as condition is true. The conditions can be specified in the manner similar to what is done for the if-else statements."
      ]
    },
    {
      "cell_type": "code",
      "metadata": {
        "colab": {
          "base_uri": "https://localhost:8080/"
        },
        "id": "cF_t9GV7bNAt",
        "outputId": "97280033-b8f0-4827-b0c8-40c1b46e29d0"
      },
      "source": [
        "a, b = 0, 1\n",
        "\n",
        "while a<10:\n",
        "  print(a)\n",
        "  a, b = b, a+b   #fibonacci series"
      ],
      "execution_count": null,
      "outputs": [
        {
          "output_type": "stream",
          "text": [
            "0\n",
            "1\n",
            "1\n",
            "2\n",
            "3\n",
            "5\n",
            "8\n"
          ],
          "name": "stdout"
        }
      ]
    },
    {
      "cell_type": "markdown",
      "metadata": {
        "id": "f4L5Ybt2b4L1"
      },
      "source": [
        "# Class and Objects\n",
        "\n",
        "Python is an Object Oriented Language, which means that it supports classes and objects. Most of the modules we use, have classes defined and we create objects (or an instance) of this class when we create a variable. \n",
        "\n",
        "A class is a bundling of data and functions together. An object is an instance of the class. We just briefly look at creating a new class and instance."
      ]
    },
    {
      "cell_type": "code",
      "metadata": {
        "colab": {
          "base_uri": "https://localhost:8080/"
        },
        "id": "NuCGOqzYdlAg",
        "outputId": "43282fc8-5e6a-4f84-e8fd-e3054d3b2800"
      },
      "source": [
        "class Calculator:\n",
        "  \"\"\"\n",
        "  Class to create a calculator, which is initialized with the starting value for performing calculations.\n",
        "  \"\"\"\n",
        "  def __init__(self, a=0):  #constructor\n",
        "    self.result = a\n",
        "\n",
        "  def add(self, x):\n",
        "    self.result += x  #operator shorthand!\n",
        "  \n",
        "  def print(self):\n",
        "    print(self.result)\n",
        "\n",
        "calc = Calculator(3)  #creates an object\n",
        "calc.add(5)\n",
        "calc.print()"
      ],
      "execution_count": null,
      "outputs": [
        {
          "output_type": "stream",
          "text": [
            "8\n"
          ],
          "name": "stdout"
        }
      ]
    },
    {
      "cell_type": "markdown",
      "metadata": {
        "id": "6OKY5y_Feios"
      },
      "source": [
        "That brings us to the end of this tutorial. We have covered the basic fundamentals in Python which will be required to cover the material of this course. However, there are a lot of subtelities and concepts in the language which have not been covered here. We would highly encourage you to go through other python resources for a good grasp on programming using Python."
      ]
    },
    {
      "cell_type": "markdown",
      "metadata": {
        "id": "yZ0QLDFSeLjw"
      },
      "source": [
        "# Practice Exercise (Optional)\n",
        "1. Write a calculator which starts with input of a number on which further inputs are accepted such that an operator and operand is accepted. Display the result immediately as a calculator would. e.g.\n",
        "```\n",
        ">>3\n",
        "3        \n",
        ">>+2\n",
        "5\n",
        ">>*2\n",
        "10\n",
        "```\n",
        "\n",
        "2. Randomly generate two lists. Write a function that takes two lists as inputs and returns a list of all the elements which are common between both the lists (retaining the order of occurence in first one).\n",
        "3. Build a Tic-Tac-Toe game:\n",
        "    + Create the board setup (and display it properly)\n",
        "    + Check if winner exists\n",
        "    + Accept input from user\n",
        "    \n",
        "   Write appropriate functions, which combine tasks properly such that it is a two-user game and the track of the current user is kept."
      ]
    },
    {
      "cell_type": "code",
      "metadata": {
        "id": "q59Mf5_piMk1"
      },
      "source": [
        "def CalculatorInput():\n",
        "  curCalc = \"\"\n",
        "  while True:\n",
        "    print(\">>\", end='')\n",
        "    val = input()\n",
        "    if val == 'E':\n",
        "      break\n",
        "    else:\n",
        "      curCalc = eval(str(curCalc) + str(val))\n",
        "      print(curCalc)\n"
      ],
      "execution_count": null,
      "outputs": []
    },
    {
      "cell_type": "code",
      "metadata": {
        "colab": {
          "base_uri": "https://localhost:8080/"
        },
        "id": "siBTHQQ_jVoU",
        "outputId": "3c1d7376-7e43-49f6-ff23-364798267cf9"
      },
      "source": [
        "CalculatorInput()"
      ],
      "execution_count": null,
      "outputs": [
        {
          "output_type": "stream",
          "text": [
            ">>3\n",
            "3\n",
            ">>*5\n",
            "15\n",
            ">>E\n"
          ],
          "name": "stdout"
        }
      ]
    },
    {
      "cell_type": "code",
      "metadata": {
        "id": "ncFf4D0UjY-N"
      },
      "source": [
        "def duplicationList(list1, list2):\n",
        "  dupliList = []\n",
        "  for i in list1:\n",
        "    for j in list2:\n",
        "      if i == j:\n",
        "        dupliList = dupliList + [i]\n",
        "  print(dupliList)"
      ],
      "execution_count": null,
      "outputs": []
    },
    {
      "cell_type": "code",
      "metadata": {
        "id": "LxzqpEODnuLa"
      },
      "source": [
        "list1 = [8,19, 'test', 'great']\n",
        "list2 = [19, 7, 'great', 'success']"
      ],
      "execution_count": null,
      "outputs": []
    },
    {
      "cell_type": "code",
      "metadata": {
        "colab": {
          "base_uri": "https://localhost:8080/"
        },
        "id": "fLPSEP5on9tw",
        "outputId": "ac891b9d-1e7a-43a4-d55a-f9d0ac004410"
      },
      "source": [
        "duplicationList(list1,list2)"
      ],
      "execution_count": null,
      "outputs": [
        {
          "output_type": "stream",
          "text": [
            "[19, 'great']\n"
          ],
          "name": "stdout"
        }
      ]
    },
    {
      "cell_type": "code",
      "metadata": {
        "colab": {
          "base_uri": "https://localhost:8080/"
        },
        "id": "EkcEtGGpqTD5",
        "outputId": "41327f58-21b7-429f-f12d-f34310e2c4df"
      },
      "source": [
        "!pip install pudb"
      ],
      "execution_count": null,
      "outputs": [
        {
          "output_type": "stream",
          "text": [
            "Collecting pudb\n",
            "\u001b[?25l  Downloading https://files.pythonhosted.org/packages/3d/bc/1947dc9dc54a44bc6cbff3556cd514258886a4a60e85aa32a3ba027098bc/pudb-2020.1.tar.gz (70kB)\n",
            "\u001b[K     |████████████████████████████████| 71kB 3.3MB/s \n",
            "\u001b[?25hCollecting urwid>=1.1.1\n",
            "\u001b[?25l  Downloading https://files.pythonhosted.org/packages/94/3f/e3010f4a11c08a5690540f7ebd0b0d251cc8a456895b7e49be201f73540c/urwid-2.1.2.tar.gz (634kB)\n",
            "\u001b[K     |████████████████████████████████| 634kB 7.1MB/s \n",
            "\u001b[?25hRequirement already satisfied: pygments>=1.0 in /usr/local/lib/python3.6/dist-packages (from pudb) (2.6.1)\n",
            "Building wheels for collected packages: pudb, urwid\n",
            "  Building wheel for pudb (setup.py) ... \u001b[?25l\u001b[?25hdone\n",
            "  Created wheel for pudb: filename=pudb-2020.1-cp36-none-any.whl size=66672 sha256=18513c50987455f1160fc86c5488c3f7d724642a24fdaec8e51a9454cd9fd583\n",
            "  Stored in directory: /root/.cache/pip/wheels/35/7e/f8/9dcb9bb4c28d4ea6bc6a312b901591e2c689f402a5c190627d\n",
            "  Building wheel for urwid (setup.py) ... \u001b[?25l\u001b[?25hdone\n",
            "  Created wheel for urwid: filename=urwid-2.1.2-cp36-cp36m-linux_x86_64.whl size=257340 sha256=f47683644cf5195c6c150b4b66c05c1bcc2eb6cc28e5b1f8c7f5b0a4668b7203\n",
            "  Stored in directory: /root/.cache/pip/wheels/6f/0b/8c/cdfc1a04f75128ffdf0e8a7a5ce63e10166d33fba5335c1810\n",
            "Successfully built pudb urwid\n",
            "Installing collected packages: urwid, pudb\n",
            "Successfully installed pudb-2020.1 urwid-2.1.2\n"
          ],
          "name": "stdout"
        }
      ]
    },
    {
      "cell_type": "code",
      "metadata": {
        "id": "mTGybUudhA30"
      },
      "source": [
        "test = [2,3,5]\n",
        "total_val_test = sum(test)"
      ],
      "execution_count": null,
      "outputs": []
    },
    {
      "cell_type": "code",
      "metadata": {
        "colab": {
          "base_uri": "https://localhost:8080/"
        },
        "id": "c2gPXT4Rhc26",
        "outputId": "f9de9735-2367-4a43-fc4b-697a9eb41c52"
      },
      "source": [
        "total_val_test"
      ],
      "execution_count": null,
      "outputs": [
        {
          "output_type": "execute_result",
          "data": {
            "text/plain": [
              "10"
            ]
          },
          "metadata": {
            "tags": []
          },
          "execution_count": 14
        }
      ]
    },
    {
      "cell_type": "code",
      "metadata": {
        "id": "CtbAwOVzhs07"
      },
      "source": [
        "total_val_test2 = sum([int(i) for i in test])"
      ],
      "execution_count": null,
      "outputs": []
    },
    {
      "cell_type": "code",
      "metadata": {
        "colab": {
          "base_uri": "https://localhost:8080/"
        },
        "id": "gLhkN11ehxM-",
        "outputId": "37d392dc-4957-482c-e175-08bfe5f6a428"
      },
      "source": [
        "total_val_test2"
      ],
      "execution_count": null,
      "outputs": [
        {
          "output_type": "execute_result",
          "data": {
            "text/plain": [
              "10"
            ]
          },
          "metadata": {
            "tags": []
          },
          "execution_count": 16
        }
      ]
    },
    {
      "cell_type": "code",
      "metadata": {
        "colab": {
          "base_uri": "https://localhost:8080/"
        },
        "id": "hSvrnyq7oAkE",
        "outputId": "ed1ae944-1c16-426a-bd28-db8d261087e7"
      },
      "source": [
        "def check_decision(coordinate_map):\n",
        "    # 1|  2|  4\n",
        "    #-----------\n",
        "    #  8| 16| 32\n",
        "    #-----------\n",
        "    # 64|128|256\n",
        "    decision_coordinates = [7, 292, 448, 73, 273, 84, 146, 56]\n",
        "    # Checking win/lose\n",
        "    total_val = sum(coordinate_map)\n",
        "    if total_val in decision_coordinates:\n",
        "        return True\n",
        "    return False\n",
        "\n",
        "def marubatu_game():\n",
        "   print('Please select from below figures.')\n",
        "   text = \"\"\"\n",
        "   1|2|3\n",
        "   -----\n",
        "   4|5|6\n",
        "   -----\n",
        "   7|8|9\n",
        "   \"\"\"\n",
        "   print(text)\n",
        "   coordinate_list = [str(i) for i in range(1, 10)]\n",
        "   candidates = [2**i for i in range(9)]\n",
        "\n",
        "   pre_user_input = str()\n",
        "   pre_user_operations = []\n",
        "\n",
        "   pos_user_input = str()\n",
        "   pos_user_operations = []\n",
        "\n",
        "   err_message = 'Please input correct number.'\n",
        "\n",
        "   turn_user = 0\n",
        "   turn_count = 0\n",
        "\n",
        "   while True:\n",
        "       print('candidates : ')\n",
        "       print(candidates)\n",
        "       print(coordinate_list)\n",
        "\n",
        "       if turn_user == 0:\n",
        "           try:\n",
        "               mes = 'Input from pre_user:'\n",
        "               pre_user_input = input(mes)\n",
        "           except Exception as e:\n",
        "               print(err_message)\n",
        "               continue\n",
        "           if pre_user_input in coordinate_list:\n",
        "               text = text.replace(str(pre_user_input), \"o\")\n",
        "               idx = coordinate_list.index(pre_user_input)\n",
        "               coordinate_list[idx] = \"o\"\n",
        "               pre_user_operations.append(candidates[idx])\n",
        "               print(text)\n",
        "               if check_decision(pre_user_operations):\n",
        "                   print('user0 wins!')\n",
        "                   break\n",
        "           else:\n",
        "               print(err_message)\n",
        "               continue\n",
        "           turn_user = 1\n",
        "           turn_count += 1\n",
        "       else:\n",
        "           try:\n",
        "               mes = 'input from pos_user'\n",
        "               pos_user_input = input(mes)\n",
        "           except Exception as e:\n",
        "               print(err_message)\n",
        "               continue\n",
        "           if pos_user_input in coordinate_list:\n",
        "               text = text.replace(str(pos_user_input), \"x\")\n",
        "               idx = coordinate_list.index(pos_user_input)\n",
        "               coordinate_list[idx] = \"x\"\n",
        "               # coordinate_list.remove(pos_user_input)\n",
        "               # pre_user_operations.append(pre_user_input)\n",
        "               pos_user_operations.append(candidates[idx])\n",
        "               print(text)\n",
        "               if check_decision(pos_user_operations):\n",
        "                   print('user1 wins!')\n",
        "                   break\n",
        "           else:\n",
        "               print(err_message)\n",
        "               continue\n",
        "           turn_user = 0\n",
        "           turn_count += 1\n",
        "       if turn_count == 9:\n",
        "           print(\"Draw!\")\n",
        "           break\n",
        "\n",
        "marubatu_game()"
      ],
      "execution_count": null,
      "outputs": [
        {
          "output_type": "stream",
          "text": [
            "Please select from below figures.\n",
            "\n",
            "   1|2|3\n",
            "   -----\n",
            "   4|5|6\n",
            "   -----\n",
            "   7|8|9\n",
            "   \n",
            "candidates : \n",
            "[1, 2, 4, 8, 16, 32, 64, 128, 256]\n",
            "['1', '2', '3', '4', '5', '6', '7', '8', '9']\n",
            "Input from pre_user:5\n",
            "\n",
            "   1|2|3\n",
            "   -----\n",
            "   4|o|6\n",
            "   -----\n",
            "   7|8|9\n",
            "   \n",
            "candidates : \n",
            "[1, 2, 4, 8, 16, 32, 64, 128, 256]\n",
            "['1', '2', '3', '4', 'o', '6', '7', '8', '9']\n",
            "input from pos_user9\n",
            "\n",
            "   1|2|3\n",
            "   -----\n",
            "   4|o|6\n",
            "   -----\n",
            "   7|8|x\n",
            "   \n",
            "candidates : \n",
            "[1, 2, 4, 8, 16, 32, 64, 128, 256]\n",
            "['1', '2', '3', '4', 'o', '6', '7', '8', 'x']\n",
            "Input from pre_user:2\n",
            "\n",
            "   1|o|3\n",
            "   -----\n",
            "   4|o|6\n",
            "   -----\n",
            "   7|8|x\n",
            "   \n",
            "candidates : \n",
            "[1, 2, 4, 8, 16, 32, 64, 128, 256]\n",
            "['1', 'o', '3', '4', 'o', '6', '7', '8', 'x']\n",
            "input from pos_user6\n",
            "\n",
            "   1|o|3\n",
            "   -----\n",
            "   4|o|x\n",
            "   -----\n",
            "   7|8|x\n",
            "   \n",
            "candidates : \n",
            "[1, 2, 4, 8, 16, 32, 64, 128, 256]\n",
            "['1', 'o', '3', '4', 'o', 'x', '7', '8', 'x']\n",
            "Input from pre_user:8\n",
            "\n",
            "   1|o|3\n",
            "   -----\n",
            "   4|o|x\n",
            "   -----\n",
            "   7|o|x\n",
            "   \n",
            "user0 wins!\n"
          ],
          "name": "stdout"
        }
      ]
    },
    {
      "cell_type": "code",
      "metadata": {
        "id": "VdecjZNoqFZR"
      },
      "source": [
        ""
      ],
      "execution_count": null,
      "outputs": []
    }
  ]
}