{
  "nbformat": 4,
  "nbformat_minor": 0,
  "metadata": {
    "colab": {
      "name": "Tutorial 2.ipynb",
      "provenance": [],
      "collapsed_sections": []
    },
    "kernelspec": {
      "display_name": "Python 3",
      "language": "python",
      "name": "python3"
    },
    "language_info": {
      "codemirror_mode": {
        "name": "ipython",
        "version": 3
      },
      "file_extension": ".py",
      "mimetype": "text/x-python",
      "name": "python",
      "nbconvert_exporter": "python",
      "pygments_lexer": "ipython3",
      "version": "3.9.1"
    }
  },
  "cells": [
    {
      "cell_type": "code",
      "metadata": {
        "id": "Cb51ZA_MVwbh",
        "colab": {
          "base_uri": "https://localhost:8080/"
        },
        "outputId": "16a25d07-6724-430b-cf6e-1c6f33618525"
      },
      "source": [
        "#It's for google colab usage on google drive.\n",
        "from google.colab import drive \n",
        "drive.mount('/content/drive', force_remount=True)\n",
        "\n",
        "COLAB_PATH = './drive/My Drive/IT5006'\n",
        "import sys\n",
        "sys.path.append(COLAB_PATH)"
      ],
      "execution_count": 1,
      "outputs": [
        {
          "output_type": "stream",
          "text": [
            "Mounted at /content/drive\n"
          ],
          "name": "stdout"
        }
      ]
    },
    {
      "cell_type": "code",
      "metadata": {
        "id": "1qB4wrVcVzP7"
      },
      "source": [
        "import numpy as np\n",
        "%matplotlib inline\n",
        "import matplotlib.pyplot as plt\n",
        "import pandas as pd\n",
        "import sklearn"
      ],
      "execution_count": 23,
      "outputs": []
    },
    {
      "cell_type": "markdown",
      "metadata": {
        "id": "XImc40nvS8sH"
      },
      "source": [
        "Coding problems in Mini-test at week 2. Point:\n",
        "*L2 sees same reference point with L1, such that L2 has been also changed once L1 is changed at L1[0] = [5].\n",
        "*L3 copies L1 and independent from L1, such that L3 is unchanged even when L1 is changed at L1[0] = [5]."
      ]
    },
    {
      "cell_type": "code",
      "metadata": {
        "colab": {
          "base_uri": "https://localhost:8080/"
        },
        "id": "wagNA-zBhNNj",
        "outputId": "e58cfc72-b247-4a18-ee10-cd159acf929b"
      },
      "source": [
        "L1 = [7, 8, 9, 10]\n",
        "L2 = L1\n",
        "L3 = L1.copy()\n",
        "L4 = L1[:3]\n",
        "L1[0] = [5]\n",
        "print(L1, L2, L3, L4)"
      ],
      "execution_count": 24,
      "outputs": [
        {
          "output_type": "stream",
          "text": [
            "[[5], 8, 9, 10] [[5], 8, 9, 10] [7, 8, 9, 10] [7, 8, 9]\n"
          ],
          "name": "stdout"
        }
      ]
    },
    {
      "cell_type": "code",
      "metadata": {
        "colab": {
          "base_uri": "https://localhost:8080/"
        },
        "id": "oiAKe5g8hWrO",
        "outputId": "46906084-4af3-4b1b-cd17-dd9cc6a95ff5"
      },
      "source": [
        "print(0.5+0.8 == 1)"
      ],
      "execution_count": 25,
      "outputs": [
        {
          "output_type": "stream",
          "text": [
            "False\n"
          ],
          "name": "stdout"
        }
      ]
    },
    {
      "cell_type": "markdown",
      "metadata": {
        "id": "vxHd4T3_dy08"
      },
      "source": [
        "Point below:\n",
        "*In formula, print(a) is included. So, at f= fx(3), it's printed as 3. However, print(f) duplicate prints, such that we cannot print anything such that we see \"None\"."
      ]
    },
    {
      "cell_type": "code",
      "metadata": {
        "colab": {
          "base_uri": "https://localhost:8080/"
        },
        "id": "t7GY9uKMhaPH",
        "outputId": "b96cb600-a160-40c6-ffcc-2d441f4995fb"
      },
      "source": [
        "def fx(a):\n",
        "    print(a)\n",
        "f = fx(3)\n",
        "print(f)"
      ],
      "execution_count": 26,
      "outputs": [
        {
          "output_type": "stream",
          "text": [
            "3\n",
            "None\n"
          ],
          "name": "stdout"
        }
      ]
    },
    {
      "cell_type": "markdown",
      "metadata": {
        "id": "HcwePvKpw6-3"
      },
      "source": [
        "# Week 2 - Data and Statistics\n",
        "\n",
        "## Learning Objectives\n",
        "\n",
        "+ Different Types of Data File Formats\n",
        "+ Reading Tabular Data\n",
        "  + Introduction to Pandas\n",
        "      + Series and Dataframes\n",
        "  + Reading CSV file using Pandas\n",
        "+ Reading Other File Formats in Pandas\n",
        "+ Network/Graph Data Representation\n",
        "  + Introduction to Numpy\n",
        "      + Array\n",
        "  + Operations on Graph\n",
        "      + Slicing and Broadcasting\n",
        "+ Introduction to Scipy\n",
        "  + Distributions\n",
        "  + Statistical tests"
      ]
    },
    {
      "cell_type": "markdown",
      "metadata": {
        "id": "YBXcsmk-GhGR"
      },
      "source": [
        "Most of the materials for this tutorial are from [pandas tutorial](https://pandas.pydata.org/pandas-docs/stable/getting_started/tutorials.html), \"Python for Probability, Statistics, and Machine Learning\" by José Unpingco, [scipy lectures](https://scipy-lectures.org/packages/statistics/index.html), and [numpy tutorial](https://numpy.org/devdocs/user/whatisnumpy.html). You can refer to these resources for further understanding and practice. \n"
      ]
    },
    {
      "cell_type": "markdown",
      "metadata": {
        "id": "JhL_0h1vKK9F"
      },
      "source": [
        "For this tutorial, Pandas, Numpy and Scipy need to be installed. You can use the following commands in anaconda prompt to do the installation. \n",
        "```\n",
        "conda install -c anaconda pandas\n",
        "conda install -c anaconda numpy\n",
        "conda install -c anaconda scipy\n",
        "```"
      ]
    },
    {
      "cell_type": "markdown",
      "metadata": {
        "id": "z9Jwgg8FVg79"
      },
      "source": [
        "# Different Type of Data File Formats\n",
        "\n",
        "In general, data can be categorized as structured and unstructured data. As Data Scientists, we come across variety of data file formats - depending on the type and modality of the data we are handling. Same data may be available to us in different formats - e.g. while working on clinical data of patients from a hospital, we can have data in any(or all) of the following formats:\n",
        "+ Various tables (about billing and admission of patient) available with a patient-wise key mappings \\[structured data\\]\n",
        "+ Patient-wise ECG data (time-series)\n",
        "+ Collection of clinical notes (.txt files) for each patient\n",
        "+ Patient-wise data for Radiology Images (image data)\n",
        "\n",
        "Different tools and libraries are specialized in handling certain type of data.\n",
        "Some important file formats that we come across most often in real-life are listed below.\n",
        "+ Tabular and Structured Data - Excel sheets, csv files, tab separated files, SQL data fall under this category\n",
        "+ Hierarchical or Nested File Format - JSON and XML are the most popular files under this category. The big-data files of HDF5 may also fall under this category. \n",
        "+ Image Data - The image file formats typically depend on the application\n",
        "+ Text Data - Plain txt files are most common to store unstructured text data (which may have been scrapped from internet)\n",
        "+ Array Data - Typically graph data, or modelling results are stored in form of array data. This may be available as NPY files or more specific binary file formats. \n",
        "\n",
        "In this tutorial, we will see the Python libraries available for handling a few of these data types - Pandas and Numpy. Then, we will explore the usage of another library - Scipy - to perform statistical tests using Python. "
      ]
    },
    {
      "cell_type": "markdown",
      "metadata": {
        "id": "6jBgJ_nrVg7-"
      },
      "source": [
        "# Reading Tabular Data\n",
        "\n",
        "Let us first explore the usage of the most popular file format for tabular data - CSV (comma separated values) file. A CSV file is essentially a text file only, but the various columns are separated by comma, and every new line represents a new row. We can read a CSV file like a normal python file, and split on comma, or even use the natively available [csv module](https://docs.python.org/3/library/csv.html) for reading and writing CSV files.\n",
        "\n",
        "However, for performing analysis, and further integrating with typical ML pipeline, Pandas library is typically used for Data Analytics. "
      ]
    },
    {
      "cell_type": "markdown",
      "metadata": {
        "id": "Jd_rQAwIGXQP"
      },
      "source": [
        "## Introduction to Pandas\n",
        "\n",
        "Pandas is a Python package which provides flexibility and expressive data structures designed to work with \"relational\" or \"labeled\" data easily. It is well suited for different kinds of data:\n",
        "\n",
        "+ Tabular data with heterogeneously-typed columns, as in an SQL table or Excel spreadsheet\n",
        "\n",
        "+ Ordered and unordered (not necessarily fixed-frequency) time series data.\n",
        "\n",
        "+ Arbitrary matrix data (homogeneously typed or heterogeneous) with row and column labels\n",
        "\n",
        "+ Any other form of observational / statistical data sets. The data need not be labeled at all to be placed into a pandas data structure\n",
        "\n",
        "There are two primary data structures in Pandas: Series and Dataframes"
      ]
    },
    {
      "cell_type": "markdown",
      "metadata": {
        "id": "jFa09yIvIT2D"
      },
      "source": [
        "### Series\n",
        "\n",
        "Series objects combines an index and corresponding data values. Please note that the community agreed alias for pandas is pd, so loading pandas as pd is assumed standard practice for all the pandas documentation."
      ]
    },
    {
      "cell_type": "code",
      "metadata": {
        "id": "F1PKZRRJVg7_"
      },
      "source": [
        "import pandas as pd\n",
        "x = pd.Series(index=range(1,11), data = [x**2 for x in range(1,11)], name=\"Squares\")"
      ],
      "execution_count": 27,
      "outputs": []
    },
    {
      "cell_type": "code",
      "metadata": {
        "id": "yPy_PVXtVg8A",
        "colab": {
          "base_uri": "https://localhost:8080/"
        },
        "outputId": "70759f04-4a9f-4197-adbf-1b5fb0fbc97b"
      },
      "source": [
        "x"
      ],
      "execution_count": 28,
      "outputs": [
        {
          "output_type": "execute_result",
          "data": {
            "text/plain": [
              "1       1\n",
              "2       4\n",
              "3       9\n",
              "4      16\n",
              "5      25\n",
              "6      36\n",
              "7      49\n",
              "8      64\n",
              "9      81\n",
              "10    100\n",
              "Name: Squares, dtype: int64"
            ]
          },
          "metadata": {
            "tags": []
          },
          "execution_count": 28
        }
      ]
    },
    {
      "cell_type": "code",
      "metadata": {
        "id": "UF5oEgcglR7b",
        "colab": {
          "base_uri": "https://localhost:8080/"
        },
        "outputId": "fbfa9a3c-be68-4165-b699-2a9ca61febd6"
      },
      "source": [
        "x.iloc[1:3]"
      ],
      "execution_count": 29,
      "outputs": [
        {
          "output_type": "execute_result",
          "data": {
            "text/plain": [
              "2    4\n",
              "3    9\n",
              "Name: Squares, dtype: int64"
            ]
          },
          "metadata": {
            "tags": []
          },
          "execution_count": 29
        }
      ]
    },
    {
      "cell_type": "markdown",
      "metadata": {
        "id": "ONLqdibmJ8Mf"
      },
      "source": [
        "### Dataframe\n",
        "\n",
        "This is a two-dimensional, potentially heterogeneous, tabular data structure. It can be thought of as dictionary-like container for Series objects. It is similar to a spreadsheet and can also be loaded from csv files.\n",
        "\n",
        "<img src = \"https://pandas.pydata.org/pandas-docs/stable/_images/01_table_dataframe1.svg\">\n",
        "\n",
        "Every column in a dataframe is a Series. "
      ]
    },
    {
      "cell_type": "code",
      "metadata": {
        "id": "5HwlthzzVg8B"
      },
      "source": [
        "cubes = pd.Series(index=range(1,11), data=[x**3 for x in range(1,11)], name=\"Cubes\")"
      ],
      "execution_count": 30,
      "outputs": []
    },
    {
      "cell_type": "code",
      "metadata": {
        "colab": {
          "base_uri": "https://localhost:8080/"
        },
        "id": "VTR3ncpyzUlr",
        "outputId": "e0385bc2-6d37-4162-804c-53a806262e73"
      },
      "source": [
        "cubes"
      ],
      "execution_count": 31,
      "outputs": [
        {
          "output_type": "execute_result",
          "data": {
            "text/plain": [
              "1        1\n",
              "2        8\n",
              "3       27\n",
              "4       64\n",
              "5      125\n",
              "6      216\n",
              "7      343\n",
              "8      512\n",
              "9      729\n",
              "10    1000\n",
              "Name: Cubes, dtype: int64"
            ]
          },
          "metadata": {
            "tags": []
          },
          "execution_count": 31
        }
      ]
    },
    {
      "cell_type": "code",
      "metadata": {
        "id": "0bBGeoc6zWCH"
      },
      "source": [
        "df = pd.DataFrame({\"Squares\":x, \"Cubes\":cubes})"
      ],
      "execution_count": 32,
      "outputs": []
    },
    {
      "cell_type": "code",
      "metadata": {
        "colab": {
          "base_uri": "https://localhost:8080/",
          "height": 359
        },
        "id": "GQcnBSZxzeHY",
        "outputId": "ebf0f0a4-1cfd-4966-db19-a4480d906770"
      },
      "source": [
        "df"
      ],
      "execution_count": 33,
      "outputs": [
        {
          "output_type": "execute_result",
          "data": {
            "text/html": [
              "<div>\n",
              "<style scoped>\n",
              "    .dataframe tbody tr th:only-of-type {\n",
              "        vertical-align: middle;\n",
              "    }\n",
              "\n",
              "    .dataframe tbody tr th {\n",
              "        vertical-align: top;\n",
              "    }\n",
              "\n",
              "    .dataframe thead th {\n",
              "        text-align: right;\n",
              "    }\n",
              "</style>\n",
              "<table border=\"1\" class=\"dataframe\">\n",
              "  <thead>\n",
              "    <tr style=\"text-align: right;\">\n",
              "      <th></th>\n",
              "      <th>Squares</th>\n",
              "      <th>Cubes</th>\n",
              "    </tr>\n",
              "  </thead>\n",
              "  <tbody>\n",
              "    <tr>\n",
              "      <th>1</th>\n",
              "      <td>1</td>\n",
              "      <td>1</td>\n",
              "    </tr>\n",
              "    <tr>\n",
              "      <th>2</th>\n",
              "      <td>4</td>\n",
              "      <td>8</td>\n",
              "    </tr>\n",
              "    <tr>\n",
              "      <th>3</th>\n",
              "      <td>9</td>\n",
              "      <td>27</td>\n",
              "    </tr>\n",
              "    <tr>\n",
              "      <th>4</th>\n",
              "      <td>16</td>\n",
              "      <td>64</td>\n",
              "    </tr>\n",
              "    <tr>\n",
              "      <th>5</th>\n",
              "      <td>25</td>\n",
              "      <td>125</td>\n",
              "    </tr>\n",
              "    <tr>\n",
              "      <th>6</th>\n",
              "      <td>36</td>\n",
              "      <td>216</td>\n",
              "    </tr>\n",
              "    <tr>\n",
              "      <th>7</th>\n",
              "      <td>49</td>\n",
              "      <td>343</td>\n",
              "    </tr>\n",
              "    <tr>\n",
              "      <th>8</th>\n",
              "      <td>64</td>\n",
              "      <td>512</td>\n",
              "    </tr>\n",
              "    <tr>\n",
              "      <th>9</th>\n",
              "      <td>81</td>\n",
              "      <td>729</td>\n",
              "    </tr>\n",
              "    <tr>\n",
              "      <th>10</th>\n",
              "      <td>100</td>\n",
              "      <td>1000</td>\n",
              "    </tr>\n",
              "  </tbody>\n",
              "</table>\n",
              "</div>"
            ],
            "text/plain": [
              "    Squares  Cubes\n",
              "1         1      1\n",
              "2         4      8\n",
              "3         9     27\n",
              "4        16     64\n",
              "5        25    125\n",
              "6        36    216\n",
              "7        49    343\n",
              "8        64    512\n",
              "9        81    729\n",
              "10      100   1000"
            ]
          },
          "metadata": {
            "tags": []
          },
          "execution_count": 33
        }
      ]
    },
    {
      "cell_type": "code",
      "metadata": {
        "colab": {
          "base_uri": "https://localhost:8080/"
        },
        "id": "GKRGDqahlqkW",
        "outputId": "fa83f5f4-8d22-4e5e-de68-6118d6a5b8e3"
      },
      "source": [
        "type(df['Squares'])"
      ],
      "execution_count": 34,
      "outputs": [
        {
          "output_type": "execute_result",
          "data": {
            "text/plain": [
              "pandas.core.series.Series"
            ]
          },
          "metadata": {
            "tags": []
          },
          "execution_count": 34
        }
      ]
    },
    {
      "cell_type": "markdown",
      "metadata": {
        "id": "--SWM-0gj8MA"
      },
      "source": [
        "## Reading csv file using Pandas\n",
        "\n",
        "We can read a csv into a dataframe using pandas. We now read the data contained in the ```brain_size.csv``` file. It gives the observations of brain size and weight and IQ. Reading a CSV in Pandas has many capabilities not available in the basic csv module. You can refer to the [documentation](https://pandas.pydata.org/pandas-docs/stable/reference/api/pandas.read_csv.html) for all the various parameters. "
      ]
    },
    {
      "cell_type": "code",
      "metadata": {
        "id": "7vxFnTd6Vg8B"
      },
      "source": [
        "data_df = pd.read_csv(\"./drive/My Drive/IT5006/brain_size.csv\", sep=';', na_values='.', index_col=0)"
      ],
      "execution_count": 35,
      "outputs": []
    },
    {
      "cell_type": "code",
      "metadata": {
        "id": "GtDzoo1mmGep",
        "colab": {
          "base_uri": "https://localhost:8080/",
          "height": 1000
        },
        "outputId": "41f4ba40-f461-47db-d532-5a9b4e7c3ab0"
      },
      "source": [
        "data_df"
      ],
      "execution_count": 36,
      "outputs": [
        {
          "output_type": "execute_result",
          "data": {
            "text/html": [
              "<div>\n",
              "<style scoped>\n",
              "    .dataframe tbody tr th:only-of-type {\n",
              "        vertical-align: middle;\n",
              "    }\n",
              "\n",
              "    .dataframe tbody tr th {\n",
              "        vertical-align: top;\n",
              "    }\n",
              "\n",
              "    .dataframe thead th {\n",
              "        text-align: right;\n",
              "    }\n",
              "</style>\n",
              "<table border=\"1\" class=\"dataframe\">\n",
              "  <thead>\n",
              "    <tr style=\"text-align: right;\">\n",
              "      <th></th>\n",
              "      <th>Gender</th>\n",
              "      <th>FSIQ</th>\n",
              "      <th>VIQ</th>\n",
              "      <th>PIQ</th>\n",
              "      <th>Weight</th>\n",
              "      <th>Height</th>\n",
              "      <th>MRI_Count</th>\n",
              "    </tr>\n",
              "  </thead>\n",
              "  <tbody>\n",
              "    <tr>\n",
              "      <th>1</th>\n",
              "      <td>Female</td>\n",
              "      <td>133</td>\n",
              "      <td>132</td>\n",
              "      <td>124</td>\n",
              "      <td>118.0</td>\n",
              "      <td>64.5</td>\n",
              "      <td>816932</td>\n",
              "    </tr>\n",
              "    <tr>\n",
              "      <th>2</th>\n",
              "      <td>Male</td>\n",
              "      <td>140</td>\n",
              "      <td>150</td>\n",
              "      <td>124</td>\n",
              "      <td>NaN</td>\n",
              "      <td>72.5</td>\n",
              "      <td>1001121</td>\n",
              "    </tr>\n",
              "    <tr>\n",
              "      <th>3</th>\n",
              "      <td>Male</td>\n",
              "      <td>139</td>\n",
              "      <td>123</td>\n",
              "      <td>150</td>\n",
              "      <td>143.0</td>\n",
              "      <td>73.3</td>\n",
              "      <td>1038437</td>\n",
              "    </tr>\n",
              "    <tr>\n",
              "      <th>4</th>\n",
              "      <td>Male</td>\n",
              "      <td>133</td>\n",
              "      <td>129</td>\n",
              "      <td>128</td>\n",
              "      <td>172.0</td>\n",
              "      <td>68.8</td>\n",
              "      <td>965353</td>\n",
              "    </tr>\n",
              "    <tr>\n",
              "      <th>5</th>\n",
              "      <td>Female</td>\n",
              "      <td>137</td>\n",
              "      <td>132</td>\n",
              "      <td>134</td>\n",
              "      <td>147.0</td>\n",
              "      <td>65.0</td>\n",
              "      <td>951545</td>\n",
              "    </tr>\n",
              "    <tr>\n",
              "      <th>6</th>\n",
              "      <td>Female</td>\n",
              "      <td>99</td>\n",
              "      <td>90</td>\n",
              "      <td>110</td>\n",
              "      <td>146.0</td>\n",
              "      <td>69.0</td>\n",
              "      <td>928799</td>\n",
              "    </tr>\n",
              "    <tr>\n",
              "      <th>7</th>\n",
              "      <td>Female</td>\n",
              "      <td>138</td>\n",
              "      <td>136</td>\n",
              "      <td>131</td>\n",
              "      <td>138.0</td>\n",
              "      <td>64.5</td>\n",
              "      <td>991305</td>\n",
              "    </tr>\n",
              "    <tr>\n",
              "      <th>8</th>\n",
              "      <td>Female</td>\n",
              "      <td>92</td>\n",
              "      <td>90</td>\n",
              "      <td>98</td>\n",
              "      <td>175.0</td>\n",
              "      <td>66.0</td>\n",
              "      <td>854258</td>\n",
              "    </tr>\n",
              "    <tr>\n",
              "      <th>9</th>\n",
              "      <td>Male</td>\n",
              "      <td>89</td>\n",
              "      <td>93</td>\n",
              "      <td>84</td>\n",
              "      <td>134.0</td>\n",
              "      <td>66.3</td>\n",
              "      <td>904858</td>\n",
              "    </tr>\n",
              "    <tr>\n",
              "      <th>10</th>\n",
              "      <td>Male</td>\n",
              "      <td>133</td>\n",
              "      <td>114</td>\n",
              "      <td>147</td>\n",
              "      <td>172.0</td>\n",
              "      <td>68.8</td>\n",
              "      <td>955466</td>\n",
              "    </tr>\n",
              "    <tr>\n",
              "      <th>11</th>\n",
              "      <td>Female</td>\n",
              "      <td>132</td>\n",
              "      <td>129</td>\n",
              "      <td>124</td>\n",
              "      <td>118.0</td>\n",
              "      <td>64.5</td>\n",
              "      <td>833868</td>\n",
              "    </tr>\n",
              "    <tr>\n",
              "      <th>12</th>\n",
              "      <td>Male</td>\n",
              "      <td>141</td>\n",
              "      <td>150</td>\n",
              "      <td>128</td>\n",
              "      <td>151.0</td>\n",
              "      <td>70.0</td>\n",
              "      <td>1079549</td>\n",
              "    </tr>\n",
              "    <tr>\n",
              "      <th>13</th>\n",
              "      <td>Male</td>\n",
              "      <td>135</td>\n",
              "      <td>129</td>\n",
              "      <td>124</td>\n",
              "      <td>155.0</td>\n",
              "      <td>69.0</td>\n",
              "      <td>924059</td>\n",
              "    </tr>\n",
              "    <tr>\n",
              "      <th>14</th>\n",
              "      <td>Female</td>\n",
              "      <td>140</td>\n",
              "      <td>120</td>\n",
              "      <td>147</td>\n",
              "      <td>155.0</td>\n",
              "      <td>70.5</td>\n",
              "      <td>856472</td>\n",
              "    </tr>\n",
              "    <tr>\n",
              "      <th>15</th>\n",
              "      <td>Female</td>\n",
              "      <td>96</td>\n",
              "      <td>100</td>\n",
              "      <td>90</td>\n",
              "      <td>146.0</td>\n",
              "      <td>66.0</td>\n",
              "      <td>878897</td>\n",
              "    </tr>\n",
              "    <tr>\n",
              "      <th>16</th>\n",
              "      <td>Female</td>\n",
              "      <td>83</td>\n",
              "      <td>71</td>\n",
              "      <td>96</td>\n",
              "      <td>135.0</td>\n",
              "      <td>68.0</td>\n",
              "      <td>865363</td>\n",
              "    </tr>\n",
              "    <tr>\n",
              "      <th>17</th>\n",
              "      <td>Female</td>\n",
              "      <td>132</td>\n",
              "      <td>132</td>\n",
              "      <td>120</td>\n",
              "      <td>127.0</td>\n",
              "      <td>68.5</td>\n",
              "      <td>852244</td>\n",
              "    </tr>\n",
              "    <tr>\n",
              "      <th>18</th>\n",
              "      <td>Male</td>\n",
              "      <td>100</td>\n",
              "      <td>96</td>\n",
              "      <td>102</td>\n",
              "      <td>178.0</td>\n",
              "      <td>73.5</td>\n",
              "      <td>945088</td>\n",
              "    </tr>\n",
              "    <tr>\n",
              "      <th>19</th>\n",
              "      <td>Female</td>\n",
              "      <td>101</td>\n",
              "      <td>112</td>\n",
              "      <td>84</td>\n",
              "      <td>136.0</td>\n",
              "      <td>66.3</td>\n",
              "      <td>808020</td>\n",
              "    </tr>\n",
              "    <tr>\n",
              "      <th>20</th>\n",
              "      <td>Male</td>\n",
              "      <td>80</td>\n",
              "      <td>77</td>\n",
              "      <td>86</td>\n",
              "      <td>180.0</td>\n",
              "      <td>70.0</td>\n",
              "      <td>889083</td>\n",
              "    </tr>\n",
              "    <tr>\n",
              "      <th>21</th>\n",
              "      <td>Male</td>\n",
              "      <td>83</td>\n",
              "      <td>83</td>\n",
              "      <td>86</td>\n",
              "      <td>NaN</td>\n",
              "      <td>NaN</td>\n",
              "      <td>892420</td>\n",
              "    </tr>\n",
              "    <tr>\n",
              "      <th>22</th>\n",
              "      <td>Male</td>\n",
              "      <td>97</td>\n",
              "      <td>107</td>\n",
              "      <td>84</td>\n",
              "      <td>186.0</td>\n",
              "      <td>76.5</td>\n",
              "      <td>905940</td>\n",
              "    </tr>\n",
              "    <tr>\n",
              "      <th>23</th>\n",
              "      <td>Female</td>\n",
              "      <td>135</td>\n",
              "      <td>129</td>\n",
              "      <td>134</td>\n",
              "      <td>122.0</td>\n",
              "      <td>62.0</td>\n",
              "      <td>790619</td>\n",
              "    </tr>\n",
              "    <tr>\n",
              "      <th>24</th>\n",
              "      <td>Male</td>\n",
              "      <td>139</td>\n",
              "      <td>145</td>\n",
              "      <td>128</td>\n",
              "      <td>132.0</td>\n",
              "      <td>68.0</td>\n",
              "      <td>955003</td>\n",
              "    </tr>\n",
              "    <tr>\n",
              "      <th>25</th>\n",
              "      <td>Female</td>\n",
              "      <td>91</td>\n",
              "      <td>86</td>\n",
              "      <td>102</td>\n",
              "      <td>114.0</td>\n",
              "      <td>63.0</td>\n",
              "      <td>831772</td>\n",
              "    </tr>\n",
              "    <tr>\n",
              "      <th>26</th>\n",
              "      <td>Male</td>\n",
              "      <td>141</td>\n",
              "      <td>145</td>\n",
              "      <td>131</td>\n",
              "      <td>171.0</td>\n",
              "      <td>72.0</td>\n",
              "      <td>935494</td>\n",
              "    </tr>\n",
              "    <tr>\n",
              "      <th>27</th>\n",
              "      <td>Female</td>\n",
              "      <td>85</td>\n",
              "      <td>90</td>\n",
              "      <td>84</td>\n",
              "      <td>140.0</td>\n",
              "      <td>68.0</td>\n",
              "      <td>798612</td>\n",
              "    </tr>\n",
              "    <tr>\n",
              "      <th>28</th>\n",
              "      <td>Male</td>\n",
              "      <td>103</td>\n",
              "      <td>96</td>\n",
              "      <td>110</td>\n",
              "      <td>187.0</td>\n",
              "      <td>77.0</td>\n",
              "      <td>1062462</td>\n",
              "    </tr>\n",
              "    <tr>\n",
              "      <th>29</th>\n",
              "      <td>Female</td>\n",
              "      <td>77</td>\n",
              "      <td>83</td>\n",
              "      <td>72</td>\n",
              "      <td>106.0</td>\n",
              "      <td>63.0</td>\n",
              "      <td>793549</td>\n",
              "    </tr>\n",
              "    <tr>\n",
              "      <th>30</th>\n",
              "      <td>Female</td>\n",
              "      <td>130</td>\n",
              "      <td>126</td>\n",
              "      <td>124</td>\n",
              "      <td>159.0</td>\n",
              "      <td>66.5</td>\n",
              "      <td>866662</td>\n",
              "    </tr>\n",
              "    <tr>\n",
              "      <th>31</th>\n",
              "      <td>Female</td>\n",
              "      <td>133</td>\n",
              "      <td>126</td>\n",
              "      <td>132</td>\n",
              "      <td>127.0</td>\n",
              "      <td>62.5</td>\n",
              "      <td>857782</td>\n",
              "    </tr>\n",
              "    <tr>\n",
              "      <th>32</th>\n",
              "      <td>Male</td>\n",
              "      <td>144</td>\n",
              "      <td>145</td>\n",
              "      <td>137</td>\n",
              "      <td>191.0</td>\n",
              "      <td>67.0</td>\n",
              "      <td>949589</td>\n",
              "    </tr>\n",
              "    <tr>\n",
              "      <th>33</th>\n",
              "      <td>Male</td>\n",
              "      <td>103</td>\n",
              "      <td>96</td>\n",
              "      <td>110</td>\n",
              "      <td>192.0</td>\n",
              "      <td>75.5</td>\n",
              "      <td>997925</td>\n",
              "    </tr>\n",
              "    <tr>\n",
              "      <th>34</th>\n",
              "      <td>Male</td>\n",
              "      <td>90</td>\n",
              "      <td>96</td>\n",
              "      <td>86</td>\n",
              "      <td>181.0</td>\n",
              "      <td>69.0</td>\n",
              "      <td>879987</td>\n",
              "    </tr>\n",
              "    <tr>\n",
              "      <th>35</th>\n",
              "      <td>Female</td>\n",
              "      <td>83</td>\n",
              "      <td>90</td>\n",
              "      <td>81</td>\n",
              "      <td>143.0</td>\n",
              "      <td>66.5</td>\n",
              "      <td>834344</td>\n",
              "    </tr>\n",
              "    <tr>\n",
              "      <th>36</th>\n",
              "      <td>Female</td>\n",
              "      <td>133</td>\n",
              "      <td>129</td>\n",
              "      <td>128</td>\n",
              "      <td>153.0</td>\n",
              "      <td>66.5</td>\n",
              "      <td>948066</td>\n",
              "    </tr>\n",
              "    <tr>\n",
              "      <th>37</th>\n",
              "      <td>Male</td>\n",
              "      <td>140</td>\n",
              "      <td>150</td>\n",
              "      <td>124</td>\n",
              "      <td>144.0</td>\n",
              "      <td>70.5</td>\n",
              "      <td>949395</td>\n",
              "    </tr>\n",
              "    <tr>\n",
              "      <th>38</th>\n",
              "      <td>Female</td>\n",
              "      <td>88</td>\n",
              "      <td>86</td>\n",
              "      <td>94</td>\n",
              "      <td>139.0</td>\n",
              "      <td>64.5</td>\n",
              "      <td>893983</td>\n",
              "    </tr>\n",
              "    <tr>\n",
              "      <th>39</th>\n",
              "      <td>Male</td>\n",
              "      <td>81</td>\n",
              "      <td>90</td>\n",
              "      <td>74</td>\n",
              "      <td>148.0</td>\n",
              "      <td>74.0</td>\n",
              "      <td>930016</td>\n",
              "    </tr>\n",
              "    <tr>\n",
              "      <th>40</th>\n",
              "      <td>Male</td>\n",
              "      <td>89</td>\n",
              "      <td>91</td>\n",
              "      <td>89</td>\n",
              "      <td>179.0</td>\n",
              "      <td>75.5</td>\n",
              "      <td>935863</td>\n",
              "    </tr>\n",
              "  </tbody>\n",
              "</table>\n",
              "</div>"
            ],
            "text/plain": [
              "    Gender  FSIQ  VIQ  PIQ  Weight  Height  MRI_Count\n",
              "1   Female   133  132  124   118.0    64.5     816932\n",
              "2     Male   140  150  124     NaN    72.5    1001121\n",
              "3     Male   139  123  150   143.0    73.3    1038437\n",
              "4     Male   133  129  128   172.0    68.8     965353\n",
              "5   Female   137  132  134   147.0    65.0     951545\n",
              "6   Female    99   90  110   146.0    69.0     928799\n",
              "7   Female   138  136  131   138.0    64.5     991305\n",
              "8   Female    92   90   98   175.0    66.0     854258\n",
              "9     Male    89   93   84   134.0    66.3     904858\n",
              "10    Male   133  114  147   172.0    68.8     955466\n",
              "11  Female   132  129  124   118.0    64.5     833868\n",
              "12    Male   141  150  128   151.0    70.0    1079549\n",
              "13    Male   135  129  124   155.0    69.0     924059\n",
              "14  Female   140  120  147   155.0    70.5     856472\n",
              "15  Female    96  100   90   146.0    66.0     878897\n",
              "16  Female    83   71   96   135.0    68.0     865363\n",
              "17  Female   132  132  120   127.0    68.5     852244\n",
              "18    Male   100   96  102   178.0    73.5     945088\n",
              "19  Female   101  112   84   136.0    66.3     808020\n",
              "20    Male    80   77   86   180.0    70.0     889083\n",
              "21    Male    83   83   86     NaN     NaN     892420\n",
              "22    Male    97  107   84   186.0    76.5     905940\n",
              "23  Female   135  129  134   122.0    62.0     790619\n",
              "24    Male   139  145  128   132.0    68.0     955003\n",
              "25  Female    91   86  102   114.0    63.0     831772\n",
              "26    Male   141  145  131   171.0    72.0     935494\n",
              "27  Female    85   90   84   140.0    68.0     798612\n",
              "28    Male   103   96  110   187.0    77.0    1062462\n",
              "29  Female    77   83   72   106.0    63.0     793549\n",
              "30  Female   130  126  124   159.0    66.5     866662\n",
              "31  Female   133  126  132   127.0    62.5     857782\n",
              "32    Male   144  145  137   191.0    67.0     949589\n",
              "33    Male   103   96  110   192.0    75.5     997925\n",
              "34    Male    90   96   86   181.0    69.0     879987\n",
              "35  Female    83   90   81   143.0    66.5     834344\n",
              "36  Female   133  129  128   153.0    66.5     948066\n",
              "37    Male   140  150  124   144.0    70.5     949395\n",
              "38  Female    88   86   94   139.0    64.5     893983\n",
              "39    Male    81   90   74   148.0    74.0     930016\n",
              "40    Male    89   91   89   179.0    75.5     935863"
            ]
          },
          "metadata": {
            "tags": []
          },
          "execution_count": 36
        }
      ]
    },
    {
      "cell_type": "markdown",
      "metadata": {
        "id": "7UYGps1qVg8B"
      },
      "source": [
        "We can see tha the datatypes for the dataframe have been inferred. Columns with mixed types are stored with the object dtype. We can also set the dtype to be [categorical](https://pandas.pydata.org/pandas-docs/stable/user_guide/categorical.html) or [datetime](https://pandas.pydata.org/pandas-docs/stable/user_guide/timeseries.html). You can read the [documentation](https://pandas.pydata.org/pandas-docs/stable/user_guide/basics.html#basics-dtypes) for the various data types."
      ]
    },
    {
      "cell_type": "code",
      "metadata": {
        "id": "HI42i0xsVg8C",
        "colab": {
          "base_uri": "https://localhost:8080/"
        },
        "outputId": "3d37d16e-136e-40d2-ea86-7f7813e370d6"
      },
      "source": [
        "data_df.dtypes"
      ],
      "execution_count": 37,
      "outputs": [
        {
          "output_type": "execute_result",
          "data": {
            "text/plain": [
              "Gender        object\n",
              "FSIQ           int64\n",
              "VIQ            int64\n",
              "PIQ            int64\n",
              "Weight       float64\n",
              "Height       float64\n",
              "MRI_Count      int64\n",
              "dtype: object"
            ]
          },
          "metadata": {
            "tags": []
          },
          "execution_count": 37
        }
      ]
    },
    {
      "cell_type": "code",
      "metadata": {
        "id": "4hOdN75-Vg8C"
      },
      "source": [
        "data_df.Gender = pd.Categorical(data_df[\"Gender\"])"
      ],
      "execution_count": 38,
      "outputs": []
    },
    {
      "cell_type": "code",
      "metadata": {
        "colab": {
          "base_uri": "https://localhost:8080/"
        },
        "id": "7peDowlA0x18",
        "outputId": "577302de-9a4a-45fe-e433-18fc379f0c6e"
      },
      "source": [
        "data_df.dtypes"
      ],
      "execution_count": 39,
      "outputs": [
        {
          "output_type": "execute_result",
          "data": {
            "text/plain": [
              "Gender       category\n",
              "FSIQ            int64\n",
              "VIQ             int64\n",
              "PIQ             int64\n",
              "Weight        float64\n",
              "Height        float64\n",
              "MRI_Count       int64\n",
              "dtype: object"
            ]
          },
          "metadata": {
            "tags": []
          },
          "execution_count": 39
        }
      ]
    },
    {
      "cell_type": "markdown",
      "metadata": {
        "id": "FHisLE5YlZfR"
      },
      "source": [
        "### Operations on the CSV file using Pandas\n",
        "\n",
        "We can get some quick properties of the data using Dataframe functions."
      ]
    },
    {
      "cell_type": "code",
      "metadata": {
        "id": "7IDd0DhNVg8D",
        "colab": {
          "base_uri": "https://localhost:8080/",
          "height": 359
        },
        "outputId": "563ee944-f9da-4d1d-cfb9-a9ebf385c8a7"
      },
      "source": [
        "data_df.head(10)"
      ],
      "execution_count": 40,
      "outputs": [
        {
          "output_type": "execute_result",
          "data": {
            "text/html": [
              "<div>\n",
              "<style scoped>\n",
              "    .dataframe tbody tr th:only-of-type {\n",
              "        vertical-align: middle;\n",
              "    }\n",
              "\n",
              "    .dataframe tbody tr th {\n",
              "        vertical-align: top;\n",
              "    }\n",
              "\n",
              "    .dataframe thead th {\n",
              "        text-align: right;\n",
              "    }\n",
              "</style>\n",
              "<table border=\"1\" class=\"dataframe\">\n",
              "  <thead>\n",
              "    <tr style=\"text-align: right;\">\n",
              "      <th></th>\n",
              "      <th>Gender</th>\n",
              "      <th>FSIQ</th>\n",
              "      <th>VIQ</th>\n",
              "      <th>PIQ</th>\n",
              "      <th>Weight</th>\n",
              "      <th>Height</th>\n",
              "      <th>MRI_Count</th>\n",
              "    </tr>\n",
              "  </thead>\n",
              "  <tbody>\n",
              "    <tr>\n",
              "      <th>1</th>\n",
              "      <td>Female</td>\n",
              "      <td>133</td>\n",
              "      <td>132</td>\n",
              "      <td>124</td>\n",
              "      <td>118.0</td>\n",
              "      <td>64.5</td>\n",
              "      <td>816932</td>\n",
              "    </tr>\n",
              "    <tr>\n",
              "      <th>2</th>\n",
              "      <td>Male</td>\n",
              "      <td>140</td>\n",
              "      <td>150</td>\n",
              "      <td>124</td>\n",
              "      <td>NaN</td>\n",
              "      <td>72.5</td>\n",
              "      <td>1001121</td>\n",
              "    </tr>\n",
              "    <tr>\n",
              "      <th>3</th>\n",
              "      <td>Male</td>\n",
              "      <td>139</td>\n",
              "      <td>123</td>\n",
              "      <td>150</td>\n",
              "      <td>143.0</td>\n",
              "      <td>73.3</td>\n",
              "      <td>1038437</td>\n",
              "    </tr>\n",
              "    <tr>\n",
              "      <th>4</th>\n",
              "      <td>Male</td>\n",
              "      <td>133</td>\n",
              "      <td>129</td>\n",
              "      <td>128</td>\n",
              "      <td>172.0</td>\n",
              "      <td>68.8</td>\n",
              "      <td>965353</td>\n",
              "    </tr>\n",
              "    <tr>\n",
              "      <th>5</th>\n",
              "      <td>Female</td>\n",
              "      <td>137</td>\n",
              "      <td>132</td>\n",
              "      <td>134</td>\n",
              "      <td>147.0</td>\n",
              "      <td>65.0</td>\n",
              "      <td>951545</td>\n",
              "    </tr>\n",
              "    <tr>\n",
              "      <th>6</th>\n",
              "      <td>Female</td>\n",
              "      <td>99</td>\n",
              "      <td>90</td>\n",
              "      <td>110</td>\n",
              "      <td>146.0</td>\n",
              "      <td>69.0</td>\n",
              "      <td>928799</td>\n",
              "    </tr>\n",
              "    <tr>\n",
              "      <th>7</th>\n",
              "      <td>Female</td>\n",
              "      <td>138</td>\n",
              "      <td>136</td>\n",
              "      <td>131</td>\n",
              "      <td>138.0</td>\n",
              "      <td>64.5</td>\n",
              "      <td>991305</td>\n",
              "    </tr>\n",
              "    <tr>\n",
              "      <th>8</th>\n",
              "      <td>Female</td>\n",
              "      <td>92</td>\n",
              "      <td>90</td>\n",
              "      <td>98</td>\n",
              "      <td>175.0</td>\n",
              "      <td>66.0</td>\n",
              "      <td>854258</td>\n",
              "    </tr>\n",
              "    <tr>\n",
              "      <th>9</th>\n",
              "      <td>Male</td>\n",
              "      <td>89</td>\n",
              "      <td>93</td>\n",
              "      <td>84</td>\n",
              "      <td>134.0</td>\n",
              "      <td>66.3</td>\n",
              "      <td>904858</td>\n",
              "    </tr>\n",
              "    <tr>\n",
              "      <th>10</th>\n",
              "      <td>Male</td>\n",
              "      <td>133</td>\n",
              "      <td>114</td>\n",
              "      <td>147</td>\n",
              "      <td>172.0</td>\n",
              "      <td>68.8</td>\n",
              "      <td>955466</td>\n",
              "    </tr>\n",
              "  </tbody>\n",
              "</table>\n",
              "</div>"
            ],
            "text/plain": [
              "    Gender  FSIQ  VIQ  PIQ  Weight  Height  MRI_Count\n",
              "1   Female   133  132  124   118.0    64.5     816932\n",
              "2     Male   140  150  124     NaN    72.5    1001121\n",
              "3     Male   139  123  150   143.0    73.3    1038437\n",
              "4     Male   133  129  128   172.0    68.8     965353\n",
              "5   Female   137  132  134   147.0    65.0     951545\n",
              "6   Female    99   90  110   146.0    69.0     928799\n",
              "7   Female   138  136  131   138.0    64.5     991305\n",
              "8   Female    92   90   98   175.0    66.0     854258\n",
              "9     Male    89   93   84   134.0    66.3     904858\n",
              "10    Male   133  114  147   172.0    68.8     955466"
            ]
          },
          "metadata": {
            "tags": []
          },
          "execution_count": 40
        }
      ]
    },
    {
      "cell_type": "markdown",
      "metadata": {
        "id": "A3ksYd111Lys"
      },
      "source": [
        "We see that the second row in the dataframe has NaN value in \"Weight\" column - which indicates a missing value. Note that it is important to handle these missing values when doing statistical analysis."
      ]
    },
    {
      "cell_type": "code",
      "metadata": {
        "id": "BEseGRQLVg8D",
        "colab": {
          "base_uri": "https://localhost:8080/"
        },
        "outputId": "9f9ad2bb-4b65-4594-9dc0-1b190afde7e6"
      },
      "source": [
        "data_df.shape"
      ],
      "execution_count": 41,
      "outputs": [
        {
          "output_type": "execute_result",
          "data": {
            "text/plain": [
              "(40, 7)"
            ]
          },
          "metadata": {
            "tags": []
          },
          "execution_count": 41
        }
      ]
    },
    {
      "cell_type": "markdown",
      "metadata": {
        "id": "5NbnfSRM1OUv"
      },
      "source": [
        "This indicates that the dataframe has 40 rows and 7 columns. We can see the names of the columns if present in the csv too."
      ]
    },
    {
      "cell_type": "code",
      "metadata": {
        "id": "IpLUsLm_Vg8D",
        "colab": {
          "base_uri": "https://localhost:8080/"
        },
        "outputId": "298c1e70-fbde-4e6f-ec78-b50a0eae0485"
      },
      "source": [
        "data_df.columns"
      ],
      "execution_count": 42,
      "outputs": [
        {
          "output_type": "execute_result",
          "data": {
            "text/plain": [
              "Index(['Gender', 'FSIQ', 'VIQ', 'PIQ', 'Weight', 'Height', 'MRI_Count'], dtype='object')"
            ]
          },
          "metadata": {
            "tags": []
          },
          "execution_count": 42
        }
      ]
    },
    {
      "cell_type": "markdown",
      "metadata": {
        "id": "K1azqc4Wqr42"
      },
      "source": [
        "Pandas provides us with a quick way to generate descriptive statistics using the ```describe``` function. We will get the descriptive statistics for each of the numeric columns in the data frame.\n",
        "\n",
        "These statistics are generated by excluding the missing values in the data. The count value in the statistics can also thus be used to get an idea of the number of missing values in the column. "
      ]
    },
    {
      "cell_type": "code",
      "metadata": {
        "id": "FOuZ3RBnVg8E",
        "colab": {
          "base_uri": "https://localhost:8080/",
          "height": 297
        },
        "outputId": "08941684-8f74-4a4e-8144-852fa471072b"
      },
      "source": [
        "data_df.describe()"
      ],
      "execution_count": 43,
      "outputs": [
        {
          "output_type": "execute_result",
          "data": {
            "text/html": [
              "<div>\n",
              "<style scoped>\n",
              "    .dataframe tbody tr th:only-of-type {\n",
              "        vertical-align: middle;\n",
              "    }\n",
              "\n",
              "    .dataframe tbody tr th {\n",
              "        vertical-align: top;\n",
              "    }\n",
              "\n",
              "    .dataframe thead th {\n",
              "        text-align: right;\n",
              "    }\n",
              "</style>\n",
              "<table border=\"1\" class=\"dataframe\">\n",
              "  <thead>\n",
              "    <tr style=\"text-align: right;\">\n",
              "      <th></th>\n",
              "      <th>FSIQ</th>\n",
              "      <th>VIQ</th>\n",
              "      <th>PIQ</th>\n",
              "      <th>Weight</th>\n",
              "      <th>Height</th>\n",
              "      <th>MRI_Count</th>\n",
              "    </tr>\n",
              "  </thead>\n",
              "  <tbody>\n",
              "    <tr>\n",
              "      <th>count</th>\n",
              "      <td>40.000000</td>\n",
              "      <td>40.000000</td>\n",
              "      <td>40.00000</td>\n",
              "      <td>38.000000</td>\n",
              "      <td>39.000000</td>\n",
              "      <td>4.000000e+01</td>\n",
              "    </tr>\n",
              "    <tr>\n",
              "      <th>mean</th>\n",
              "      <td>113.450000</td>\n",
              "      <td>112.350000</td>\n",
              "      <td>111.02500</td>\n",
              "      <td>151.052632</td>\n",
              "      <td>68.525641</td>\n",
              "      <td>9.087550e+05</td>\n",
              "    </tr>\n",
              "    <tr>\n",
              "      <th>std</th>\n",
              "      <td>24.082071</td>\n",
              "      <td>23.616107</td>\n",
              "      <td>22.47105</td>\n",
              "      <td>23.478509</td>\n",
              "      <td>3.994649</td>\n",
              "      <td>7.228205e+04</td>\n",
              "    </tr>\n",
              "    <tr>\n",
              "      <th>min</th>\n",
              "      <td>77.000000</td>\n",
              "      <td>71.000000</td>\n",
              "      <td>72.00000</td>\n",
              "      <td>106.000000</td>\n",
              "      <td>62.000000</td>\n",
              "      <td>7.906190e+05</td>\n",
              "    </tr>\n",
              "    <tr>\n",
              "      <th>25%</th>\n",
              "      <td>89.750000</td>\n",
              "      <td>90.000000</td>\n",
              "      <td>88.25000</td>\n",
              "      <td>135.250000</td>\n",
              "      <td>66.000000</td>\n",
              "      <td>8.559185e+05</td>\n",
              "    </tr>\n",
              "    <tr>\n",
              "      <th>50%</th>\n",
              "      <td>116.500000</td>\n",
              "      <td>113.000000</td>\n",
              "      <td>115.00000</td>\n",
              "      <td>146.500000</td>\n",
              "      <td>68.000000</td>\n",
              "      <td>9.053990e+05</td>\n",
              "    </tr>\n",
              "    <tr>\n",
              "      <th>75%</th>\n",
              "      <td>135.500000</td>\n",
              "      <td>129.750000</td>\n",
              "      <td>128.00000</td>\n",
              "      <td>172.000000</td>\n",
              "      <td>70.500000</td>\n",
              "      <td>9.500780e+05</td>\n",
              "    </tr>\n",
              "    <tr>\n",
              "      <th>max</th>\n",
              "      <td>144.000000</td>\n",
              "      <td>150.000000</td>\n",
              "      <td>150.00000</td>\n",
              "      <td>192.000000</td>\n",
              "      <td>77.000000</td>\n",
              "      <td>1.079549e+06</td>\n",
              "    </tr>\n",
              "  </tbody>\n",
              "</table>\n",
              "</div>"
            ],
            "text/plain": [
              "             FSIQ         VIQ        PIQ      Weight     Height     MRI_Count\n",
              "count   40.000000   40.000000   40.00000   38.000000  39.000000  4.000000e+01\n",
              "mean   113.450000  112.350000  111.02500  151.052632  68.525641  9.087550e+05\n",
              "std     24.082071   23.616107   22.47105   23.478509   3.994649  7.228205e+04\n",
              "min     77.000000   71.000000   72.00000  106.000000  62.000000  7.906190e+05\n",
              "25%     89.750000   90.000000   88.25000  135.250000  66.000000  8.559185e+05\n",
              "50%    116.500000  113.000000  115.00000  146.500000  68.000000  9.053990e+05\n",
              "75%    135.500000  129.750000  128.00000  172.000000  70.500000  9.500780e+05\n",
              "max    144.000000  150.000000  150.00000  192.000000  77.000000  1.079549e+06"
            ]
          },
          "metadata": {
            "tags": []
          },
          "execution_count": 43
        }
      ]
    },
    {
      "cell_type": "code",
      "metadata": {
        "id": "B4AwKRUyVg8E",
        "colab": {
          "base_uri": "https://localhost:8080/",
          "height": 390
        },
        "outputId": "0e8ae941-eef8-47a6-c4be-4adbca519efd"
      },
      "source": [
        "data_df.describe(include=\"all\")"
      ],
      "execution_count": 44,
      "outputs": [
        {
          "output_type": "execute_result",
          "data": {
            "text/html": [
              "<div>\n",
              "<style scoped>\n",
              "    .dataframe tbody tr th:only-of-type {\n",
              "        vertical-align: middle;\n",
              "    }\n",
              "\n",
              "    .dataframe tbody tr th {\n",
              "        vertical-align: top;\n",
              "    }\n",
              "\n",
              "    .dataframe thead th {\n",
              "        text-align: right;\n",
              "    }\n",
              "</style>\n",
              "<table border=\"1\" class=\"dataframe\">\n",
              "  <thead>\n",
              "    <tr style=\"text-align: right;\">\n",
              "      <th></th>\n",
              "      <th>Gender</th>\n",
              "      <th>FSIQ</th>\n",
              "      <th>VIQ</th>\n",
              "      <th>PIQ</th>\n",
              "      <th>Weight</th>\n",
              "      <th>Height</th>\n",
              "      <th>MRI_Count</th>\n",
              "    </tr>\n",
              "  </thead>\n",
              "  <tbody>\n",
              "    <tr>\n",
              "      <th>count</th>\n",
              "      <td>40</td>\n",
              "      <td>40.000000</td>\n",
              "      <td>40.000000</td>\n",
              "      <td>40.00000</td>\n",
              "      <td>38.000000</td>\n",
              "      <td>39.000000</td>\n",
              "      <td>4.000000e+01</td>\n",
              "    </tr>\n",
              "    <tr>\n",
              "      <th>unique</th>\n",
              "      <td>2</td>\n",
              "      <td>NaN</td>\n",
              "      <td>NaN</td>\n",
              "      <td>NaN</td>\n",
              "      <td>NaN</td>\n",
              "      <td>NaN</td>\n",
              "      <td>NaN</td>\n",
              "    </tr>\n",
              "    <tr>\n",
              "      <th>top</th>\n",
              "      <td>Male</td>\n",
              "      <td>NaN</td>\n",
              "      <td>NaN</td>\n",
              "      <td>NaN</td>\n",
              "      <td>NaN</td>\n",
              "      <td>NaN</td>\n",
              "      <td>NaN</td>\n",
              "    </tr>\n",
              "    <tr>\n",
              "      <th>freq</th>\n",
              "      <td>20</td>\n",
              "      <td>NaN</td>\n",
              "      <td>NaN</td>\n",
              "      <td>NaN</td>\n",
              "      <td>NaN</td>\n",
              "      <td>NaN</td>\n",
              "      <td>NaN</td>\n",
              "    </tr>\n",
              "    <tr>\n",
              "      <th>mean</th>\n",
              "      <td>NaN</td>\n",
              "      <td>113.450000</td>\n",
              "      <td>112.350000</td>\n",
              "      <td>111.02500</td>\n",
              "      <td>151.052632</td>\n",
              "      <td>68.525641</td>\n",
              "      <td>9.087550e+05</td>\n",
              "    </tr>\n",
              "    <tr>\n",
              "      <th>std</th>\n",
              "      <td>NaN</td>\n",
              "      <td>24.082071</td>\n",
              "      <td>23.616107</td>\n",
              "      <td>22.47105</td>\n",
              "      <td>23.478509</td>\n",
              "      <td>3.994649</td>\n",
              "      <td>7.228205e+04</td>\n",
              "    </tr>\n",
              "    <tr>\n",
              "      <th>min</th>\n",
              "      <td>NaN</td>\n",
              "      <td>77.000000</td>\n",
              "      <td>71.000000</td>\n",
              "      <td>72.00000</td>\n",
              "      <td>106.000000</td>\n",
              "      <td>62.000000</td>\n",
              "      <td>7.906190e+05</td>\n",
              "    </tr>\n",
              "    <tr>\n",
              "      <th>25%</th>\n",
              "      <td>NaN</td>\n",
              "      <td>89.750000</td>\n",
              "      <td>90.000000</td>\n",
              "      <td>88.25000</td>\n",
              "      <td>135.250000</td>\n",
              "      <td>66.000000</td>\n",
              "      <td>8.559185e+05</td>\n",
              "    </tr>\n",
              "    <tr>\n",
              "      <th>50%</th>\n",
              "      <td>NaN</td>\n",
              "      <td>116.500000</td>\n",
              "      <td>113.000000</td>\n",
              "      <td>115.00000</td>\n",
              "      <td>146.500000</td>\n",
              "      <td>68.000000</td>\n",
              "      <td>9.053990e+05</td>\n",
              "    </tr>\n",
              "    <tr>\n",
              "      <th>75%</th>\n",
              "      <td>NaN</td>\n",
              "      <td>135.500000</td>\n",
              "      <td>129.750000</td>\n",
              "      <td>128.00000</td>\n",
              "      <td>172.000000</td>\n",
              "      <td>70.500000</td>\n",
              "      <td>9.500780e+05</td>\n",
              "    </tr>\n",
              "    <tr>\n",
              "      <th>max</th>\n",
              "      <td>NaN</td>\n",
              "      <td>144.000000</td>\n",
              "      <td>150.000000</td>\n",
              "      <td>150.00000</td>\n",
              "      <td>192.000000</td>\n",
              "      <td>77.000000</td>\n",
              "      <td>1.079549e+06</td>\n",
              "    </tr>\n",
              "  </tbody>\n",
              "</table>\n",
              "</div>"
            ],
            "text/plain": [
              "       Gender        FSIQ         VIQ  ...      Weight     Height     MRI_Count\n",
              "count      40   40.000000   40.000000  ...   38.000000  39.000000  4.000000e+01\n",
              "unique      2         NaN         NaN  ...         NaN        NaN           NaN\n",
              "top      Male         NaN         NaN  ...         NaN        NaN           NaN\n",
              "freq       20         NaN         NaN  ...         NaN        NaN           NaN\n",
              "mean      NaN  113.450000  112.350000  ...  151.052632  68.525641  9.087550e+05\n",
              "std       NaN   24.082071   23.616107  ...   23.478509   3.994649  7.228205e+04\n",
              "min       NaN   77.000000   71.000000  ...  106.000000  62.000000  7.906190e+05\n",
              "25%       NaN   89.750000   90.000000  ...  135.250000  66.000000  8.559185e+05\n",
              "50%       NaN  116.500000  113.000000  ...  146.500000  68.000000  9.053990e+05\n",
              "75%       NaN  135.500000  129.750000  ...  172.000000  70.500000  9.500780e+05\n",
              "max       NaN  144.000000  150.000000  ...  192.000000  77.000000  1.079549e+06\n",
              "\n",
              "[11 rows x 7 columns]"
            ]
          },
          "metadata": {
            "tags": []
          },
          "execution_count": 44
        }
      ]
    },
    {
      "cell_type": "markdown",
      "metadata": {
        "id": "gzcWeZH1sUi2"
      },
      "source": [
        "We can also check the dataframe for a specific value of specific column directly using format ```df[col]==val```. This returns a series with ```True``` values for only those rows which have the specific ```val``` in the ```col``` mentioned. "
      ]
    },
    {
      "cell_type": "code",
      "metadata": {
        "id": "qji5gyJj12vf"
      },
      "source": [
        "df_female = data_df[\"Gender\"]==\"Female\""
      ],
      "execution_count": 45,
      "outputs": []
    },
    {
      "cell_type": "code",
      "metadata": {
        "colab": {
          "base_uri": "https://localhost:8080/"
        },
        "id": "igaVfB_S17w7",
        "outputId": "5687be16-475b-41eb-a5bd-01b2df2d7e86"
      },
      "source": [
        "df_female.head()"
      ],
      "execution_count": 46,
      "outputs": [
        {
          "output_type": "execute_result",
          "data": {
            "text/plain": [
              "1     True\n",
              "2    False\n",
              "3    False\n",
              "4    False\n",
              "5     True\n",
              "Name: Gender, dtype: bool"
            ]
          },
          "metadata": {
            "tags": []
          },
          "execution_count": 46
        }
      ]
    },
    {
      "cell_type": "markdown",
      "metadata": {
        "id": "nTu0yrIRtGiR"
      },
      "source": [
        "This list can be used to filter the dataframe to get only the rows which adhere to the condition mentioned."
      ]
    },
    {
      "cell_type": "code",
      "metadata": {
        "id": "q9BwacLWVg8E",
        "colab": {
          "base_uri": "https://localhost:8080/"
        },
        "outputId": "e0a49e9d-c7a9-44d1-c05f-5c65fa69f4f1"
      },
      "source": [
        "data_df[data_df[\"Gender\"]==\"Female\"]['VIQ'].mean()"
      ],
      "execution_count": 47,
      "outputs": [
        {
          "output_type": "execute_result",
          "data": {
            "text/plain": [
              "109.45"
            ]
          },
          "metadata": {
            "tags": []
          },
          "execution_count": 47
        }
      ]
    },
    {
      "cell_type": "markdown",
      "metadata": {
        "id": "HyNbbOY32ZlE"
      },
      "source": [
        "Alternatively, we can use the series to create a new column ```isFemale``` too."
      ]
    },
    {
      "cell_type": "code",
      "metadata": {
        "id": "HltXMlGYVg8F"
      },
      "source": [
        "data_df[\"isFemale\"] = df_female"
      ],
      "execution_count": 48,
      "outputs": []
    },
    {
      "cell_type": "code",
      "metadata": {
        "colab": {
          "base_uri": "https://localhost:8080/",
          "height": 204
        },
        "id": "DXytLnKj2N44",
        "outputId": "7200cbed-f8d5-4fe3-d76c-1326746a247b"
      },
      "source": [
        "data_df.head()"
      ],
      "execution_count": 49,
      "outputs": [
        {
          "output_type": "execute_result",
          "data": {
            "text/html": [
              "<div>\n",
              "<style scoped>\n",
              "    .dataframe tbody tr th:only-of-type {\n",
              "        vertical-align: middle;\n",
              "    }\n",
              "\n",
              "    .dataframe tbody tr th {\n",
              "        vertical-align: top;\n",
              "    }\n",
              "\n",
              "    .dataframe thead th {\n",
              "        text-align: right;\n",
              "    }\n",
              "</style>\n",
              "<table border=\"1\" class=\"dataframe\">\n",
              "  <thead>\n",
              "    <tr style=\"text-align: right;\">\n",
              "      <th></th>\n",
              "      <th>Gender</th>\n",
              "      <th>FSIQ</th>\n",
              "      <th>VIQ</th>\n",
              "      <th>PIQ</th>\n",
              "      <th>Weight</th>\n",
              "      <th>Height</th>\n",
              "      <th>MRI_Count</th>\n",
              "      <th>isFemale</th>\n",
              "    </tr>\n",
              "  </thead>\n",
              "  <tbody>\n",
              "    <tr>\n",
              "      <th>1</th>\n",
              "      <td>Female</td>\n",
              "      <td>133</td>\n",
              "      <td>132</td>\n",
              "      <td>124</td>\n",
              "      <td>118.0</td>\n",
              "      <td>64.5</td>\n",
              "      <td>816932</td>\n",
              "      <td>True</td>\n",
              "    </tr>\n",
              "    <tr>\n",
              "      <th>2</th>\n",
              "      <td>Male</td>\n",
              "      <td>140</td>\n",
              "      <td>150</td>\n",
              "      <td>124</td>\n",
              "      <td>NaN</td>\n",
              "      <td>72.5</td>\n",
              "      <td>1001121</td>\n",
              "      <td>False</td>\n",
              "    </tr>\n",
              "    <tr>\n",
              "      <th>3</th>\n",
              "      <td>Male</td>\n",
              "      <td>139</td>\n",
              "      <td>123</td>\n",
              "      <td>150</td>\n",
              "      <td>143.0</td>\n",
              "      <td>73.3</td>\n",
              "      <td>1038437</td>\n",
              "      <td>False</td>\n",
              "    </tr>\n",
              "    <tr>\n",
              "      <th>4</th>\n",
              "      <td>Male</td>\n",
              "      <td>133</td>\n",
              "      <td>129</td>\n",
              "      <td>128</td>\n",
              "      <td>172.0</td>\n",
              "      <td>68.8</td>\n",
              "      <td>965353</td>\n",
              "      <td>False</td>\n",
              "    </tr>\n",
              "    <tr>\n",
              "      <th>5</th>\n",
              "      <td>Female</td>\n",
              "      <td>137</td>\n",
              "      <td>132</td>\n",
              "      <td>134</td>\n",
              "      <td>147.0</td>\n",
              "      <td>65.0</td>\n",
              "      <td>951545</td>\n",
              "      <td>True</td>\n",
              "    </tr>\n",
              "  </tbody>\n",
              "</table>\n",
              "</div>"
            ],
            "text/plain": [
              "   Gender  FSIQ  VIQ  PIQ  Weight  Height  MRI_Count  isFemale\n",
              "1  Female   133  132  124   118.0    64.5     816932      True\n",
              "2    Male   140  150  124     NaN    72.5    1001121     False\n",
              "3    Male   139  123  150   143.0    73.3    1038437     False\n",
              "4    Male   133  129  128   172.0    68.8     965353     False\n",
              "5  Female   137  132  134   147.0    65.0     951545      True"
            ]
          },
          "metadata": {
            "tags": []
          },
          "execution_count": 49
        }
      ]
    },
    {
      "cell_type": "markdown",
      "metadata": {
        "id": "oCJCeQIaq-hC"
      },
      "source": [
        "#### Grouping on values \n",
        "\n",
        "You can use ```groupby``` function to split the dataframe on values of the variable."
      ]
    },
    {
      "cell_type": "code",
      "metadata": {
        "id": "JRWARWCvVg8F"
      },
      "source": [
        "gender_groupby = data_df.groupby(\"Gender\")"
      ],
      "execution_count": 50,
      "outputs": []
    },
    {
      "cell_type": "code",
      "metadata": {
        "colab": {
          "base_uri": "https://localhost:8080/"
        },
        "id": "AQBX4dWA36Sj",
        "outputId": "171cd499-6298-4d9e-e730-12a9ed2267f2"
      },
      "source": [
        "gender_groupby"
      ],
      "execution_count": 51,
      "outputs": [
        {
          "output_type": "execute_result",
          "data": {
            "text/plain": [
              "<pandas.core.groupby.generic.DataFrameGroupBy object at 0x7fb3ad321748>"
            ]
          },
          "metadata": {
            "tags": []
          },
          "execution_count": 51
        }
      ]
    },
    {
      "cell_type": "code",
      "metadata": {
        "colab": {
          "base_uri": "https://localhost:8080/"
        },
        "id": "nsuVn4iN38u0",
        "outputId": "4fa91f77-f1ac-455c-d56b-bae884c52c80"
      },
      "source": [
        "for gender, val in gender_groupby[\"VIQ\"]:\n",
        "  print(\"Gender:\" + str(gender))\n",
        "  print(\"Values\")\n",
        "  print(val)"
      ],
      "execution_count": 52,
      "outputs": [
        {
          "output_type": "stream",
          "text": [
            "Gender:Female\n",
            "Values\n",
            "1     132\n",
            "5     132\n",
            "6      90\n",
            "7     136\n",
            "8      90\n",
            "11    129\n",
            "14    120\n",
            "15    100\n",
            "16     71\n",
            "17    132\n",
            "19    112\n",
            "23    129\n",
            "25     86\n",
            "27     90\n",
            "29     83\n",
            "30    126\n",
            "31    126\n",
            "35     90\n",
            "36    129\n",
            "38     86\n",
            "Name: VIQ, dtype: int64\n",
            "Gender:Male\n",
            "Values\n",
            "2     150\n",
            "3     123\n",
            "4     129\n",
            "9      93\n",
            "10    114\n",
            "12    150\n",
            "13    129\n",
            "18     96\n",
            "20     77\n",
            "21     83\n",
            "22    107\n",
            "24    145\n",
            "26    145\n",
            "28     96\n",
            "32    145\n",
            "33     96\n",
            "34     96\n",
            "37    150\n",
            "39     90\n",
            "40     91\n",
            "Name: VIQ, dtype: int64\n"
          ],
          "name": "stdout"
        }
      ]
    },
    {
      "cell_type": "markdown",
      "metadata": {
        "id": "Of752Q0M4mA7"
      },
      "source": [
        "So, we see that groupby returns an object that contains information for the group - the groupby VIQ in this case created a series grouped on the value of Gender."
      ]
    },
    {
      "cell_type": "markdown",
      "metadata": {
        "id": "bUlmYwpno2Mx"
      },
      "source": [
        "Typically we use groupby to get some aggregate statistics for the groups we have done a groupby on. It is important to note that groupby evaluation is lazy - i.e. no computation is done untill the aggregation function is applied. "
      ]
    },
    {
      "cell_type": "code",
      "metadata": {
        "id": "3lc09MGmVg8F",
        "colab": {
          "base_uri": "https://localhost:8080/",
          "height": 142
        },
        "outputId": "8294fb0e-aafd-401a-f7a8-65c4ceb3540c"
      },
      "source": [
        "gender_groupby.mean()"
      ],
      "execution_count": 53,
      "outputs": [
        {
          "output_type": "execute_result",
          "data": {
            "text/html": [
              "<div>\n",
              "<style scoped>\n",
              "    .dataframe tbody tr th:only-of-type {\n",
              "        vertical-align: middle;\n",
              "    }\n",
              "\n",
              "    .dataframe tbody tr th {\n",
              "        vertical-align: top;\n",
              "    }\n",
              "\n",
              "    .dataframe thead th {\n",
              "        text-align: right;\n",
              "    }\n",
              "</style>\n",
              "<table border=\"1\" class=\"dataframe\">\n",
              "  <thead>\n",
              "    <tr style=\"text-align: right;\">\n",
              "      <th></th>\n",
              "      <th>FSIQ</th>\n",
              "      <th>VIQ</th>\n",
              "      <th>PIQ</th>\n",
              "      <th>Weight</th>\n",
              "      <th>Height</th>\n",
              "      <th>MRI_Count</th>\n",
              "      <th>isFemale</th>\n",
              "    </tr>\n",
              "    <tr>\n",
              "      <th>Gender</th>\n",
              "      <th></th>\n",
              "      <th></th>\n",
              "      <th></th>\n",
              "      <th></th>\n",
              "      <th></th>\n",
              "      <th></th>\n",
              "      <th></th>\n",
              "    </tr>\n",
              "  </thead>\n",
              "  <tbody>\n",
              "    <tr>\n",
              "      <th>Female</th>\n",
              "      <td>111.9</td>\n",
              "      <td>109.45</td>\n",
              "      <td>110.45</td>\n",
              "      <td>137.200000</td>\n",
              "      <td>65.765000</td>\n",
              "      <td>862654.6</td>\n",
              "      <td>True</td>\n",
              "    </tr>\n",
              "    <tr>\n",
              "      <th>Male</th>\n",
              "      <td>115.0</td>\n",
              "      <td>115.25</td>\n",
              "      <td>111.60</td>\n",
              "      <td>166.444444</td>\n",
              "      <td>71.431579</td>\n",
              "      <td>954855.4</td>\n",
              "      <td>False</td>\n",
              "    </tr>\n",
              "  </tbody>\n",
              "</table>\n",
              "</div>"
            ],
            "text/plain": [
              "         FSIQ     VIQ     PIQ      Weight     Height  MRI_Count  isFemale\n",
              "Gender                                                                   \n",
              "Female  111.9  109.45  110.45  137.200000  65.765000   862654.6      True\n",
              "Male    115.0  115.25  111.60  166.444444  71.431579   954855.4     False"
            ]
          },
          "metadata": {
            "tags": []
          },
          "execution_count": 53
        }
      ]
    },
    {
      "cell_type": "markdown",
      "metadata": {
        "id": "VyqGFzfpVg8G"
      },
      "source": [
        "## Handling Other File Formats in Pandas\n",
        "\n",
        "Pandas supports reading many different file formats - including general delimited file (which is referred to as table), Excel, JSON, HDF5, SQL, etc. You can refer to the [documentation](https://pandas.pydata.org/pandas-docs/stable/reference/io.html) for full details. \n",
        "\n",
        "### JSON files\n",
        "In Python, JSON files can natively also be handled using the [json](https://docs.python.org/3/library/json.html) module. We basically treat the data as Python dictionary. \n",
        "\n",
        "Let us quickly explore handling of JSON file in Pandas. For reading a JSON file, the orientation of the file plays an important role, which describes how the JSON file is structured and must be read.  \n",
        "+ 'split' : dict like {index -> \\[index\\], columns -> \\[columns\\], data -> \\[values\\]}\n",
        "+ 'records' : list like \\[{column -> value}, ... , {column -> value}\\]\n",
        "+ 'index' : dict like {index -> {column -> value}}\n",
        "+ 'columns' : dict like {column -> {index -> value}}\n",
        "+ 'values' : just the values array\n",
        "\n",
        "We can write the `data_df` dataframe as JSON and read it. "
      ]
    },
    {
      "cell_type": "code",
      "metadata": {
        "id": "2h5yTYU2Vg8G",
        "colab": {
          "base_uri": "https://localhost:8080/",
          "height": 120
        },
        "outputId": "85d65338-96c9-496c-8a3b-56f813f884f8"
      },
      "source": [
        "data_df.to_json(orient=\"split\")"
      ],
      "execution_count": 54,
      "outputs": [
        {
          "output_type": "execute_result",
          "data": {
            "application/vnd.google.colaboratory.intrinsic+json": {
              "type": "string"
            },
            "text/plain": [
              "'{\"columns\":[\"Gender\",\"FSIQ\",\"VIQ\",\"PIQ\",\"Weight\",\"Height\",\"MRI_Count\",\"isFemale\"],\"index\":[1,2,3,4,5,6,7,8,9,10,11,12,13,14,15,16,17,18,19,20,21,22,23,24,25,26,27,28,29,30,31,32,33,34,35,36,37,38,39,40],\"data\":[[\"Female\",133,132,124,118.0,64.5,816932,true],[\"Male\",140,150,124,null,72.5,1001121,false],[\"Male\",139,123,150,143.0,73.3,1038437,false],[\"Male\",133,129,128,172.0,68.8,965353,false],[\"Female\",137,132,134,147.0,65.0,951545,true],[\"Female\",99,90,110,146.0,69.0,928799,true],[\"Female\",138,136,131,138.0,64.5,991305,true],[\"Female\",92,90,98,175.0,66.0,854258,true],[\"Male\",89,93,84,134.0,66.3,904858,false],[\"Male\",133,114,147,172.0,68.8,955466,false],[\"Female\",132,129,124,118.0,64.5,833868,true],[\"Male\",141,150,128,151.0,70.0,1079549,false],[\"Male\",135,129,124,155.0,69.0,924059,false],[\"Female\",140,120,147,155.0,70.5,856472,true],[\"Female\",96,100,90,146.0,66.0,878897,true],[\"Female\",83,71,96,135.0,68.0,865363,true],[\"Female\",132,132,120,127.0,68.5,852244,true],[\"Male\",100,96,102,178.0,73.5,945088,false],[\"Female\",101,112,84,136.0,66.3,808020,true],[\"Male\",80,77,86,180.0,70.0,889083,false],[\"Male\",83,83,86,null,null,892420,false],[\"Male\",97,107,84,186.0,76.5,905940,false],[\"Female\",135,129,134,122.0,62.0,790619,true],[\"Male\",139,145,128,132.0,68.0,955003,false],[\"Female\",91,86,102,114.0,63.0,831772,true],[\"Male\",141,145,131,171.0,72.0,935494,false],[\"Female\",85,90,84,140.0,68.0,798612,true],[\"Male\",103,96,110,187.0,77.0,1062462,false],[\"Female\",77,83,72,106.0,63.0,793549,true],[\"Female\",130,126,124,159.0,66.5,866662,true],[\"Female\",133,126,132,127.0,62.5,857782,true],[\"Male\",144,145,137,191.0,67.0,949589,false],[\"Male\",103,96,110,192.0,75.5,997925,false],[\"Male\",90,96,86,181.0,69.0,879987,false],[\"Female\",83,90,81,143.0,66.5,834344,true],[\"Female\",133,129,128,153.0,66.5,948066,true],[\"Male\",140,150,124,144.0,70.5,949395,false],[\"Female\",88,86,94,139.0,64.5,893983,true],[\"Male\",81,90,74,148.0,74.0,930016,false],[\"Male\",89,91,89,179.0,75.5,935863,false]]}'"
            ]
          },
          "metadata": {
            "tags": []
          },
          "execution_count": 54
        }
      ]
    },
    {
      "cell_type": "code",
      "metadata": {
        "id": "0u4pRWI_Vg8G",
        "colab": {
          "base_uri": "https://localhost:8080/",
          "height": 120
        },
        "outputId": "ffe0f0f3-6f50-4257-dd2b-dc00011c62c3"
      },
      "source": [
        "data_df.to_json(orient=\"records\")"
      ],
      "execution_count": 55,
      "outputs": [
        {
          "output_type": "execute_result",
          "data": {
            "application/vnd.google.colaboratory.intrinsic+json": {
              "type": "string"
            },
            "text/plain": [
              "'[{\"Gender\":\"Female\",\"FSIQ\":133,\"VIQ\":132,\"PIQ\":124,\"Weight\":118.0,\"Height\":64.5,\"MRI_Count\":816932,\"isFemale\":true},{\"Gender\":\"Male\",\"FSIQ\":140,\"VIQ\":150,\"PIQ\":124,\"Weight\":null,\"Height\":72.5,\"MRI_Count\":1001121,\"isFemale\":false},{\"Gender\":\"Male\",\"FSIQ\":139,\"VIQ\":123,\"PIQ\":150,\"Weight\":143.0,\"Height\":73.3,\"MRI_Count\":1038437,\"isFemale\":false},{\"Gender\":\"Male\",\"FSIQ\":133,\"VIQ\":129,\"PIQ\":128,\"Weight\":172.0,\"Height\":68.8,\"MRI_Count\":965353,\"isFemale\":false},{\"Gender\":\"Female\",\"FSIQ\":137,\"VIQ\":132,\"PIQ\":134,\"Weight\":147.0,\"Height\":65.0,\"MRI_Count\":951545,\"isFemale\":true},{\"Gender\":\"Female\",\"FSIQ\":99,\"VIQ\":90,\"PIQ\":110,\"Weight\":146.0,\"Height\":69.0,\"MRI_Count\":928799,\"isFemale\":true},{\"Gender\":\"Female\",\"FSIQ\":138,\"VIQ\":136,\"PIQ\":131,\"Weight\":138.0,\"Height\":64.5,\"MRI_Count\":991305,\"isFemale\":true},{\"Gender\":\"Female\",\"FSIQ\":92,\"VIQ\":90,\"PIQ\":98,\"Weight\":175.0,\"Height\":66.0,\"MRI_Count\":854258,\"isFemale\":true},{\"Gender\":\"Male\",\"FSIQ\":89,\"VIQ\":93,\"PIQ\":84,\"Weight\":134.0,\"Height\":66.3,\"MRI_Count\":904858,\"isFemale\":false},{\"Gender\":\"Male\",\"FSIQ\":133,\"VIQ\":114,\"PIQ\":147,\"Weight\":172.0,\"Height\":68.8,\"MRI_Count\":955466,\"isFemale\":false},{\"Gender\":\"Female\",\"FSIQ\":132,\"VIQ\":129,\"PIQ\":124,\"Weight\":118.0,\"Height\":64.5,\"MRI_Count\":833868,\"isFemale\":true},{\"Gender\":\"Male\",\"FSIQ\":141,\"VIQ\":150,\"PIQ\":128,\"Weight\":151.0,\"Height\":70.0,\"MRI_Count\":1079549,\"isFemale\":false},{\"Gender\":\"Male\",\"FSIQ\":135,\"VIQ\":129,\"PIQ\":124,\"Weight\":155.0,\"Height\":69.0,\"MRI_Count\":924059,\"isFemale\":false},{\"Gender\":\"Female\",\"FSIQ\":140,\"VIQ\":120,\"PIQ\":147,\"Weight\":155.0,\"Height\":70.5,\"MRI_Count\":856472,\"isFemale\":true},{\"Gender\":\"Female\",\"FSIQ\":96,\"VIQ\":100,\"PIQ\":90,\"Weight\":146.0,\"Height\":66.0,\"MRI_Count\":878897,\"isFemale\":true},{\"Gender\":\"Female\",\"FSIQ\":83,\"VIQ\":71,\"PIQ\":96,\"Weight\":135.0,\"Height\":68.0,\"MRI_Count\":865363,\"isFemale\":true},{\"Gender\":\"Female\",\"FSIQ\":132,\"VIQ\":132,\"PIQ\":120,\"Weight\":127.0,\"Height\":68.5,\"MRI_Count\":852244,\"isFemale\":true},{\"Gender\":\"Male\",\"FSIQ\":100,\"VIQ\":96,\"PIQ\":102,\"Weight\":178.0,\"Height\":73.5,\"MRI_Count\":945088,\"isFemale\":false},{\"Gender\":\"Female\",\"FSIQ\":101,\"VIQ\":112,\"PIQ\":84,\"Weight\":136.0,\"Height\":66.3,\"MRI_Count\":808020,\"isFemale\":true},{\"Gender\":\"Male\",\"FSIQ\":80,\"VIQ\":77,\"PIQ\":86,\"Weight\":180.0,\"Height\":70.0,\"MRI_Count\":889083,\"isFemale\":false},{\"Gender\":\"Male\",\"FSIQ\":83,\"VIQ\":83,\"PIQ\":86,\"Weight\":null,\"Height\":null,\"MRI_Count\":892420,\"isFemale\":false},{\"Gender\":\"Male\",\"FSIQ\":97,\"VIQ\":107,\"PIQ\":84,\"Weight\":186.0,\"Height\":76.5,\"MRI_Count\":905940,\"isFemale\":false},{\"Gender\":\"Female\",\"FSIQ\":135,\"VIQ\":129,\"PIQ\":134,\"Weight\":122.0,\"Height\":62.0,\"MRI_Count\":790619,\"isFemale\":true},{\"Gender\":\"Male\",\"FSIQ\":139,\"VIQ\":145,\"PIQ\":128,\"Weight\":132.0,\"Height\":68.0,\"MRI_Count\":955003,\"isFemale\":false},{\"Gender\":\"Female\",\"FSIQ\":91,\"VIQ\":86,\"PIQ\":102,\"Weight\":114.0,\"Height\":63.0,\"MRI_Count\":831772,\"isFemale\":true},{\"Gender\":\"Male\",\"FSIQ\":141,\"VIQ\":145,\"PIQ\":131,\"Weight\":171.0,\"Height\":72.0,\"MRI_Count\":935494,\"isFemale\":false},{\"Gender\":\"Female\",\"FSIQ\":85,\"VIQ\":90,\"PIQ\":84,\"Weight\":140.0,\"Height\":68.0,\"MRI_Count\":798612,\"isFemale\":true},{\"Gender\":\"Male\",\"FSIQ\":103,\"VIQ\":96,\"PIQ\":110,\"Weight\":187.0,\"Height\":77.0,\"MRI_Count\":1062462,\"isFemale\":false},{\"Gender\":\"Female\",\"FSIQ\":77,\"VIQ\":83,\"PIQ\":72,\"Weight\":106.0,\"Height\":63.0,\"MRI_Count\":793549,\"isFemale\":true},{\"Gender\":\"Female\",\"FSIQ\":130,\"VIQ\":126,\"PIQ\":124,\"Weight\":159.0,\"Height\":66.5,\"MRI_Count\":866662,\"isFemale\":true},{\"Gender\":\"Female\",\"FSIQ\":133,\"VIQ\":126,\"PIQ\":132,\"Weight\":127.0,\"Height\":62.5,\"MRI_Count\":857782,\"isFemale\":true},{\"Gender\":\"Male\",\"FSIQ\":144,\"VIQ\":145,\"PIQ\":137,\"Weight\":191.0,\"Height\":67.0,\"MRI_Count\":949589,\"isFemale\":false},{\"Gender\":\"Male\",\"FSIQ\":103,\"VIQ\":96,\"PIQ\":110,\"Weight\":192.0,\"Height\":75.5,\"MRI_Count\":997925,\"isFemale\":false},{\"Gender\":\"Male\",\"FSIQ\":90,\"VIQ\":96,\"PIQ\":86,\"Weight\":181.0,\"Height\":69.0,\"MRI_Count\":879987,\"isFemale\":false},{\"Gender\":\"Female\",\"FSIQ\":83,\"VIQ\":90,\"PIQ\":81,\"Weight\":143.0,\"Height\":66.5,\"MRI_Count\":834344,\"isFemale\":true},{\"Gender\":\"Female\",\"FSIQ\":133,\"VIQ\":129,\"PIQ\":128,\"Weight\":153.0,\"Height\":66.5,\"MRI_Count\":948066,\"isFemale\":true},{\"Gender\":\"Male\",\"FSIQ\":140,\"VIQ\":150,\"PIQ\":124,\"Weight\":144.0,\"Height\":70.5,\"MRI_Count\":949395,\"isFemale\":false},{\"Gender\":\"Female\",\"FSIQ\":88,\"VIQ\":86,\"PIQ\":94,\"Weight\":139.0,\"Height\":64.5,\"MRI_Count\":893983,\"isFemale\":true},{\"Gender\":\"Male\",\"FSIQ\":81,\"VIQ\":90,\"PIQ\":74,\"Weight\":148.0,\"Height\":74.0,\"MRI_Count\":930016,\"isFemale\":false},{\"Gender\":\"Male\",\"FSIQ\":89,\"VIQ\":91,\"PIQ\":89,\"Weight\":179.0,\"Height\":75.5,\"MRI_Count\":935863,\"isFemale\":false}]'"
            ]
          },
          "metadata": {
            "tags": []
          },
          "execution_count": 55
        }
      ]
    },
    {
      "cell_type": "markdown",
      "metadata": {
        "id": "i3OcrAvOvsNx"
      },
      "source": [
        "### Practise Exercises - Pandas (Optional):\n",
        "1. How many males/females are included in the study?\n",
        "2. What is the mean value for VIQ for entire population? Also, print the mean VIQ for each gender in the following format:\n",
        "```\n",
        "Male, VIQmeanvalue\n",
        "Female, VIQmeanvalue\n",
        "```\n",
        "3. Create a new column named BMI using the Weight and Height column. The formula is weight(in kgs)/square of height(in m). The height is in inches and weight is in lbs. You can create two new columns with appropriate units before making BMI column. \n",
        "4. How does the BMI range vary among males and females, according to underweight(under 18.5), normal(18.5-22.9), and overweight(above 22.9)? "
      ]
    },
    {
      "cell_type": "code",
      "metadata": {
        "colab": {
          "base_uri": "https://localhost:8080/"
        },
        "id": "Cn4Yco3B5ikN",
        "outputId": "618553ed-e845-4e60-a845-c773881c4da4"
      },
      "source": [
        "for gender, val in gender_groupby:\n",
        "  print(\"Gender:\" + str(gender))\n",
        "  print(\"Values\")\n",
        "  print(len(val))"
      ],
      "execution_count": 56,
      "outputs": [
        {
          "output_type": "stream",
          "text": [
            "Gender:Female\n",
            "Values\n",
            "20\n",
            "Gender:Male\n",
            "Values\n",
            "20\n"
          ],
          "name": "stdout"
        }
      ]
    },
    {
      "cell_type": "code",
      "metadata": {
        "colab": {
          "base_uri": "https://localhost:8080/"
        },
        "id": "IPx0Yrf85zaR",
        "outputId": "1f63803b-a2b2-4941-8b42-4c565b4e901a"
      },
      "source": [
        "gender_groupby.mean()[\"VIQ\"][\"Female\"]"
      ],
      "execution_count": 57,
      "outputs": [
        {
          "output_type": "execute_result",
          "data": {
            "text/plain": [
              "109.45"
            ]
          },
          "metadata": {
            "tags": []
          },
          "execution_count": 57
        }
      ]
    },
    {
      "cell_type": "code",
      "metadata": {
        "colab": {
          "base_uri": "https://localhost:8080/"
        },
        "id": "schuGKQ_6HBY",
        "outputId": "a8c3da09-4674-49dd-e774-42bc947e0029"
      },
      "source": [
        "for i in [\"Male\",\"Female\"]:\n",
        "  print(str(i)+ ',' + str(gender_groupby.mean()[\"VIQ\"][i]))"
      ],
      "execution_count": 58,
      "outputs": [
        {
          "output_type": "stream",
          "text": [
            "Male,115.25\n",
            "Female,109.45\n"
          ],
          "name": "stdout"
        }
      ]
    },
    {
      "cell_type": "code",
      "metadata": {
        "id": "9jkcUYTX7V0c"
      },
      "source": [
        "data_weight_kg = data_df[\"Weight\"] * 0.453592\n",
        "data_height_m = data_df[\"Height\"] * 0.0254\n",
        "data_df[\"WeightKg\"] = data_weight_kg\n",
        "data_df[\"HeightM\"] = data_height_m\n"
      ],
      "execution_count": 59,
      "outputs": []
    },
    {
      "cell_type": "code",
      "metadata": {
        "colab": {
          "base_uri": "https://localhost:8080/",
          "height": 204
        },
        "id": "IvQNd76V7d1x",
        "outputId": "7a815609-2489-4a06-f5b3-556f7eb06546"
      },
      "source": [
        "data_df.head()"
      ],
      "execution_count": 60,
      "outputs": [
        {
          "output_type": "execute_result",
          "data": {
            "text/html": [
              "<div>\n",
              "<style scoped>\n",
              "    .dataframe tbody tr th:only-of-type {\n",
              "        vertical-align: middle;\n",
              "    }\n",
              "\n",
              "    .dataframe tbody tr th {\n",
              "        vertical-align: top;\n",
              "    }\n",
              "\n",
              "    .dataframe thead th {\n",
              "        text-align: right;\n",
              "    }\n",
              "</style>\n",
              "<table border=\"1\" class=\"dataframe\">\n",
              "  <thead>\n",
              "    <tr style=\"text-align: right;\">\n",
              "      <th></th>\n",
              "      <th>Gender</th>\n",
              "      <th>FSIQ</th>\n",
              "      <th>VIQ</th>\n",
              "      <th>PIQ</th>\n",
              "      <th>Weight</th>\n",
              "      <th>Height</th>\n",
              "      <th>MRI_Count</th>\n",
              "      <th>isFemale</th>\n",
              "      <th>WeightKg</th>\n",
              "      <th>HeightM</th>\n",
              "    </tr>\n",
              "  </thead>\n",
              "  <tbody>\n",
              "    <tr>\n",
              "      <th>1</th>\n",
              "      <td>Female</td>\n",
              "      <td>133</td>\n",
              "      <td>132</td>\n",
              "      <td>124</td>\n",
              "      <td>118.0</td>\n",
              "      <td>64.5</td>\n",
              "      <td>816932</td>\n",
              "      <td>True</td>\n",
              "      <td>53.523856</td>\n",
              "      <td>1.63830</td>\n",
              "    </tr>\n",
              "    <tr>\n",
              "      <th>2</th>\n",
              "      <td>Male</td>\n",
              "      <td>140</td>\n",
              "      <td>150</td>\n",
              "      <td>124</td>\n",
              "      <td>NaN</td>\n",
              "      <td>72.5</td>\n",
              "      <td>1001121</td>\n",
              "      <td>False</td>\n",
              "      <td>NaN</td>\n",
              "      <td>1.84150</td>\n",
              "    </tr>\n",
              "    <tr>\n",
              "      <th>3</th>\n",
              "      <td>Male</td>\n",
              "      <td>139</td>\n",
              "      <td>123</td>\n",
              "      <td>150</td>\n",
              "      <td>143.0</td>\n",
              "      <td>73.3</td>\n",
              "      <td>1038437</td>\n",
              "      <td>False</td>\n",
              "      <td>64.863656</td>\n",
              "      <td>1.86182</td>\n",
              "    </tr>\n",
              "    <tr>\n",
              "      <th>4</th>\n",
              "      <td>Male</td>\n",
              "      <td>133</td>\n",
              "      <td>129</td>\n",
              "      <td>128</td>\n",
              "      <td>172.0</td>\n",
              "      <td>68.8</td>\n",
              "      <td>965353</td>\n",
              "      <td>False</td>\n",
              "      <td>78.017824</td>\n",
              "      <td>1.74752</td>\n",
              "    </tr>\n",
              "    <tr>\n",
              "      <th>5</th>\n",
              "      <td>Female</td>\n",
              "      <td>137</td>\n",
              "      <td>132</td>\n",
              "      <td>134</td>\n",
              "      <td>147.0</td>\n",
              "      <td>65.0</td>\n",
              "      <td>951545</td>\n",
              "      <td>True</td>\n",
              "      <td>66.678024</td>\n",
              "      <td>1.65100</td>\n",
              "    </tr>\n",
              "  </tbody>\n",
              "</table>\n",
              "</div>"
            ],
            "text/plain": [
              "   Gender  FSIQ  VIQ  PIQ  ...  MRI_Count  isFemale   WeightKg  HeightM\n",
              "1  Female   133  132  124  ...     816932      True  53.523856  1.63830\n",
              "2    Male   140  150  124  ...    1001121     False        NaN  1.84150\n",
              "3    Male   139  123  150  ...    1038437     False  64.863656  1.86182\n",
              "4    Male   133  129  128  ...     965353     False  78.017824  1.74752\n",
              "5  Female   137  132  134  ...     951545      True  66.678024  1.65100\n",
              "\n",
              "[5 rows x 10 columns]"
            ]
          },
          "metadata": {
            "tags": []
          },
          "execution_count": 60
        }
      ]
    },
    {
      "cell_type": "code",
      "metadata": {
        "id": "nPtw6Eq-7HHK"
      },
      "source": [
        "data_bmi = data_df[\"WeightKg\"] / (data_df[\"HeightM\"])**2"
      ],
      "execution_count": 61,
      "outputs": []
    },
    {
      "cell_type": "code",
      "metadata": {
        "id": "RkhiQ4Fy8LNH"
      },
      "source": [
        "data_df[\"BMI\"] = data_bmi"
      ],
      "execution_count": 62,
      "outputs": []
    },
    {
      "cell_type": "code",
      "metadata": {
        "colab": {
          "base_uri": "https://localhost:8080/",
          "height": 204
        },
        "id": "cO61TqY48neb",
        "outputId": "591e3e9a-45a8-4167-9e42-4b82856e7daa"
      },
      "source": [
        "data_df.head()"
      ],
      "execution_count": 63,
      "outputs": [
        {
          "output_type": "execute_result",
          "data": {
            "text/html": [
              "<div>\n",
              "<style scoped>\n",
              "    .dataframe tbody tr th:only-of-type {\n",
              "        vertical-align: middle;\n",
              "    }\n",
              "\n",
              "    .dataframe tbody tr th {\n",
              "        vertical-align: top;\n",
              "    }\n",
              "\n",
              "    .dataframe thead th {\n",
              "        text-align: right;\n",
              "    }\n",
              "</style>\n",
              "<table border=\"1\" class=\"dataframe\">\n",
              "  <thead>\n",
              "    <tr style=\"text-align: right;\">\n",
              "      <th></th>\n",
              "      <th>Gender</th>\n",
              "      <th>FSIQ</th>\n",
              "      <th>VIQ</th>\n",
              "      <th>PIQ</th>\n",
              "      <th>Weight</th>\n",
              "      <th>Height</th>\n",
              "      <th>MRI_Count</th>\n",
              "      <th>isFemale</th>\n",
              "      <th>WeightKg</th>\n",
              "      <th>HeightM</th>\n",
              "      <th>BMI</th>\n",
              "    </tr>\n",
              "  </thead>\n",
              "  <tbody>\n",
              "    <tr>\n",
              "      <th>1</th>\n",
              "      <td>Female</td>\n",
              "      <td>133</td>\n",
              "      <td>132</td>\n",
              "      <td>124</td>\n",
              "      <td>118.0</td>\n",
              "      <td>64.5</td>\n",
              "      <td>816932</td>\n",
              "      <td>True</td>\n",
              "      <td>53.523856</td>\n",
              "      <td>1.63830</td>\n",
              "      <td>19.941624</td>\n",
              "    </tr>\n",
              "    <tr>\n",
              "      <th>2</th>\n",
              "      <td>Male</td>\n",
              "      <td>140</td>\n",
              "      <td>150</td>\n",
              "      <td>124</td>\n",
              "      <td>NaN</td>\n",
              "      <td>72.5</td>\n",
              "      <td>1001121</td>\n",
              "      <td>False</td>\n",
              "      <td>NaN</td>\n",
              "      <td>1.84150</td>\n",
              "      <td>NaN</td>\n",
              "    </tr>\n",
              "    <tr>\n",
              "      <th>3</th>\n",
              "      <td>Male</td>\n",
              "      <td>139</td>\n",
              "      <td>123</td>\n",
              "      <td>150</td>\n",
              "      <td>143.0</td>\n",
              "      <td>73.3</td>\n",
              "      <td>1038437</td>\n",
              "      <td>False</td>\n",
              "      <td>64.863656</td>\n",
              "      <td>1.86182</td>\n",
              "      <td>18.712251</td>\n",
              "    </tr>\n",
              "    <tr>\n",
              "      <th>4</th>\n",
              "      <td>Male</td>\n",
              "      <td>133</td>\n",
              "      <td>129</td>\n",
              "      <td>128</td>\n",
              "      <td>172.0</td>\n",
              "      <td>68.8</td>\n",
              "      <td>965353</td>\n",
              "      <td>False</td>\n",
              "      <td>78.017824</td>\n",
              "      <td>1.74752</td>\n",
              "      <td>25.547566</td>\n",
              "    </tr>\n",
              "    <tr>\n",
              "      <th>5</th>\n",
              "      <td>Female</td>\n",
              "      <td>137</td>\n",
              "      <td>132</td>\n",
              "      <td>134</td>\n",
              "      <td>147.0</td>\n",
              "      <td>65.0</td>\n",
              "      <td>951545</td>\n",
              "      <td>True</td>\n",
              "      <td>66.678024</td>\n",
              "      <td>1.65100</td>\n",
              "      <td>24.461809</td>\n",
              "    </tr>\n",
              "  </tbody>\n",
              "</table>\n",
              "</div>"
            ],
            "text/plain": [
              "   Gender  FSIQ  VIQ  PIQ  ...  isFemale   WeightKg  HeightM        BMI\n",
              "1  Female   133  132  124  ...      True  53.523856  1.63830  19.941624\n",
              "2    Male   140  150  124  ...     False        NaN  1.84150        NaN\n",
              "3    Male   139  123  150  ...     False  64.863656  1.86182  18.712251\n",
              "4    Male   133  129  128  ...     False  78.017824  1.74752  25.547566\n",
              "5  Female   137  132  134  ...      True  66.678024  1.65100  24.461809\n",
              "\n",
              "[5 rows x 11 columns]"
            ]
          },
          "metadata": {
            "tags": []
          },
          "execution_count": 63
        }
      ]
    },
    {
      "cell_type": "code",
      "metadata": {
        "id": "uHl6md378xbS"
      },
      "source": [
        "def bmiCategorization(x):\n",
        "  if x > 22.9:\n",
        "    return \"Overweight\"\n",
        "  elif x >= 18.5:\n",
        "    return \"Normal\"\n",
        "  else:\n",
        "    return \"Underweight\"\n",
        "\n",
        "data_df[\"BMICategory\"] = data_df[\"BMI\"].apply(bmiCategorization)"
      ],
      "execution_count": 64,
      "outputs": []
    },
    {
      "cell_type": "code",
      "metadata": {
        "colab": {
          "base_uri": "https://localhost:8080/",
          "height": 204
        },
        "id": "vyHyvKH8_ZHt",
        "outputId": "3d7a2363-127b-4985-e99a-b8535bfa69d6"
      },
      "source": [
        "data_df.head()"
      ],
      "execution_count": 65,
      "outputs": [
        {
          "output_type": "execute_result",
          "data": {
            "text/html": [
              "<div>\n",
              "<style scoped>\n",
              "    .dataframe tbody tr th:only-of-type {\n",
              "        vertical-align: middle;\n",
              "    }\n",
              "\n",
              "    .dataframe tbody tr th {\n",
              "        vertical-align: top;\n",
              "    }\n",
              "\n",
              "    .dataframe thead th {\n",
              "        text-align: right;\n",
              "    }\n",
              "</style>\n",
              "<table border=\"1\" class=\"dataframe\">\n",
              "  <thead>\n",
              "    <tr style=\"text-align: right;\">\n",
              "      <th></th>\n",
              "      <th>Gender</th>\n",
              "      <th>FSIQ</th>\n",
              "      <th>VIQ</th>\n",
              "      <th>PIQ</th>\n",
              "      <th>Weight</th>\n",
              "      <th>Height</th>\n",
              "      <th>MRI_Count</th>\n",
              "      <th>isFemale</th>\n",
              "      <th>WeightKg</th>\n",
              "      <th>HeightM</th>\n",
              "      <th>BMI</th>\n",
              "      <th>BMICategory</th>\n",
              "    </tr>\n",
              "  </thead>\n",
              "  <tbody>\n",
              "    <tr>\n",
              "      <th>1</th>\n",
              "      <td>Female</td>\n",
              "      <td>133</td>\n",
              "      <td>132</td>\n",
              "      <td>124</td>\n",
              "      <td>118.0</td>\n",
              "      <td>64.5</td>\n",
              "      <td>816932</td>\n",
              "      <td>True</td>\n",
              "      <td>53.523856</td>\n",
              "      <td>1.63830</td>\n",
              "      <td>19.941624</td>\n",
              "      <td>Normal</td>\n",
              "    </tr>\n",
              "    <tr>\n",
              "      <th>2</th>\n",
              "      <td>Male</td>\n",
              "      <td>140</td>\n",
              "      <td>150</td>\n",
              "      <td>124</td>\n",
              "      <td>NaN</td>\n",
              "      <td>72.5</td>\n",
              "      <td>1001121</td>\n",
              "      <td>False</td>\n",
              "      <td>NaN</td>\n",
              "      <td>1.84150</td>\n",
              "      <td>NaN</td>\n",
              "      <td>Underweight</td>\n",
              "    </tr>\n",
              "    <tr>\n",
              "      <th>3</th>\n",
              "      <td>Male</td>\n",
              "      <td>139</td>\n",
              "      <td>123</td>\n",
              "      <td>150</td>\n",
              "      <td>143.0</td>\n",
              "      <td>73.3</td>\n",
              "      <td>1038437</td>\n",
              "      <td>False</td>\n",
              "      <td>64.863656</td>\n",
              "      <td>1.86182</td>\n",
              "      <td>18.712251</td>\n",
              "      <td>Normal</td>\n",
              "    </tr>\n",
              "    <tr>\n",
              "      <th>4</th>\n",
              "      <td>Male</td>\n",
              "      <td>133</td>\n",
              "      <td>129</td>\n",
              "      <td>128</td>\n",
              "      <td>172.0</td>\n",
              "      <td>68.8</td>\n",
              "      <td>965353</td>\n",
              "      <td>False</td>\n",
              "      <td>78.017824</td>\n",
              "      <td>1.74752</td>\n",
              "      <td>25.547566</td>\n",
              "      <td>Overweight</td>\n",
              "    </tr>\n",
              "    <tr>\n",
              "      <th>5</th>\n",
              "      <td>Female</td>\n",
              "      <td>137</td>\n",
              "      <td>132</td>\n",
              "      <td>134</td>\n",
              "      <td>147.0</td>\n",
              "      <td>65.0</td>\n",
              "      <td>951545</td>\n",
              "      <td>True</td>\n",
              "      <td>66.678024</td>\n",
              "      <td>1.65100</td>\n",
              "      <td>24.461809</td>\n",
              "      <td>Overweight</td>\n",
              "    </tr>\n",
              "  </tbody>\n",
              "</table>\n",
              "</div>"
            ],
            "text/plain": [
              "   Gender  FSIQ  VIQ  PIQ  ...   WeightKg  HeightM        BMI  BMICategory\n",
              "1  Female   133  132  124  ...  53.523856  1.63830  19.941624       Normal\n",
              "2    Male   140  150  124  ...        NaN  1.84150        NaN  Underweight\n",
              "3    Male   139  123  150  ...  64.863656  1.86182  18.712251       Normal\n",
              "4    Male   133  129  128  ...  78.017824  1.74752  25.547566   Overweight\n",
              "5  Female   137  132  134  ...  66.678024  1.65100  24.461809   Overweight\n",
              "\n",
              "[5 rows x 12 columns]"
            ]
          },
          "metadata": {
            "tags": []
          },
          "execution_count": 65
        }
      ]
    },
    {
      "cell_type": "code",
      "metadata": {
        "id": "8OIJ9D10_gQz"
      },
      "source": [
        "gender_groupby_BMI = data_df.groupby([\"Gender\",\"BMICategory\"])"
      ],
      "execution_count": 66,
      "outputs": []
    },
    {
      "cell_type": "code",
      "metadata": {
        "colab": {
          "base_uri": "https://localhost:8080/"
        },
        "id": "L_b4GRrB_-BM",
        "outputId": "0bb5f8ad-42be-4afb-cd53-3f5fc827cee0"
      },
      "source": [
        "for gender_category, val in gender_groupby_BMI:\n",
        "  print(\"Gender,BMICategory:\" + str(gender_category))\n",
        "  print(\"Values:\" + str(len(val)))"
      ],
      "execution_count": 67,
      "outputs": [
        {
          "output_type": "stream",
          "text": [
            "Gender,BMICategory:('Female', 'Normal')\n",
            "Values:13\n",
            "Gender,BMICategory:('Female', 'Overweight')\n",
            "Values:7\n",
            "Gender,BMICategory:('Male', 'Normal')\n",
            "Values:10\n",
            "Gender,BMICategory:('Male', 'Overweight')\n",
            "Values:8\n",
            "Gender,BMICategory:('Male', 'Underweight')\n",
            "Values:2\n"
          ],
          "name": "stdout"
        }
      ]
    },
    {
      "cell_type": "markdown",
      "metadata": {
        "id": "R_D0YQn1Vg8G"
      },
      "source": [
        "# Handling Network/Graph Data\n",
        "\n",
        "Suppose we are working on social network data. Let us consider we have the adjacency matrix representation of the social network connectivity available. There are other representations available for graphs, but are beyond scope of the course to cover them.  \n",
        "\n",
        "Let us take a closer look at adjacency matrix representation. Simply put, the adjacency matrix indicate the connectivity between two nodes - which are indicated by the index of the row and column of the matrix. The presence of an edge between the nodes is indicated by 1 (or the weight in case of weighted graph) or 0 otherwise. \n",
        "\n",
        "\n",
        "| ![adj_mat.jpg](https://mathworld.wolfram.com/images/eps-gif/AdjacencyMatrices_1002.gif) | \n",
        "|:--:| \n",
        "| Image source: Wolfram MathWorld |\n",
        "\n",
        "Rather than representing this graph data as list of lists using Python, we can use another library - Numpy to represent the adjacency matrix and perform compuattion easily. Incidentally, Pandas is built on top of Numpy, and so all the Pandas operations like sum, aggregation, etc. use the NumPy functionality."
      ]
    },
    {
      "cell_type": "markdown",
      "metadata": {
        "id": "ngqcFt6xrZ89"
      },
      "source": [
        "## Introduction to Numpy\n",
        "\n",
        "Numpy is a fundamental package for scientific computing in Python. At the core of a numpy package is *ndarray* object. This is encapsulation of *n*-dimensional arrays of **homogeneous** data types. There are many important differences between numpy arrays and standard Python sequences:\n",
        "+ Numpy arrays have fixed size at creation.\n",
        "+ The items have to be of homogeneous data type.\n",
        "+ Numpy arrays efficiently execute advanced mathematical operations. \n",
        "\n",
        "### Array\n",
        "\n",
        "We can create a numpy array from a homogeneous list. Numpy's array class is called [```ndarray```](https://numpy.org/doc/stable/reference/generated/numpy.ndarray.html). It is also known by the alias ```array```. The ```ndarray``` has attributes like ```ndim```, ```shape```, ```size```, ```dtype```, ```itemsize```, ```data```, etc."
      ]
    },
    {
      "cell_type": "code",
      "metadata": {
        "id": "Zyf9T1J1Vg8H"
      },
      "source": [
        "import numpy as np"
      ],
      "execution_count": 68,
      "outputs": []
    },
    {
      "cell_type": "code",
      "metadata": {
        "colab": {
          "base_uri": "https://localhost:8080/"
        },
        "id": "s9aXHBjqBFoe",
        "outputId": "40bb29c3-512f-4c6b-8333-51dcc1835713"
      },
      "source": [
        "a = np.array([1,2,5,3])\n",
        "print(a)\n",
        "\n",
        "b = np.array([\"This\", \"is\", \"a\", \"np\", \"array\", \"of\", \"strings\"])\n",
        "print(b)"
      ],
      "execution_count": 69,
      "outputs": [
        {
          "output_type": "stream",
          "text": [
            "[1 2 5 3]\n",
            "['This' 'is' 'a' 'np' 'array' 'of' 'strings']\n"
          ],
          "name": "stdout"
        }
      ]
    },
    {
      "cell_type": "markdown",
      "metadata": {
        "id": "ZOBUsfkRVg8H"
      },
      "source": [
        "We have many options to create new numpy arrays. Let us quickly go through each of the different ways, other than ```np.array```."
      ]
    },
    {
      "cell_type": "code",
      "metadata": {
        "id": "s6fvaUk7Vg8H",
        "colab": {
          "base_uri": "https://localhost:8080/"
        },
        "outputId": "3af76304-0d8a-499c-f40f-d41200792f75"
      },
      "source": [
        "b_dash = np.zeros((3,4))\n",
        "c = np.ones((3,4))\n",
        "d = np.full((3,4), 0.15)\n",
        "e = np.empty((3,2))\n",
        "\n",
        "print(b_dash)\n",
        "print(c)\n",
        "print(d)\n",
        "print(e)"
      ],
      "execution_count": 70,
      "outputs": [
        {
          "output_type": "stream",
          "text": [
            "[[0. 0. 0. 0.]\n",
            " [0. 0. 0. 0.]\n",
            " [0. 0. 0. 0.]]\n",
            "[[1. 1. 1. 1.]\n",
            " [1. 1. 1. 1.]\n",
            " [1. 1. 1. 1.]]\n",
            "[[0.15 0.15 0.15 0.15]\n",
            " [0.15 0.15 0.15 0.15]\n",
            " [0.15 0.15 0.15 0.15]]\n",
            "[[0.0e+000 6.4e-323]\n",
            " [3.5e-323 4.9e-323]\n",
            " [4.0e-323 9.9e-324]]\n"
          ],
          "name": "stdout"
        }
      ]
    },
    {
      "cell_type": "markdown",
      "metadata": {
        "id": "iife9P4pVg8H"
      },
      "source": [
        "We can use usual element-wise operations on these arrays."
      ]
    },
    {
      "cell_type": "code",
      "metadata": {
        "id": "u2Q1pE4hVg8H",
        "colab": {
          "base_uri": "https://localhost:8080/"
        },
        "outputId": "03ee7764-9234-40e3-d380-df3a683ef7db"
      },
      "source": [
        "print(c+d)\n",
        "print(c*d)"
      ],
      "execution_count": 71,
      "outputs": [
        {
          "output_type": "stream",
          "text": [
            "[[1.15 1.15 1.15 1.15]\n",
            " [1.15 1.15 1.15 1.15]\n",
            " [1.15 1.15 1.15 1.15]]\n",
            "[[0.15 0.15 0.15 0.15]\n",
            " [0.15 0.15 0.15 0.15]\n",
            " [0.15 0.15 0.15 0.15]]\n"
          ],
          "name": "stdout"
        }
      ]
    },
    {
      "cell_type": "markdown",
      "metadata": {
        "id": "buv2z0sqaMg4"
      },
      "source": [
        "```np.arange``` returns evenly spaced values within a given interval - with start, stop and step size which can be specified. Another function which can be used for getting evenly spaced values in specific interval - [```np.linspace```](https://numpy.org/doc/stable/reference/generated/numpy.linspace.html). Rather than step-size as used in arange, it uses number of samples to generate.\n",
        "\n",
        "Another function which is handy is ```reshape``` - it can change the shape of the array without changing its data. "
      ]
    },
    {
      "cell_type": "code",
      "metadata": {
        "id": "G_KuobdbVg8I"
      },
      "source": [
        "a = np.arange(1,25,3)"
      ],
      "execution_count": 72,
      "outputs": []
    },
    {
      "cell_type": "code",
      "metadata": {
        "colab": {
          "base_uri": "https://localhost:8080/"
        },
        "id": "pxO1l-AkCkTm",
        "outputId": "a6e2ef59-47e1-474f-ce52-101d1222f00a"
      },
      "source": [
        "a"
      ],
      "execution_count": 73,
      "outputs": [
        {
          "output_type": "execute_result",
          "data": {
            "text/plain": [
              "array([ 1,  4,  7, 10, 13, 16, 19, 22])"
            ]
          },
          "metadata": {
            "tags": []
          },
          "execution_count": 73
        }
      ]
    },
    {
      "cell_type": "code",
      "metadata": {
        "colab": {
          "base_uri": "https://localhost:8080/"
        },
        "id": "zCW4gdbwClYc",
        "outputId": "a48fff3e-da3b-4294-dabc-27882b58ab2c"
      },
      "source": [
        "a = a.reshape(4,2)\n",
        "a"
      ],
      "execution_count": 74,
      "outputs": [
        {
          "output_type": "execute_result",
          "data": {
            "text/plain": [
              "array([[ 1,  4],\n",
              "       [ 7, 10],\n",
              "       [13, 16],\n",
              "       [19, 22]])"
            ]
          },
          "metadata": {
            "tags": []
          },
          "execution_count": 74
        }
      ]
    },
    {
      "cell_type": "code",
      "metadata": {
        "colab": {
          "base_uri": "https://localhost:8080/"
        },
        "id": "FdEV0B9DCrH2",
        "outputId": "bbac599f-ee9c-4a12-d13b-32218b46f96d"
      },
      "source": [
        "print(type(a))"
      ],
      "execution_count": 75,
      "outputs": [
        {
          "output_type": "stream",
          "text": [
            "<class 'numpy.ndarray'>\n"
          ],
          "name": "stdout"
        }
      ]
    },
    {
      "cell_type": "code",
      "metadata": {
        "colab": {
          "base_uri": "https://localhost:8080/"
        },
        "id": "rrLdNuSNC5CW",
        "outputId": "23afc2a6-6f56-47ec-a882-12cd6b302302"
      },
      "source": [
        "np.linspace(2.0, 3.0, num=11)"
      ],
      "execution_count": 76,
      "outputs": [
        {
          "output_type": "execute_result",
          "data": {
            "text/plain": [
              "array([2. , 2.1, 2.2, 2.3, 2.4, 2.5, 2.6, 2.7, 2.8, 2.9, 3. ])"
            ]
          },
          "metadata": {
            "tags": []
          },
          "execution_count": 76
        }
      ]
    },
    {
      "cell_type": "markdown",
      "metadata": {
        "id": "ZaCOxEkEVg8I"
      },
      "source": [
        "## Operations on Adjacency Matrix using Numpy\n",
        "\n",
        "Let us use the adjacency matrix for a 4 node graph shown in the figure earlier.\n",
        "```\n",
        "[[0 0 1 1]\n",
        "[0 0 1 1]\n",
        "[1 1 0 0]\n",
        "[1 1 0 0]]\n",
        "```"
      ]
    },
    {
      "cell_type": "code",
      "metadata": {
        "id": "drG1MywnVg8I",
        "colab": {
          "base_uri": "https://localhost:8080/"
        },
        "outputId": "3ed547d8-dd8b-4fa0-ee2e-089e82149be3"
      },
      "source": [
        "c = np.array([[0,0,1,1],[0, 0, 1, 1],[1, 1, 0, 0],[1, 1, 0, 0]])\n",
        "c"
      ],
      "execution_count": 77,
      "outputs": [
        {
          "output_type": "execute_result",
          "data": {
            "text/plain": [
              "array([[0, 0, 1, 1],\n",
              "       [0, 0, 1, 1],\n",
              "       [1, 1, 0, 0],\n",
              "       [1, 1, 0, 0]])"
            ]
          },
          "metadata": {
            "tags": []
          },
          "execution_count": 77
        }
      ]
    },
    {
      "cell_type": "markdown",
      "metadata": {
        "id": "3OiVG8eXVg8I"
      },
      "source": [
        "Now, if we want to find the degree of each node, we need to sum the number of edges for each node. We can use the Numpy operation ```sum``` for finding the degree of each node. "
      ]
    },
    {
      "cell_type": "code",
      "metadata": {
        "id": "ojBMEUwzVg8I",
        "colab": {
          "base_uri": "https://localhost:8080/"
        },
        "outputId": "9e878195-f417-46a3-9b51-53d3f9c2aea5"
      },
      "source": [
        "c.sum(axis=0)"
      ],
      "execution_count": 78,
      "outputs": [
        {
          "output_type": "execute_result",
          "data": {
            "text/plain": [
              "array([2, 2, 2, 2])"
            ]
          },
          "metadata": {
            "tags": []
          },
          "execution_count": 78
        }
      ]
    },
    {
      "cell_type": "code",
      "metadata": {
        "colab": {
          "base_uri": "https://localhost:8080/"
        },
        "id": "q7FrV7EeDNt1",
        "outputId": "6ce9a795-a590-4cbf-b598-4c769d4143c8"
      },
      "source": [
        "c.sum(axis=1)"
      ],
      "execution_count": 79,
      "outputs": [
        {
          "output_type": "execute_result",
          "data": {
            "text/plain": [
              "array([2, 2, 2, 2])"
            ]
          },
          "metadata": {
            "tags": []
          },
          "execution_count": 79
        }
      ]
    },
    {
      "cell_type": "markdown",
      "metadata": {
        "id": "GnUGCAM_Vg8J"
      },
      "source": [
        "Numpy allows other reductions as well - such as ```argmin```. For these operations, we need to specify the axis for our operation. If the axis is not mentioned, the returned index is into the flattened array.\n",
        "\n",
        "In numpy, dimensions are called axis. So for a 2x2 array `a`, the first axis has length 4 and second has length 2. For a visual representation, the following image helps capture the direction for operation on the array.\n",
        "\n",
        "| ![axis.jpg](https://i.stack.imgur.com/h1alT.jpg) | \n",
        "|:--:| \n",
        "| Image source: Stack Overflow |"
      ]
    },
    {
      "cell_type": "markdown",
      "metadata": {
        "id": "t0C3mQs9Vg8J"
      },
      "source": [
        "We can similarly get statistical results on the data too, again specifying the axes. We can get mean, standard deviation, and many more statistics, using this similar principle. You can look up the documentation to get complete list of functionality. You can explore all such Numpy operations in the [documentation](https://numpy.org/doc/stable/reference/routines.statistics.html)."
      ]
    },
    {
      "cell_type": "markdown",
      "metadata": {
        "id": "KJtehmouVg8J"
      },
      "source": [
        "### Slicing and Broadcasting\n",
        "\n",
        "Slicing, indexing and iteration in one-dimensional array are much similar to lists in python. Multidimensional arrays can have one index per axis. When fewer indices are provided than the number of axes of the array, the missing indices are considered as complete slices."
      ]
    },
    {
      "cell_type": "code",
      "metadata": {
        "id": "5sS2Bs_zVg8J",
        "colab": {
          "base_uri": "https://localhost:8080/"
        },
        "outputId": "b3b122be-f3ea-4928-853d-13c2b5b870ba"
      },
      "source": [
        "print(c[2:4,:])\n",
        "print(c[2:4])"
      ],
      "execution_count": 80,
      "outputs": [
        {
          "output_type": "stream",
          "text": [
            "[[1 1 0 0]\n",
            " [1 1 0 0]]\n",
            "[[1 1 0 0]\n",
            " [1 1 0 0]]\n"
          ],
          "name": "stdout"
        }
      ]
    },
    {
      "cell_type": "markdown",
      "metadata": {
        "id": "k9lNbFmjVg8J"
      },
      "source": [
        "We have seen that operations are usually performed element-wise, when both the arrays are of the same shape. Numpy’s broadcasting rule relaxes this constraint when the array shapes meet certain constraints. \n",
        "\n",
        "When operating on two arrays, numpy compares their shapes. It starts with the rightmost dimension and works its way left. Two dimensions are compatible when\n",
        "1. they are equal, or\n",
        "2. one of them is 1\n",
        "\n",
        "Note that this implies that the value do not need to same number of dimensions!"
      ]
    },
    {
      "cell_type": "markdown",
      "metadata": {
        "id": "vedB4D2UVg8K"
      },
      "source": [
        "#### Application of Broadcasting - Creating distance matrix\n",
        "\n",
        "Let’s construct an array of distances (in miles) between cities of Route 66 in US: Chicago, Springfield, Saint-Louis, Tulsa, Oklahoma City, Amarillo, Santa Fe, Albuquerque, Flagstaff and Los Angeles. \n",
        "\n",
        "```\n",
        "[0, 198, 303, 736, 871, 1175, 1475, 1544, 1913, 2448]\n",
        "```\n",
        "\n",
        "We can create the adjacency matrix for these cities assuming that the only route for travel is the route mentioned. We will use ```np.newaxis``` for creating column vector from the np array. Then using the broadcasting technique, we can compute the adjacency matrix between the cities. "
      ]
    },
    {
      "cell_type": "code",
      "metadata": {
        "id": "D9d5E6YLVg8K"
      },
      "source": [
        "mileposts = np.array([0, 198, 303, 736, 871, 1175, 1475, 1544, 1913, 2448])"
      ],
      "execution_count": 81,
      "outputs": []
    },
    {
      "cell_type": "code",
      "metadata": {
        "colab": {
          "base_uri": "https://localhost:8080/"
        },
        "id": "HQqWOkkFDrIi",
        "outputId": "8cbacc8c-57c6-4fd9-e99d-932b56f2128f"
      },
      "source": [
        "mileposts"
      ],
      "execution_count": 82,
      "outputs": [
        {
          "output_type": "execute_result",
          "data": {
            "text/plain": [
              "array([   0,  198,  303,  736,  871, 1175, 1475, 1544, 1913, 2448])"
            ]
          },
          "metadata": {
            "tags": []
          },
          "execution_count": 82
        }
      ]
    },
    {
      "cell_type": "code",
      "metadata": {
        "colab": {
          "base_uri": "https://localhost:8080/"
        },
        "id": "EszLtrEzDs7I",
        "outputId": "f080f394-a207-4422-d723-be73eccef511"
      },
      "source": [
        "mileposts[:,np.newaxis]"
      ],
      "execution_count": 83,
      "outputs": [
        {
          "output_type": "execute_result",
          "data": {
            "text/plain": [
              "array([[   0],\n",
              "       [ 198],\n",
              "       [ 303],\n",
              "       [ 736],\n",
              "       [ 871],\n",
              "       [1175],\n",
              "       [1475],\n",
              "       [1544],\n",
              "       [1913],\n",
              "       [2448]])"
            ]
          },
          "metadata": {
            "tags": []
          },
          "execution_count": 83
        }
      ]
    },
    {
      "cell_type": "code",
      "metadata": {
        "colab": {
          "base_uri": "https://localhost:8080/"
        },
        "id": "ougTOnjFEBeJ",
        "outputId": "f58196a3-4dad-4549-bc18-d1a8c1640a73"
      },
      "source": [
        "mileposts[np.newaxis,:]"
      ],
      "execution_count": 84,
      "outputs": [
        {
          "output_type": "execute_result",
          "data": {
            "text/plain": [
              "array([[   0,  198,  303,  736,  871, 1175, 1475, 1544, 1913, 2448]])"
            ]
          },
          "metadata": {
            "tags": []
          },
          "execution_count": 84
        }
      ]
    },
    {
      "cell_type": "code",
      "metadata": {
        "id": "Lh37hs9GVg8K",
        "colab": {
          "base_uri": "https://localhost:8080/"
        },
        "outputId": "57ecf869-fade-4317-f15c-203af568757f"
      },
      "source": [
        "print(mileposts.shape)\n",
        "print(mileposts[:, np.newaxis].shape)\n",
        "print(mileposts[np.newaxis,:].shape)"
      ],
      "execution_count": 85,
      "outputs": [
        {
          "output_type": "stream",
          "text": [
            "(10,)\n",
            "(10, 1)\n",
            "(1, 10)\n"
          ],
          "name": "stdout"
        }
      ]
    },
    {
      "cell_type": "code",
      "metadata": {
        "colab": {
          "base_uri": "https://localhost:8080/"
        },
        "id": "9vG9deBOD5NL",
        "outputId": "7b3cca45-8968-402b-bdc4-60da7e4f4f3b"
      },
      "source": [
        "distance_array = np.abs(mileposts[np.newaxis, :] - mileposts[:, np.newaxis])\n",
        "distance_array"
      ],
      "execution_count": 86,
      "outputs": [
        {
          "output_type": "execute_result",
          "data": {
            "text/plain": [
              "array([[   0,  198,  303,  736,  871, 1175, 1475, 1544, 1913, 2448],\n",
              "       [ 198,    0,  105,  538,  673,  977, 1277, 1346, 1715, 2250],\n",
              "       [ 303,  105,    0,  433,  568,  872, 1172, 1241, 1610, 2145],\n",
              "       [ 736,  538,  433,    0,  135,  439,  739,  808, 1177, 1712],\n",
              "       [ 871,  673,  568,  135,    0,  304,  604,  673, 1042, 1577],\n",
              "       [1175,  977,  872,  439,  304,    0,  300,  369,  738, 1273],\n",
              "       [1475, 1277, 1172,  739,  604,  300,    0,   69,  438,  973],\n",
              "       [1544, 1346, 1241,  808,  673,  369,   69,    0,  369,  904],\n",
              "       [1913, 1715, 1610, 1177, 1042,  738,  438,  369,    0,  535],\n",
              "       [2448, 2250, 2145, 1712, 1577, 1273,  973,  904,  535,    0]])"
            ]
          },
          "metadata": {
            "tags": []
          },
          "execution_count": 86
        }
      ]
    },
    {
      "cell_type": "markdown",
      "metadata": {
        "id": "EcOm52b5Vg8K"
      },
      "source": [
        "Using the adjacency matrix, you can do various computations like shortest path between two nodes, etc. These fall into the category of graph algorithms and are beyond scope of the course, but representing adjacency matrix as numpy array gives the flexibility of performing quick operations."
      ]
    },
    {
      "cell_type": "markdown",
      "metadata": {
        "id": "3PizmuFmVg8K"
      },
      "source": [
        "## Practise Exercises - NumPy (Optional)\n",
        "1. Use ```np.random.rand``` to create random arrays. Refer to the documentation. Create a 10x2 array.\n",
        "1. Find the argmax of the array created in previous function, and map it back to the element. Check that the max function returns the same value.\n",
        "2. Read the documentation for ```np.all``` and ```np.any```. Create two random arrays(a1 and a2). Perform multiplication of both these arrays and check if any of the result satisfies the condition of result<a1+a2. \\[Use the appropriate function\\]\n",
        "3. We can create ndarrays from pandas dataframe too using ```.to_numpy()``` function on the dataframe. Convert the data for VIQ and PIQ from brain data used previously into numpy arrays. Check the descriptive statistics using numpy.\n",
        "5. Write a function which takes a 2d numpy array as input and returns a 2d numpy array with 0 as border on all four sides. e.g.\n",
        "\n",
        "```\n",
        "input:\n",
        "[[1 1]\n",
        "[1 2]]\n",
        "```\n",
        "\n",
        "```\n",
        "output:\n",
        "[[0 0 0 0]\n",
        "[0 1 1 0]\n",
        "[0 1 2 0]\n",
        "[0 0 0 0]]\n",
        "```"
      ]
    },
    {
      "cell_type": "code",
      "metadata": {
        "id": "2AsFFNoXtKYD"
      },
      "source": [
        "random_array = np.random.rand(10,2)"
      ],
      "execution_count": 87,
      "outputs": []
    },
    {
      "cell_type": "code",
      "metadata": {
        "colab": {
          "base_uri": "https://localhost:8080/"
        },
        "id": "UFAgssZPtZ-Z",
        "outputId": "93e9963a-d55e-44ba-c311-7990e8e9fc94"
      },
      "source": [
        "random_array"
      ],
      "execution_count": 88,
      "outputs": [
        {
          "output_type": "execute_result",
          "data": {
            "text/plain": [
              "array([[0.22703607, 0.46148175],\n",
              "       [0.33916732, 0.46102773],\n",
              "       [0.94967992, 0.35140292],\n",
              "       [0.75643593, 0.3199246 ],\n",
              "       [0.10492002, 0.74687958],\n",
              "       [0.48965807, 0.06952756],\n",
              "       [0.75793157, 0.16668225],\n",
              "       [0.94403963, 0.26633244],\n",
              "       [0.83370645, 0.83166715],\n",
              "       [0.2928927 , 0.11219237]])"
            ]
          },
          "metadata": {
            "tags": []
          },
          "execution_count": 88
        }
      ]
    },
    {
      "cell_type": "code",
      "metadata": {
        "colab": {
          "base_uri": "https://localhost:8080/"
        },
        "id": "Y2r2D0CXtb0L",
        "outputId": "864d47c2-e763-413f-84a0-386be0a29aae"
      },
      "source": [
        "np.argmax(random_array)"
      ],
      "execution_count": 89,
      "outputs": [
        {
          "output_type": "execute_result",
          "data": {
            "text/plain": [
              "4"
            ]
          },
          "metadata": {
            "tags": []
          },
          "execution_count": 89
        }
      ]
    },
    {
      "cell_type": "code",
      "metadata": {
        "colab": {
          "base_uri": "https://localhost:8080/"
        },
        "id": "1Mv9dqW0uMgb",
        "outputId": "da1ce33f-0f67-4761-97eb-8a5683730083"
      },
      "source": [
        "random_array.flatten()[8]"
      ],
      "execution_count": 90,
      "outputs": [
        {
          "output_type": "execute_result",
          "data": {
            "text/plain": [
              "0.10492001693360076"
            ]
          },
          "metadata": {
            "tags": []
          },
          "execution_count": 90
        }
      ]
    },
    {
      "cell_type": "code",
      "metadata": {
        "id": "b0SMSveltvBP"
      },
      "source": [
        "max_array = np.full((10,2), random_array.flatten()[np.argmax(random_array)])"
      ],
      "execution_count": 91,
      "outputs": []
    },
    {
      "cell_type": "code",
      "metadata": {
        "colab": {
          "base_uri": "https://localhost:8080/"
        },
        "id": "TrdZ87NkudgC",
        "outputId": "14226e99-7f29-4570-f230-7e06226afd48"
      },
      "source": [
        "max_array"
      ],
      "execution_count": 92,
      "outputs": [
        {
          "output_type": "execute_result",
          "data": {
            "text/plain": [
              "array([[0.94967992, 0.94967992],\n",
              "       [0.94967992, 0.94967992],\n",
              "       [0.94967992, 0.94967992],\n",
              "       [0.94967992, 0.94967992],\n",
              "       [0.94967992, 0.94967992],\n",
              "       [0.94967992, 0.94967992],\n",
              "       [0.94967992, 0.94967992],\n",
              "       [0.94967992, 0.94967992],\n",
              "       [0.94967992, 0.94967992],\n",
              "       [0.94967992, 0.94967992]])"
            ]
          },
          "metadata": {
            "tags": []
          },
          "execution_count": 92
        }
      ]
    },
    {
      "cell_type": "code",
      "metadata": {
        "id": "IcGJQkMcvArY"
      },
      "source": [
        "a1 = np.random.rand(4,3)\n",
        "a2 = np.random.rand(4,3)"
      ],
      "execution_count": 93,
      "outputs": []
    },
    {
      "cell_type": "code",
      "metadata": {
        "colab": {
          "base_uri": "https://localhost:8080/"
        },
        "id": "UcsGlzSjvL0B",
        "outputId": "073c83a3-ed50-4c3c-95c0-ba7ecbb05232"
      },
      "source": [
        "a1"
      ],
      "execution_count": 94,
      "outputs": [
        {
          "output_type": "execute_result",
          "data": {
            "text/plain": [
              "array([[0.6615424 , 0.4090191 , 0.28077111],\n",
              "       [0.01254286, 0.25914753, 0.13234748],\n",
              "       [0.78413683, 0.9803265 , 0.26655883],\n",
              "       [0.41129838, 0.48633653, 0.70881541]])"
            ]
          },
          "metadata": {
            "tags": []
          },
          "execution_count": 94
        }
      ]
    },
    {
      "cell_type": "code",
      "metadata": {
        "colab": {
          "base_uri": "https://localhost:8080/"
        },
        "id": "nXooguDAvMrw",
        "outputId": "d5852017-5e75-4754-c508-b5139128a7fc"
      },
      "source": [
        "a2"
      ],
      "execution_count": 95,
      "outputs": [
        {
          "output_type": "execute_result",
          "data": {
            "text/plain": [
              "array([[0.5492973 , 0.15896287, 0.19682991],\n",
              "       [0.68492201, 0.73124929, 0.96304662],\n",
              "       [0.23604908, 0.04788382, 0.68866246],\n",
              "       [0.08370815, 0.06380361, 0.75336743]])"
            ]
          },
          "metadata": {
            "tags": []
          },
          "execution_count": 95
        }
      ]
    },
    {
      "cell_type": "code",
      "metadata": {
        "id": "9jKmhiwFvsgM"
      },
      "source": [
        "a3 = a1 * a2"
      ],
      "execution_count": 96,
      "outputs": []
    },
    {
      "cell_type": "code",
      "metadata": {
        "colab": {
          "base_uri": "https://localhost:8080/"
        },
        "id": "pTkBA3lIvu4l",
        "outputId": "2d2b22d0-0125-499f-eeec-7048a32814c6"
      },
      "source": [
        "a3"
      ],
      "execution_count": 97,
      "outputs": [
        {
          "output_type": "execute_result",
          "data": {
            "text/plain": [
              "array([[0.36338345, 0.06501885, 0.05526415],\n",
              "       [0.00859088, 0.18950145, 0.12745679],\n",
              "       [0.18509478, 0.04694178, 0.18356906],\n",
              "       [0.03442903, 0.03103003, 0.53399845]])"
            ]
          },
          "metadata": {
            "tags": []
          },
          "execution_count": 97
        }
      ]
    },
    {
      "cell_type": "code",
      "metadata": {
        "colab": {
          "base_uri": "https://localhost:8080/"
        },
        "id": "CwiRCkXFvN6W",
        "outputId": "60eda373-86d3-4d4d-dbc8-568e261e8a93"
      },
      "source": [
        "np.all(a1)"
      ],
      "execution_count": 98,
      "outputs": [
        {
          "output_type": "execute_result",
          "data": {
            "text/plain": [
              "True"
            ]
          },
          "metadata": {
            "tags": []
          },
          "execution_count": 98
        }
      ]
    },
    {
      "cell_type": "code",
      "metadata": {
        "colab": {
          "base_uri": "https://localhost:8080/"
        },
        "id": "xpz3R7cGvZaf",
        "outputId": "7fb848db-e587-466b-9610-157150ae83c1"
      },
      "source": [
        "np.all(a2)"
      ],
      "execution_count": 99,
      "outputs": [
        {
          "output_type": "execute_result",
          "data": {
            "text/plain": [
              "True"
            ]
          },
          "metadata": {
            "tags": []
          },
          "execution_count": 99
        }
      ]
    },
    {
      "cell_type": "code",
      "metadata": {
        "colab": {
          "base_uri": "https://localhost:8080/"
        },
        "id": "UeAPKv8VvbDn",
        "outputId": "c3c14478-188c-42cf-a683-b61bf59aa46b"
      },
      "source": [
        "np.all(a1) and np.all(a2)"
      ],
      "execution_count": 100,
      "outputs": [
        {
          "output_type": "execute_result",
          "data": {
            "text/plain": [
              "True"
            ]
          },
          "metadata": {
            "tags": []
          },
          "execution_count": 100
        }
      ]
    },
    {
      "cell_type": "code",
      "metadata": {
        "colab": {
          "base_uri": "https://localhost:8080/",
          "height": 204
        },
        "id": "bsQm8DkFvkcy",
        "outputId": "c9705345-c483-4cfc-8c49-5481b7e2858c"
      },
      "source": [
        "data_df.head()"
      ],
      "execution_count": 101,
      "outputs": [
        {
          "output_type": "execute_result",
          "data": {
            "text/html": [
              "<div>\n",
              "<style scoped>\n",
              "    .dataframe tbody tr th:only-of-type {\n",
              "        vertical-align: middle;\n",
              "    }\n",
              "\n",
              "    .dataframe tbody tr th {\n",
              "        vertical-align: top;\n",
              "    }\n",
              "\n",
              "    .dataframe thead th {\n",
              "        text-align: right;\n",
              "    }\n",
              "</style>\n",
              "<table border=\"1\" class=\"dataframe\">\n",
              "  <thead>\n",
              "    <tr style=\"text-align: right;\">\n",
              "      <th></th>\n",
              "      <th>Gender</th>\n",
              "      <th>FSIQ</th>\n",
              "      <th>VIQ</th>\n",
              "      <th>PIQ</th>\n",
              "      <th>Weight</th>\n",
              "      <th>Height</th>\n",
              "      <th>MRI_Count</th>\n",
              "      <th>isFemale</th>\n",
              "      <th>WeightKg</th>\n",
              "      <th>HeightM</th>\n",
              "      <th>BMI</th>\n",
              "      <th>BMICategory</th>\n",
              "    </tr>\n",
              "  </thead>\n",
              "  <tbody>\n",
              "    <tr>\n",
              "      <th>1</th>\n",
              "      <td>Female</td>\n",
              "      <td>133</td>\n",
              "      <td>132</td>\n",
              "      <td>124</td>\n",
              "      <td>118.0</td>\n",
              "      <td>64.5</td>\n",
              "      <td>816932</td>\n",
              "      <td>True</td>\n",
              "      <td>53.523856</td>\n",
              "      <td>1.63830</td>\n",
              "      <td>19.941624</td>\n",
              "      <td>Normal</td>\n",
              "    </tr>\n",
              "    <tr>\n",
              "      <th>2</th>\n",
              "      <td>Male</td>\n",
              "      <td>140</td>\n",
              "      <td>150</td>\n",
              "      <td>124</td>\n",
              "      <td>NaN</td>\n",
              "      <td>72.5</td>\n",
              "      <td>1001121</td>\n",
              "      <td>False</td>\n",
              "      <td>NaN</td>\n",
              "      <td>1.84150</td>\n",
              "      <td>NaN</td>\n",
              "      <td>Underweight</td>\n",
              "    </tr>\n",
              "    <tr>\n",
              "      <th>3</th>\n",
              "      <td>Male</td>\n",
              "      <td>139</td>\n",
              "      <td>123</td>\n",
              "      <td>150</td>\n",
              "      <td>143.0</td>\n",
              "      <td>73.3</td>\n",
              "      <td>1038437</td>\n",
              "      <td>False</td>\n",
              "      <td>64.863656</td>\n",
              "      <td>1.86182</td>\n",
              "      <td>18.712251</td>\n",
              "      <td>Normal</td>\n",
              "    </tr>\n",
              "    <tr>\n",
              "      <th>4</th>\n",
              "      <td>Male</td>\n",
              "      <td>133</td>\n",
              "      <td>129</td>\n",
              "      <td>128</td>\n",
              "      <td>172.0</td>\n",
              "      <td>68.8</td>\n",
              "      <td>965353</td>\n",
              "      <td>False</td>\n",
              "      <td>78.017824</td>\n",
              "      <td>1.74752</td>\n",
              "      <td>25.547566</td>\n",
              "      <td>Overweight</td>\n",
              "    </tr>\n",
              "    <tr>\n",
              "      <th>5</th>\n",
              "      <td>Female</td>\n",
              "      <td>137</td>\n",
              "      <td>132</td>\n",
              "      <td>134</td>\n",
              "      <td>147.0</td>\n",
              "      <td>65.0</td>\n",
              "      <td>951545</td>\n",
              "      <td>True</td>\n",
              "      <td>66.678024</td>\n",
              "      <td>1.65100</td>\n",
              "      <td>24.461809</td>\n",
              "      <td>Overweight</td>\n",
              "    </tr>\n",
              "  </tbody>\n",
              "</table>\n",
              "</div>"
            ],
            "text/plain": [
              "   Gender  FSIQ  VIQ  PIQ  ...   WeightKg  HeightM        BMI  BMICategory\n",
              "1  Female   133  132  124  ...  53.523856  1.63830  19.941624       Normal\n",
              "2    Male   140  150  124  ...        NaN  1.84150        NaN  Underweight\n",
              "3    Male   139  123  150  ...  64.863656  1.86182  18.712251       Normal\n",
              "4    Male   133  129  128  ...  78.017824  1.74752  25.547566   Overweight\n",
              "5  Female   137  132  134  ...  66.678024  1.65100  24.461809   Overweight\n",
              "\n",
              "[5 rows x 12 columns]"
            ]
          },
          "metadata": {
            "tags": []
          },
          "execution_count": 101
        }
      ]
    },
    {
      "cell_type": "code",
      "metadata": {
        "id": "k3P9WsJEwddf"
      },
      "source": [
        "VIQ_array = data_df[\"VIQ\"].to_numpy()\n",
        "PIQ_array = data_df[\"PIQ\"].to_numpy()"
      ],
      "execution_count": 104,
      "outputs": []
    },
    {
      "cell_type": "code",
      "metadata": {
        "colab": {
          "base_uri": "https://localhost:8080/"
        },
        "id": "kRZyOAH4woiz",
        "outputId": "4abf08e6-b7e1-487f-bf0d-fa0a98c6b571"
      },
      "source": [
        "VIQ_array"
      ],
      "execution_count": 105,
      "outputs": [
        {
          "output_type": "execute_result",
          "data": {
            "text/plain": [
              "array([132, 150, 123, 129, 132,  90, 136,  90,  93, 114, 129, 150, 129,\n",
              "       120, 100,  71, 132,  96, 112,  77,  83, 107, 129, 145,  86, 145,\n",
              "        90,  96,  83, 126, 126, 145,  96,  96,  90, 129, 150,  86,  90,\n",
              "        91])"
            ]
          },
          "metadata": {
            "tags": []
          },
          "execution_count": 105
        }
      ]
    },
    {
      "cell_type": "code",
      "metadata": {
        "colab": {
          "base_uri": "https://localhost:8080/"
        },
        "id": "Dvsa8GbCwqNL",
        "outputId": "88578905-f123-4d7f-9830-dd44184462cd"
      },
      "source": [
        "PIQ_array"
      ],
      "execution_count": 106,
      "outputs": [
        {
          "output_type": "execute_result",
          "data": {
            "text/plain": [
              "array([124, 124, 150, 128, 134, 110, 131,  98,  84, 147, 124, 128, 124,\n",
              "       147,  90,  96, 120, 102,  84,  86,  86,  84, 134, 128, 102, 131,\n",
              "        84, 110,  72, 124, 132, 137, 110,  86,  81, 128, 124,  94,  74,\n",
              "        89])"
            ]
          },
          "metadata": {
            "tags": []
          },
          "execution_count": 106
        }
      ]
    },
    {
      "cell_type": "code",
      "metadata": {
        "colab": {
          "base_uri": "https://localhost:8080/"
        },
        "id": "8nXDG5kvww68",
        "outputId": "1d826e07-544e-4fb3-9b51-3af1bc34f76a"
      },
      "source": [
        "from scipy import stats\n",
        "stats.describe(VIQ_array)"
      ],
      "execution_count": 107,
      "outputs": [
        {
          "output_type": "execute_result",
          "data": {
            "text/plain": [
              "DescribeResult(nobs=40, minmax=(71, 150), mean=112.35, variance=557.7205128205128, skewness=0.07095935735493311, kurtosis=-1.35080775473528)"
            ]
          },
          "metadata": {
            "tags": []
          },
          "execution_count": 107
        }
      ]
    },
    {
      "cell_type": "code",
      "metadata": {
        "colab": {
          "base_uri": "https://localhost:8080/"
        },
        "id": "A_nx4tlew8qF",
        "outputId": "5342dc41-1b53-4b4d-e995-d6f3bd38cafe"
      },
      "source": [
        "stats.describe(PIQ_array)"
      ],
      "execution_count": 108,
      "outputs": [
        {
          "output_type": "execute_result",
          "data": {
            "text/plain": [
              "DescribeResult(nobs=40, minmax=(72, 150), mean=111.025, variance=504.9480769230769, skewness=-0.09736917025377417, kurtosis=-1.2857921297217902)"
            ]
          },
          "metadata": {
            "tags": []
          },
          "execution_count": 108
        }
      ]
    },
    {
      "cell_type": "code",
      "metadata": {
        "colab": {
          "base_uri": "https://localhost:8080/"
        },
        "id": "ThG9jjoSyIjF",
        "outputId": "da420c43-1d6b-4017-bbec-846c5213caba"
      },
      "source": [
        "c = np.array([[0,0,1,1],[0, 0, 1, 1],[1, 1, 0, 0],[1, 1, 0, 0]])\n",
        "c"
      ],
      "execution_count": 113,
      "outputs": [
        {
          "output_type": "execute_result",
          "data": {
            "text/plain": [
              "array([[0, 0, 1, 1],\n",
              "       [0, 0, 1, 1],\n",
              "       [1, 1, 0, 0],\n",
              "       [1, 1, 0, 0]])"
            ]
          },
          "metadata": {
            "tags": []
          },
          "execution_count": 113
        }
      ]
    },
    {
      "cell_type": "code",
      "metadata": {
        "id": "ycEwbWNrxf1K"
      },
      "source": [
        "befpad_array = np.array([[1, 1],[1, 2]])"
      ],
      "execution_count": 114,
      "outputs": []
    },
    {
      "cell_type": "code",
      "metadata": {
        "colab": {
          "base_uri": "https://localhost:8080/"
        },
        "id": "5N9K3JK-yNiE",
        "outputId": "c7211718-9776-43ff-c881-b9bfeb2c6a0f"
      },
      "source": [
        "befpad_array"
      ],
      "execution_count": 115,
      "outputs": [
        {
          "output_type": "execute_result",
          "data": {
            "text/plain": [
              "array([[1, 1],\n",
              "       [1, 2]])"
            ]
          },
          "metadata": {
            "tags": []
          },
          "execution_count": 115
        }
      ]
    },
    {
      "cell_type": "code",
      "metadata": {
        "colab": {
          "base_uri": "https://localhost:8080/"
        },
        "id": "PwcXfCgMyPKQ",
        "outputId": "2b80993c-75f1-49b3-a6c6-b19cd342e2a0"
      },
      "source": [
        "np.pad(befpad_array, 1)"
      ],
      "execution_count": 118,
      "outputs": [
        {
          "output_type": "execute_result",
          "data": {
            "text/plain": [
              "array([[0, 0, 0, 0],\n",
              "       [0, 1, 1, 0],\n",
              "       [0, 1, 2, 0],\n",
              "       [0, 0, 0, 0]])"
            ]
          },
          "metadata": {
            "tags": []
          },
          "execution_count": 118
        }
      ]
    },
    {
      "cell_type": "markdown",
      "metadata": {
        "id": "lg6uJS_HVg8L"
      },
      "source": [
        "Now that we have seen the various types of data available, let us understand the implementation of statistical inference using Python. We will use the library Scipy for the same. \n",
        "\n",
        "# Introduction to Scipy\n",
        "\n",
        "The scipy package contains various toolboxes dedicated to common issues in scientific computing. Its different submodules correspond to different applications, such as interpolation, integration, optimization, image processing, statistics, special functions, etc. \n",
        "\n",
        "Although there are some basic statistical functions in numpy (e.g., mean, std, median), the real repository for statistical functions is in ```scipy.stats```. There are over eighty continuous probability distributions implemented in ```scipy.stats``` and an additional set of more than ten discrete distributions, along with many other supplementary\n",
        "statistical functions.\n",
        "\n",
        "We will go through these distributions and also do basic hypothesis testing using ```scipy.stats```."
      ]
    },
    {
      "cell_type": "markdown",
      "metadata": {
        "id": "zBzSn6yAVg8L"
      },
      "source": [
        "## Distributions\n",
        "\n",
        "Given observations of a random process, their histogram is an estimator of the random process’s PDF (probability density function). We can use ```np.random``` for generating random samples. \n",
        "\n",
        "However here, we continue working with the data we have loaded, and fit distribution to the VIQ column of the data. We assume that the data for VIQ is drawn from normal distribution. Let us convert the VIQ column to numpy array first."
      ]
    },
    {
      "cell_type": "code",
      "metadata": {
        "id": "tLr-skmCVg8L",
        "colab": {
          "base_uri": "https://localhost:8080/"
        },
        "outputId": "de248d3b-09b2-49dc-be10-706d267135d3"
      },
      "source": [
        "samples = data_df.VIQ.to_numpy()\n",
        "samples"
      ],
      "execution_count": 119,
      "outputs": [
        {
          "output_type": "execute_result",
          "data": {
            "text/plain": [
              "array([132, 150, 123, 129, 132,  90, 136,  90,  93, 114, 129, 150, 129,\n",
              "       120, 100,  71, 132,  96, 112,  77,  83, 107, 129, 145,  86, 145,\n",
              "        90,  96,  83, 126, 126, 145,  96,  96,  90, 129, 150,  86,  90,\n",
              "        91])"
            ]
          },
          "metadata": {
            "tags": []
          },
          "execution_count": 119
        }
      ]
    },
    {
      "cell_type": "markdown",
      "metadata": {
        "id": "Q7DOQ5SsVg8L"
      },
      "source": [
        "We can now fit a normal distribution to this obeserved data. We do a maximum-likelihood fit of the observations to estimate the parameters of the underlying parameters. "
      ]
    },
    {
      "cell_type": "code",
      "metadata": {
        "id": "0BAhG8DUVg8L",
        "colab": {
          "base_uri": "https://localhost:8080/"
        },
        "outputId": "c61afaf0-39cf-405f-9e1b-cee8e60bcc1d"
      },
      "source": [
        "from scipy import stats\n",
        "\n",
        "loc, std = stats.norm.fit(samples)\n",
        "print(loc)\n",
        "print(std)"
      ],
      "execution_count": 121,
      "outputs": [
        {
          "output_type": "stream",
          "text": [
            "112.35\n",
            "23.31903728716089\n"
          ],
          "name": "stdout"
        }
      ]
    },
    {
      "cell_type": "markdown",
      "metadata": {
        "id": "V73MmESwVg8L"
      },
      "source": [
        "The mean is an estimator of the center of the distribution. The normal distribution fit by scipy should have same center as the mean of the sample as we have created a sample distribution. "
      ]
    },
    {
      "cell_type": "code",
      "metadata": {
        "id": "B7BsNzFNVg8M",
        "colab": {
          "base_uri": "https://localhost:8080/"
        },
        "outputId": "0094cbd2-e539-4322-c440-5a61abbc893d"
      },
      "source": [
        "np.mean(samples)"
      ],
      "execution_count": 122,
      "outputs": [
        {
          "output_type": "execute_result",
          "data": {
            "text/plain": [
              "112.35"
            ]
          },
          "metadata": {
            "tags": []
          },
          "execution_count": 122
        }
      ]
    },
    {
      "cell_type": "markdown",
      "metadata": {
        "id": "lVXRg7IiVg8M"
      },
      "source": [
        "The median another estimator of the center. It is the value with half of the observations below, and half above. It is essentially 50 percentile. Unlike the mean, the median is not sensitive to the tails of the distribution. It is “robust”."
      ]
    },
    {
      "cell_type": "code",
      "metadata": {
        "id": "EQrwZ4sPVg8M",
        "colab": {
          "base_uri": "https://localhost:8080/"
        },
        "outputId": "3ac12a87-f34a-4ec7-ad56-d0f1a79699c8"
      },
      "source": [
        "np.median(samples)"
      ],
      "execution_count": 123,
      "outputs": [
        {
          "output_type": "execute_result",
          "data": {
            "text/plain": [
              "113.0"
            ]
          },
          "metadata": {
            "tags": []
          },
          "execution_count": 123
        }
      ]
    },
    {
      "cell_type": "code",
      "metadata": {
        "id": "Gf9BizrdVg8M",
        "colab": {
          "base_uri": "https://localhost:8080/"
        },
        "outputId": "5abbe4dd-c849-4a8e-bdb2-53bfa5aab06d"
      },
      "source": [
        "stats.scoreatpercentile(samples, 50)"
      ],
      "execution_count": 124,
      "outputs": [
        {
          "output_type": "execute_result",
          "data": {
            "text/plain": [
              "113.0"
            ]
          },
          "metadata": {
            "tags": []
          },
          "execution_count": 124
        }
      ]
    },
    {
      "cell_type": "markdown",
      "metadata": {
        "id": "osiu3Ic7Vg8M"
      },
      "source": [
        "The percentile is an estimator of the CDF: cumulative distribution function."
      ]
    },
    {
      "cell_type": "markdown",
      "metadata": {
        "id": "MCDBDzeSVg8M"
      },
      "source": [
        "## Statistical tests using Scipy\n",
        "\n",
        "A statistical test is a decision indicator. For instance, if we have two sets of observations, that we assume are generated from Gaussian processes, we can use a T-test to decide whether the means of two sets of observations are significantly different. "
      ]
    },
    {
      "cell_type": "markdown",
      "metadata": {
        "id": "RfNDg6bbEpJ1"
      },
      "source": [
        "The t-statistic is the ratio of the departure of the estimated value of a parameter from its hypothesized value to its standard error. It is used in hypothesis testing via Student's t-test. The t-statistic is used in a t-test to determine if you should support or reject the null hypothesis. It is very similar to the Z-score but with the difference that t-statistic is used when the sample size is small or the population standard deviation is unknown. [Source: Wikipedia]"
      ]
    },
    {
      "cell_type": "markdown",
      "metadata": {
        "id": "4ejrwX1-Vg8M"
      },
      "source": [
        "Let us begin our hypothesis testing using the initial exmaple of brain data. Consider the null hypothesis that the expected value (mean) of the sample of VIQ values is equal to the given population mean. The ```ttest_1samp``` function does two-sided test and returns the T-statistic and p-value."
      ]
    },
    {
      "cell_type": "markdown",
      "metadata": {
        "id": "-wyDzFHjEwrq"
      },
      "source": [
        "The 1-sample t-test is used when we want to compare a sample mean to a population mean (which we already know). This is typically handy when we want to see if the mean has changed between the past 2 years and this current sample for a say the shopping cost of customers. A two-tailed test will test both if the mean is significantly greater than x and if the mean significantly less than x. In our example, we take the standard mean 0 as our null hypothesis."
      ]
    },
    {
      "cell_type": "code",
      "metadata": {
        "id": "vxe9mB4FVg8N",
        "colab": {
          "base_uri": "https://localhost:8080/"
        },
        "outputId": "ed20d014-12b1-4847-8c86-8d6c04afb0bd"
      },
      "source": [
        "stats.ttest_1samp(samples, 0)"
      ],
      "execution_count": 125,
      "outputs": [
        {
          "output_type": "execute_result",
          "data": {
            "text/plain": [
              "Ttest_1sampResult(statistic=30.088099970849328, pvalue=1.3289196468728067e-28)"
            ]
          },
          "metadata": {
            "tags": []
          },
          "execution_count": 125
        }
      ]
    },
    {
      "cell_type": "markdown",
      "metadata": {
        "id": "a6unxvbqE8MW"
      },
      "source": [
        "Let the significance value be 0.05. As p-value<0.05, we can reject the null hypothesis that population mean for the VIQ measure is 0."
      ]
    },
    {
      "cell_type": "markdown",
      "metadata": {
        "id": "nDQJmoahFGIP"
      },
      "source": [
        "We have already seen that the mean for VIQ is different for males and females. So we can perform a test to check if this difference is significant. We use ttest_ind function for doing a two-sided test for the null hypothesis that the two independent samples have identical average (expected) values. This test assumes that the populations have identical variances by default."
      ]
    },
    {
      "cell_type": "code",
      "metadata": {
        "colab": {
          "base_uri": "https://localhost:8080/",
          "height": 204
        },
        "id": "EvD9UGfa0UjW",
        "outputId": "f582efdc-89f9-47e1-c411-7136123d1b8a"
      },
      "source": [
        "data_df.head()"
      ],
      "execution_count": 129,
      "outputs": [
        {
          "output_type": "execute_result",
          "data": {
            "text/html": [
              "<div>\n",
              "<style scoped>\n",
              "    .dataframe tbody tr th:only-of-type {\n",
              "        vertical-align: middle;\n",
              "    }\n",
              "\n",
              "    .dataframe tbody tr th {\n",
              "        vertical-align: top;\n",
              "    }\n",
              "\n",
              "    .dataframe thead th {\n",
              "        text-align: right;\n",
              "    }\n",
              "</style>\n",
              "<table border=\"1\" class=\"dataframe\">\n",
              "  <thead>\n",
              "    <tr style=\"text-align: right;\">\n",
              "      <th></th>\n",
              "      <th>Gender</th>\n",
              "      <th>FSIQ</th>\n",
              "      <th>VIQ</th>\n",
              "      <th>PIQ</th>\n",
              "      <th>Weight</th>\n",
              "      <th>Height</th>\n",
              "      <th>MRI_Count</th>\n",
              "      <th>isFemale</th>\n",
              "      <th>WeightKg</th>\n",
              "      <th>HeightM</th>\n",
              "      <th>BMI</th>\n",
              "      <th>BMICategory</th>\n",
              "    </tr>\n",
              "  </thead>\n",
              "  <tbody>\n",
              "    <tr>\n",
              "      <th>1</th>\n",
              "      <td>Female</td>\n",
              "      <td>133</td>\n",
              "      <td>132</td>\n",
              "      <td>124</td>\n",
              "      <td>118.0</td>\n",
              "      <td>64.5</td>\n",
              "      <td>816932</td>\n",
              "      <td>True</td>\n",
              "      <td>53.523856</td>\n",
              "      <td>1.63830</td>\n",
              "      <td>19.941624</td>\n",
              "      <td>Normal</td>\n",
              "    </tr>\n",
              "    <tr>\n",
              "      <th>2</th>\n",
              "      <td>Male</td>\n",
              "      <td>140</td>\n",
              "      <td>150</td>\n",
              "      <td>124</td>\n",
              "      <td>NaN</td>\n",
              "      <td>72.5</td>\n",
              "      <td>1001121</td>\n",
              "      <td>False</td>\n",
              "      <td>NaN</td>\n",
              "      <td>1.84150</td>\n",
              "      <td>NaN</td>\n",
              "      <td>Underweight</td>\n",
              "    </tr>\n",
              "    <tr>\n",
              "      <th>3</th>\n",
              "      <td>Male</td>\n",
              "      <td>139</td>\n",
              "      <td>123</td>\n",
              "      <td>150</td>\n",
              "      <td>143.0</td>\n",
              "      <td>73.3</td>\n",
              "      <td>1038437</td>\n",
              "      <td>False</td>\n",
              "      <td>64.863656</td>\n",
              "      <td>1.86182</td>\n",
              "      <td>18.712251</td>\n",
              "      <td>Normal</td>\n",
              "    </tr>\n",
              "    <tr>\n",
              "      <th>4</th>\n",
              "      <td>Male</td>\n",
              "      <td>133</td>\n",
              "      <td>129</td>\n",
              "      <td>128</td>\n",
              "      <td>172.0</td>\n",
              "      <td>68.8</td>\n",
              "      <td>965353</td>\n",
              "      <td>False</td>\n",
              "      <td>78.017824</td>\n",
              "      <td>1.74752</td>\n",
              "      <td>25.547566</td>\n",
              "      <td>Overweight</td>\n",
              "    </tr>\n",
              "    <tr>\n",
              "      <th>5</th>\n",
              "      <td>Female</td>\n",
              "      <td>137</td>\n",
              "      <td>132</td>\n",
              "      <td>134</td>\n",
              "      <td>147.0</td>\n",
              "      <td>65.0</td>\n",
              "      <td>951545</td>\n",
              "      <td>True</td>\n",
              "      <td>66.678024</td>\n",
              "      <td>1.65100</td>\n",
              "      <td>24.461809</td>\n",
              "      <td>Overweight</td>\n",
              "    </tr>\n",
              "  </tbody>\n",
              "</table>\n",
              "</div>"
            ],
            "text/plain": [
              "   Gender  FSIQ  VIQ  PIQ  ...   WeightKg  HeightM        BMI  BMICategory\n",
              "1  Female   133  132  124  ...  53.523856  1.63830  19.941624       Normal\n",
              "2    Male   140  150  124  ...        NaN  1.84150        NaN  Underweight\n",
              "3    Male   139  123  150  ...  64.863656  1.86182  18.712251       Normal\n",
              "4    Male   133  129  128  ...  78.017824  1.74752  25.547566   Overweight\n",
              "5  Female   137  132  134  ...  66.678024  1.65100  24.461809   Overweight\n",
              "\n",
              "[5 rows x 12 columns]"
            ]
          },
          "metadata": {
            "tags": []
          },
          "execution_count": 129
        }
      ]
    },
    {
      "cell_type": "code",
      "metadata": {
        "id": "k9990igJVg8N",
        "colab": {
          "base_uri": "https://localhost:8080/"
        },
        "outputId": "f4becac9-4fca-408e-8b18-377a37e72c2a"
      },
      "source": [
        "female_viq = data_df[data_df['Gender'] == 'Female']['VIQ']\n",
        "male_viq = data_df[data_df['Gender'] == 'Male']['VIQ']\n",
        "stats.ttest_ind(female_viq, male_viq)"
      ],
      "execution_count": 126,
      "outputs": [
        {
          "output_type": "execute_result",
          "data": {
            "text/plain": [
              "Ttest_indResult(statistic=-0.7726161723275011, pvalue=0.44452876778583217)"
            ]
          },
          "metadata": {
            "tags": []
          },
          "execution_count": 126
        }
      ]
    },
    {
      "cell_type": "markdown",
      "metadata": {
        "id": "lCUoU_hHVg8N"
      },
      "source": [
        "## Practise Exercises (Optional)\n",
        "1. Check if the all IQ measures, namely FIQ, PIQ and VIQ, are significantly different from each other, pairwise. \n",
        "2. Use the ```stats.gamma.pdf``` to create a random gamma distribution. Compare mean and median on the samples of Gamma distribution. Which seems to be a better estimator?"
      ]
    },
    {
      "cell_type": "code",
      "metadata": {
        "id": "JKdALU1U0Jyv"
      },
      "source": [
        "female_fiq = data_df[data_df['Gender'] == 'Female']['FSIQ']\n",
        "male_fiq = data_df[data_df['Gender'] == 'Male']['FSIQ']\n",
        "female_piq = data_df[data_df['Gender'] == 'Female']['PIQ']\n",
        "male_piq = data_df[data_df['Gender'] == 'Male']['PIQ']"
      ],
      "execution_count": 130,
      "outputs": []
    },
    {
      "cell_type": "code",
      "metadata": {
        "colab": {
          "base_uri": "https://localhost:8080/"
        },
        "id": "dojAQXA5zvmE",
        "outputId": "ac8e0e06-2917-4431-ff0b-33bb804762e0"
      },
      "source": [
        "stats.ttest_rel(male_viq, female_viq)"
      ],
      "execution_count": 127,
      "outputs": [
        {
          "output_type": "execute_result",
          "data": {
            "text/plain": [
              "Ttest_relResult(statistic=0.7757651537250586, pvalue=0.44743691639488103)"
            ]
          },
          "metadata": {
            "tags": []
          },
          "execution_count": 127
        }
      ]
    },
    {
      "cell_type": "code",
      "metadata": {
        "colab": {
          "base_uri": "https://localhost:8080/"
        },
        "id": "Jx4ifoDE0BSX",
        "outputId": "dcae2da8-ea3e-4fe2-9d10-fb0829ddb47b"
      },
      "source": [
        "stats.ttest_rel(male_fiq, female_fiq)"
      ],
      "execution_count": 131,
      "outputs": [
        {
          "output_type": "execute_result",
          "data": {
            "text/plain": [
              "Ttest_relResult(statistic=0.3941372649631935, pvalue=0.6978683757390773)"
            ]
          },
          "metadata": {
            "tags": []
          },
          "execution_count": 131
        }
      ]
    },
    {
      "cell_type": "code",
      "metadata": {
        "colab": {
          "base_uri": "https://localhost:8080/"
        },
        "id": "annizcur0bMk",
        "outputId": "a35baa7c-59ff-422b-a5a1-231b1a81e89e"
      },
      "source": [
        "stats.ttest_rel(male_piq, female_piq)"
      ],
      "execution_count": 132,
      "outputs": [
        {
          "output_type": "execute_result",
          "data": {
            "text/plain": [
              "Ttest_relResult(statistic=0.15856195550687058, pvalue=0.8756872125369227)"
            ]
          },
          "metadata": {
            "tags": []
          },
          "execution_count": 132
        }
      ]
    },
    {
      "cell_type": "code",
      "metadata": {
        "id": "6Fsn5zQG13Pn"
      },
      "source": [
        "import matplotlib.pyplot as plt"
      ],
      "execution_count": 138,
      "outputs": []
    },
    {
      "cell_type": "code",
      "metadata": {
        "colab": {
          "base_uri": "https://localhost:8080/",
          "height": 282
        },
        "id": "nXmayGpw1iPq",
        "outputId": "430b79b9-8ff5-4d92-9208-cb17d9a90200"
      },
      "source": [
        "x = np.linspace(0,100,num=101)\n",
        "a = 1\n",
        "plt.plot(stats.gamma.pdf(x,a))"
      ],
      "execution_count": 152,
      "outputs": [
        {
          "output_type": "execute_result",
          "data": {
            "text/plain": [
              "[<matplotlib.lines.Line2D at 0x7fb3abbaf748>]"
            ]
          },
          "metadata": {
            "tags": []
          },
          "execution_count": 152
        },
        {
          "output_type": "display_data",
          "data": {
            "image/png": "[encoded data removed]",
            "text/plain": [
              "<Figure size 432x288 with 1 Axes>"
            ]
          },
          "metadata": {
            "tags": [],
            "needs_background": "light"
          }
        }
      ]
    },
    {
      "cell_type": "code",
      "metadata": {
        "colab": {
          "base_uri": "https://localhost:8080/"
        },
        "id": "DR3ln73C2YQZ",
        "outputId": "843e832f-edc4-414f-f67d-b4c15986b3e1"
      },
      "source": [
        "np.mean(stats.gamma.pdf(x,a))"
      ],
      "execution_count": 153,
      "outputs": [
        {
          "output_type": "execute_result",
          "data": {
            "text/plain": [
              "0.01566313571157749"
            ]
          },
          "metadata": {
            "tags": []
          },
          "execution_count": 153
        }
      ]
    },
    {
      "cell_type": "code",
      "metadata": {
        "colab": {
          "base_uri": "https://localhost:8080/"
        },
        "id": "r01qM4dp2ri9",
        "outputId": "43554e0d-f2b6-403c-80b7-df823db67f9c"
      },
      "source": [
        "np.median(stats.gamma.pdf(x,a))"
      ],
      "execution_count": 154,
      "outputs": [
        {
          "output_type": "execute_result",
          "data": {
            "text/plain": [
              "1.9287498479639178e-22"
            ]
          },
          "metadata": {
            "tags": []
          },
          "execution_count": 154
        }
      ]
    },
    {
      "cell_type": "code",
      "metadata": {
        "id": "YwL3R4mA0r-a"
      },
      "source": [
        ""
      ],
      "execution_count": null,
      "outputs": []
    }
  ]
}